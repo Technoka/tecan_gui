{
 "cells": [
  {
   "cell_type": "code",
   "execution_count": 1,
   "metadata": {},
   "outputs": [],
   "source": [
    "import pandas as pd\n",
    "import numpy as np\n",
    "import utils\n",
    "import Dotblot\n",
    "import GeneralDilution\n",
    "\n",
    "from importlib import reload\n",
    "import os\n",
    "import re\n",
    "import json"
   ]
  },
  {
   "cell_type": "code",
   "execution_count": null,
   "metadata": {},
   "outputs": [],
   "source": [
    "reload(utils)\n",
    "reload(Dotblot)\n",
    "dotblot_method = Dotblot.DotblotMethod()\n",
    "\n",
    "data = utils.import_excel_dotblot(r\"L:/Departements/BTDS_AD/002_AFFS/Lab Automation/09. Tecan/06. DotBlot_automation_DPP/DotBlot_automation_dilution_template_final.xlsx\")\n",
    "sample_dilution_data = data[0]\n",
    "coating_protein_dilution_data = data[1]\n",
    "pos_control_dilution_data = data[2]\n",
    "neg_control_dilution_data = data[3]"
   ]
  },
  {
   "cell_type": "code",
   "execution_count": 13,
   "metadata": {},
   "outputs": [
    {
     "name": "stdout",
     "output_type": "stream",
     "text": [
      "pos dilutions done\n",
      "neg dilutions done\n",
      "labdest: ['96 Deep Well 2ml[001]' '96 Deep Well 2ml[001]' '96 Deep Well 2ml[001]'\n",
      " '96 Deep Well 2ml[001]' '96 Deep Well 2ml[001]' '96 Deep Well 2ml[001]'\n",
      " '96 Deep Well 2ml[001]']\n",
      "destwell: [3 4 5 6 7 8 9]\n",
      "before long csv\n",
      "sample dilutions done\n",
      "sample eppendorf pos: [5, 6, 11, 12, 15, 16, 17, 18, 21, 22, 27, 28, 31, 32]\n",
      "calculated pump labware positions\n",
      "generated all GWL files\n"
     ]
    },
    {
     "data": {
      "text/plain": [
       "([1], [5, 6, 11, 12, 15, 16, 17, 18, 21, 22, 27, 28, 31, 32])"
      ]
     },
     "execution_count": 13,
     "metadata": {},
     "output_type": "execute_result"
    }
   ],
   "source": [
    "dotblot_method.pos_control_buffer = \"Assay\"\n",
    "# dotblot_method.pos_control_vial_type = 1\n",
    "dotblot_method.n_pos_control_steps = len(pos_control_dilution_data[\"Assay buffer volume\"])\n",
    "dotblot_method.sample_dilution_data = {col: sample_dilution_data[col].values.astype(float).tolist() for col in sample_dilution_data.columns}\n",
    "dotblot_method.pos_control_dilution_data = {col: pos_control_dilution_data[col].values.astype(float).tolist() for col in pos_control_dilution_data.columns}\n",
    "dotblot_method.pos_control_vial_posX = 1\n",
    "dotblot_method.main_sample_labware_type = \"Falcon15\"\n",
    "dotblot_method.main_sample_dil_destination = \"DeepWell\"\n",
    "dotblot_method.n_samples_main_dilution = 7\n",
    "dotblot_method.n_sample_dilution_steps = len(sample_dilution_data[\"Assay buffer volume\"])\n",
    "\n",
    "dotblot_method.dotblot()"
   ]
  },
  {
   "cell_type": "code",
   "execution_count": 20,
   "metadata": {},
   "outputs": [],
   "source": [
    "csv_path = r'L:\\Departements\\BTDS_AD\\002_AFFS\\Lab Automation\\09. Tecan\\01. Methods\\3. DotBlot\\2. Positive control.csv'\n",
    "\n",
    "mix_data = []\n",
    "labware_name = \"Custom holder[001]\"\n",
    "labware_pos = 1\n",
    "volume = 300\n",
    "\n",
    "for i in range(3):\n",
    "    mix_data.append([labware_name, labware_pos, labware_name, labware_pos, volume])\n",
    "\n",
    "mix_data\n",
    "mix_csv = pd.DataFrame(mix_data, columns=None)\n",
    "mix_csv\n",
    "\n",
    "original_csv = pd.read_csv(csv_path, header=None) # create dataframe from original CSV file\n",
    "final_csv = pd.concat([original_csv, mix_csv], ignore_index=True) # concatenate both dataframes into one\n",
    "final_csv.to_csv(csv_path, index=False, header=False)"
   ]
  },
  {
   "cell_type": "code",
   "execution_count": null,
   "metadata": {},
   "outputs": [],
   "source": [
    "pump_step_data_simple = [{'step_type': 'Transfer volume to wells', 'volume_amount': '100', 'liquid_type': 'DPBS', 'wells_type': 'All wells'}, {'step_type': 'Vacuum'}, {'step_type': 'Wait timer', 'wait_timer': 10.0}]\n",
    "pump_step_data = [{'step_type': 'Transfer volume to wells', 'volume_amount': '100', 'liquid_type': 'Samples', 'wells_type': 'All wells'}, {'step_type': 'Vacuum'}, {'step_type': 'Transfer volume to wells', 'volume_amount': '100', 'liquid_type': 'Coating protein', 'wells_type': 'All wells'}, {'step_type': 'Wait timer', 'wait_timer': 10.0}, {'step_type': 'Vacuum'}, {'step_type': 'Transfer volume to wells', 'volume_amount': '200', 'liquid_type': 'Blocking buffer', 'wells_type': 'All wells'}, {'step_type': 'Wait timer', 'wait_timer': 10.0}, {'step_type': 'Vacuum'}, {'step_type': 'Transfer volume to wells', 'volume_amount': '100', 'liquid_type': 'Pos/Neg control', 'wells_type': 'Only samples'}, {'step_type': 'Vacuum'}, {'step_type': 'Transfer volume to wells', 'volume_amount': '100', 'liquid_type': 'Conjugate', 'wells_type': 'All wells'}, {'step_type': 'Wait timer', 'wait_timer': 10.0}, {'step_type': 'Vacuum'}, {'step_type': 'Transfer volume to wells', 'volume_amount': '200', 'liquid_type': 'DPBS', 'wells_type': 'All wells'}, {'step_type': 'Wait timer', 'wait_timer': 5.0}, {'step_type': 'Transfer volume to wells', 'volume_amount': '200', 'liquid_type': 'DPBS', 'wells_type': 'All wells'}, {'step_type': 'Wait timer', 'wait_timer': 5.0}, {'step_type': 'Transfer volume to wells', 'volume_amount': '200', 'liquid_type': 'DPBS', 'wells_type': 'All wells'}, {'step_type': 'Wait timer', 'wait_timer': 5.0}, {'step_type': 'Vacuum'}]\n",
    "\n",
    "pump_step_data"
   ]
  },
  {
   "cell_type": "code",
   "execution_count": 14,
   "metadata": {},
   "outputs": [
    {
     "name": "stdout",
     "output_type": "stream",
     "text": [
      "{'step_type': 'Wait timer', 'wait_timer': 10.0}\n",
      "{'step_type': 'Wait timer', 'wait_timer': 10.0}\n",
      "{'step_type': 'Wait timer', 'wait_timer': 10.0}\n",
      "{'step_type': 'Wait timer', 'wait_timer': 5.0}\n",
      "{'step_type': 'Wait timer', 'wait_timer': 5.0}\n",
      "{'step_type': 'Wait timer', 'wait_timer': 5.0}\n"
     ]
    },
    {
     "data": {
      "text/html": [
       "<div>\n",
       "<style scoped>\n",
       "    .dataframe tbody tr th:only-of-type {\n",
       "        vertical-align: middle;\n",
       "    }\n",
       "\n",
       "    .dataframe tbody tr th {\n",
       "        vertical-align: top;\n",
       "    }\n",
       "\n",
       "    .dataframe thead th {\n",
       "        text-align: right;\n",
       "    }\n",
       "</style>\n",
       "<table border=\"1\" class=\"dataframe\">\n",
       "  <thead>\n",
       "    <tr style=\"text-align: right;\">\n",
       "      <th></th>\n",
       "      <th>wait_timer</th>\n",
       "    </tr>\n",
       "  </thead>\n",
       "  <tbody>\n",
       "    <tr>\n",
       "      <th>3</th>\n",
       "      <td>600.0</td>\n",
       "    </tr>\n",
       "    <tr>\n",
       "      <th>6</th>\n",
       "      <td>600.0</td>\n",
       "    </tr>\n",
       "    <tr>\n",
       "      <th>11</th>\n",
       "      <td>600.0</td>\n",
       "    </tr>\n",
       "    <tr>\n",
       "      <th>14</th>\n",
       "      <td>300.0</td>\n",
       "    </tr>\n",
       "    <tr>\n",
       "      <th>16</th>\n",
       "      <td>300.0</td>\n",
       "    </tr>\n",
       "    <tr>\n",
       "      <th>18</th>\n",
       "      <td>300.0</td>\n",
       "    </tr>\n",
       "  </tbody>\n",
       "</table>\n",
       "</div>"
      ],
      "text/plain": [
       "    wait_timer\n",
       "3        600.0\n",
       "6        600.0\n",
       "11       600.0\n",
       "14       300.0\n",
       "16       300.0\n",
       "18       300.0"
      ]
     },
     "execution_count": 14,
     "metadata": {},
     "output_type": "execute_result"
    }
   ],
   "source": [
    "timer_step_data = pd.DataFrame([], columns=[\"wait_timer\"])\n",
    "\n",
    "for i, step in enumerate(pump_step_data):\n",
    "    # print(step)\n",
    "    if step[\"step_type\"] == \"Transfer volume to wells\":\n",
    "        pass\n",
    "        # step_types.append(\"transfer\")\n",
    "        # transfer_step_data.loc[i] = (list(step.values())[1:]) # select only values from dict, ignoring first entry (step type)\n",
    "\n",
    "        # self.transfer_volume_to_wells(step[\"liquid_type\"], self.pump_lw_name, step[\"volume_amount\"], csv_number)\n",
    "        # csv_number = csv_number + 1\n",
    "\n",
    "    elif step[\"step_type\"] == \"Vacuum\":\n",
    "        pass\n",
    "        # step_types.append(\"vacuum\")\n",
    "        # vacuum_step_data.loc[i] = (list(step.values())[1:]) # select only values from dict, ignoring first entry (step type)\n",
    "    elif step[\"step_type\"] == \"Wait timer\":\n",
    "        print(step)\n",
    "        pass\n",
    "        # step_types.append(\"timer\")\n",
    "        # multiply by 60 because in Tecan the timer is in seconds and here the value is in minutes\n",
    "        timer_step_data.loc[i] = (list(step.values())[1:]) # select only values from dict, ignoring first entry (step type)\n",
    "\n",
    "timer_step_data[\"wait_timer\"] = timer_step_data[\"wait_timer\"] * 60\n",
    "\n",
    "timer_step_data\n"
   ]
  },
  {
   "cell_type": "markdown",
   "metadata": {},
   "source": [
    "### For Dotblot first try for TV-TMD-35372"
   ]
  },
  {
   "cell_type": "code",
   "execution_count": 5,
   "metadata": {},
   "outputs": [
    {
     "data": {
      "text/plain": [
       "[{'step_type': 'Transfer volume to wells',\n",
       "  'volume_amount': '200',\n",
       "  'liquid_type': 'DPBS'},\n",
       " {'step_type': 'Wait timer', 'wait_timer': 60},\n",
       " {'step_type': 'Vacuum'},\n",
       " {'step_type': 'Transfer volume to wells',\n",
       "  'volume_amount': '100',\n",
       "  'liquid_type': 'Coating protein'},\n",
       " {'step_type': 'Wait timer', 'wait_timer': 480},\n",
       " {'step_type': 'Vacuum'},\n",
       " {'step_type': 'Transfer volume to wells',\n",
       "  'volume_amount': '200',\n",
       "  'liquid_type': 'Blocking buffer'},\n",
       " {'step_type': 'Wait timer', 'wait_timer': 480},\n",
       " {'step_type': 'Vacuum'},\n",
       " {'step_type': 'Transfer volume to wells',\n",
       "  'volume_amount': '100',\n",
       "  'liquid_type': 'Pos/Neg control'},\n",
       " {'step_type': 'Transfer volume to wells',\n",
       "  'volume_amount': '100',\n",
       "  'liquid_type': 'Samples'},\n",
       " {'step_type': 'Wait timer', 'wait_timer': 600},\n",
       " {'step_type': 'Vacuum'},\n",
       " {'step_type': 'Transfer volume to wells',\n",
       "  'volume_amount': '100',\n",
       "  'liquid_type': 'Conjugate'},\n",
       " {'step_type': 'Wait timer', 'wait_timer': 480},\n",
       " {'step_type': 'Vacuum'},\n",
       " {'step_type': 'Transfer volume to wells',\n",
       "  'volume_amount': '200',\n",
       "  'liquid_type': 'DPBS'},\n",
       " {'step_type': 'Wait timer', 'wait_timer': 60},\n",
       " {'step_type': 'Vacuum'},\n",
       " {'step_type': 'Transfer volume to wells',\n",
       "  'volume_amount': '200',\n",
       "  'liquid_type': 'DPBS'},\n",
       " {'step_type': 'Wait timer', 'wait_timer': 60},\n",
       " {'step_type': 'Vacuum'},\n",
       " {'step_type': 'Transfer volume to wells',\n",
       "  'volume_amount': '200',\n",
       "  'liquid_type': 'DPBS'},\n",
       " {'step_type': 'Wait timer', 'wait_timer': 60},\n",
       " {'step_type': 'Vacuum'}]"
      ]
     },
     "execution_count": 5,
     "metadata": {},
     "output_type": "execute_result"
    }
   ],
   "source": [
    "steps = [\n",
    "         {'step_type': 'Transfer volume to wells', 'volume_amount': '200', 'liquid_type': 'DPBS'}, \n",
    "         {'step_type': 'Wait timer', 'wait_timer': 60}, {'step_type': 'Vacuum'}, \n",
    "         {'step_type': 'Transfer volume to wells', 'volume_amount': '100', 'liquid_type': 'Coating protein'}, \n",
    "         {'step_type': 'Wait timer', 'wait_timer': 480}, \n",
    "         {'step_type': 'Vacuum'}, \n",
    "         {'step_type': 'Transfer volume to wells', 'volume_amount': '200', 'liquid_type': 'Blocking buffer'}, \n",
    "         {'step_type': 'Wait timer', 'wait_timer': 480}, \n",
    "         {'step_type': 'Vacuum'}, \n",
    "         {'step_type': 'Transfer volume to wells', 'volume_amount': '100', 'liquid_type': 'Pos/Neg control'}, \n",
    "         {'step_type': 'Transfer volume to wells', 'volume_amount': '100', 'liquid_type': 'Samples'}, \n",
    "         {'step_type': 'Wait timer', 'wait_timer': 600}, \n",
    "         {'step_type': 'Vacuum'}, \n",
    "         {'step_type': 'Transfer volume to wells', 'volume_amount': '100', 'liquid_type': 'Conjugate'}, \n",
    "         {'step_type': 'Wait timer', 'wait_timer': 480}, \n",
    "         {'step_type': 'Vacuum'}, \n",
    "         {'step_type': 'Transfer volume to wells', 'volume_amount': '200', 'liquid_type': 'DPBS'}, \n",
    "         {'step_type': 'Wait timer', 'wait_timer': 60}, \n",
    "         {'step_type': 'Vacuum'},  \n",
    "         {'step_type': 'Transfer volume to wells', 'volume_amount': '200', 'liquid_type': 'DPBS'}, \n",
    "         {'step_type': 'Wait timer', 'wait_timer': 60}, \n",
    "         {'step_type': 'Vacuum'},  \n",
    "         {'step_type': 'Transfer volume to wells', 'volume_amount': '200', 'liquid_type': 'DPBS'}, \n",
    "         {'step_type': 'Wait timer', 'wait_timer': 60}, \n",
    "         {'step_type': 'Vacuum'}\n",
    "]\n",
    "\n",
    "steps"
   ]
  },
  {
   "cell_type": "code",
   "execution_count": 19,
   "metadata": {},
   "outputs": [
    {
     "name": "stdout",
     "output_type": "stream",
     "text": [
      "{'assays': [{'TV-TMD-35372': {'assay_type': 'dotblot', 'title': 'Test Method for Determining the Identity of JNJ80948543 using the Dot Blot Assay', 'step_types': [{'step_type': 'Transfer volume to wells', 'volume_amount': '200', 'liquid_type': 'DPBS'}, {'step_type': 'Wait timer', 'wait_timer': 60}, {'step_type': 'Vacuum'}, {'step_type': 'Transfer volume to wells', 'volume_amount': '100', 'liquid_type': 'Coating protein'}, {'step_type': 'Wait timer', 'wait_timer': 480}, {'step_type': 'Vacuum'}, {'step_type': 'Transfer volume to wells', 'volume_amount': '200', 'liquid_type': 'Blocking buffer'}, {'step_type': 'Wait timer', 'wait_timer': 480}, {'step_type': 'Vacuum'}, {'step_type': 'Transfer volume to wells', 'volume_amount': '100', 'liquid_type': 'Pos/Neg control'}, {'step_type': 'Transfer volume to wells', 'volume_amount': '100', 'liquid_type': 'Samples'}, {'step_type': 'Wait timer', 'wait_timer': 600}, {'step_type': 'Vacuum'}, {'step_type': 'Transfer volume to wells', 'volume_amount': '100', 'liquid_type': 'Conjugate'}, {'step_type': 'Wait timer', 'wait_timer': 480}, {'step_type': 'Vacuum'}, {'step_type': 'Transfer volume to wells', 'volume_amount': '200', 'liquid_type': 'DPBS'}, {'step_type': 'Wait timer', 'wait_timer': 60}, {'step_type': 'Vacuum'}, {'step_type': 'Transfer volume to wells', 'volume_amount': '200', 'liquid_type': 'DPBS'}, {'step_type': 'Wait timer', 'wait_timer': 60}, {'step_type': 'Vacuum'}, {'step_type': 'Transfer volume to wells', 'volume_amount': '200', 'liquid_type': 'DPBS'}, {'step_type': 'Wait timer', 'wait_timer': 60}, {'step_type': 'Vacuum'}]}}, {'test': {'assay_type': 'dotblot', 'title': 'Test Method for Determining the Identity of JNJ80948543 using the Dot Blot Assay', 'step_types': [{'step_type': 'Transfer volume to wells', 'volume_amount': '200', 'liquid_type': 'DPBS'}, {'step_type': 'Wait timer', 'wait_timer': 60}, {'step_type': 'Vacuum'}, {'step_type': 'Vacuum'}]}}]}\n"
     ]
    }
   ],
   "source": [
    "import json\n",
    "\n",
    "with open('assays.json') as f:\n",
    "    d = json.load(f)\n",
    "\n",
    "print(d)"
   ]
  },
  {
   "cell_type": "code",
   "execution_count": 28,
   "metadata": {},
   "outputs": [
    {
     "data": {
      "text/plain": [
       "['TV-TMD-35372', 'test']"
      ]
     },
     "execution_count": 28,
     "metadata": {},
     "output_type": "execute_result"
    }
   ],
   "source": [
    "assay_names = []\n",
    "for assay in d[\"assays\"]:\n",
    "    assay_names.append(list(assay.keys())[0])\n",
    "\n",
    "assay_names"
   ]
  },
  {
   "cell_type": "code",
   "execution_count": null,
   "metadata": {},
   "outputs": [],
   "source": [
    "dotblot_method.pump_steps_data = pump_step_data\n",
    "dotblot_method.sample_eppendorf_positions = [3,4,5,6]\n",
    "\n",
    "dotblot_method.generate_pump_step_instruction_files()"
   ]
  },
  {
   "cell_type": "code",
   "execution_count": 4,
   "metadata": {},
   "outputs": [],
   "source": [
    "dotblot_method.transfer_volume_to_wells(dotblot_method.dpbs_lw_name, \"96 Deep Well[001]\", 100)"
   ]
  },
  {
   "cell_type": "code",
   "execution_count": 68,
   "metadata": {},
   "outputs": [
    {
     "data": {
      "text/plain": [
       "[25, 33, 41]"
      ]
     },
     "execution_count": 68,
     "metadata": {},
     "output_type": "execute_result"
    }
   ],
   "source": [
    "pos = 9\n",
    "# each block has 24 wells, and therefore fits 8 samples in vertical order\n",
    "block = int((pos-1) / 8) # floor operation\n",
    "row = pos % 8\n",
    "if row == 0:\n",
    "    row = 8\n",
    "\n",
    "init_pos = block * 24 + row\n",
    "\n",
    "pos = [init_pos, init_pos+8, init_pos+16]\n",
    "\n",
    "pos"
   ]
  },
  {
   "cell_type": "code",
   "execution_count": 73,
   "metadata": {},
   "outputs": [
    {
     "data": {
      "text/plain": [
       "[[3, 11, 19], [4, 12, 20], [5, 13, 21], [6, 14, 22]]"
      ]
     },
     "execution_count": 73,
     "metadata": {},
     "output_type": "execute_result"
    }
   ],
   "source": [
    "dotblot_method.pump_lw_well_pos[\"samples_pos\"]"
   ]
  },
  {
   "cell_type": "code",
   "execution_count": 6,
   "metadata": {},
   "outputs": [
    {
     "data": {
      "text/plain": [
       "[{'step_type': 'Transfer volume to wells',\n",
       "  'volume_amount': '100',\n",
       "  'liquid_type': 'DPBS'},\n",
       " {'step_type': 'Wait timer', 'wait_timer': 10.0},\n",
       " {'step_type': 'Vacuum'},\n",
       " {'step_type': 'Transfer volume to wells',\n",
       "  'volume_amount': '100',\n",
       "  'liquid_type': 'Samples'},\n",
       " {'step_type': 'Wait timer', 'wait_timer': 6.0},\n",
       " {'step_type': 'Vacuum'}]"
      ]
     },
     "execution_count": 6,
     "metadata": {},
     "output_type": "execute_result"
    }
   ],
   "source": [
    "step_types = [{'step_type': 'Transfer volume to wells', 'volume_amount': '100', 'liquid_type': 'DPBS'}, {'step_type': 'Wait timer', 'wait_timer': 10.0}, {'step_type': 'Vacuum'}, {'step_type': 'Transfer volume to wells', 'volume_amount': '100', 'liquid_type': 'Samples'}, {'step_type': 'Wait timer', 'wait_timer': 6.0}, {'step_type': 'Vacuum'}]\n",
    "step_types"
   ]
  },
  {
   "cell_type": "markdown",
   "metadata": {},
   "source": [
    "#### GENERAL DILUTION TESTS"
   ]
  },
  {
   "cell_type": "code",
   "execution_count": 182,
   "metadata": {},
   "outputs": [],
   "source": [
    "reload(utils)\n",
    "reload(GeneralDilution)\n",
    "\n",
    "gen_dil = GeneralDilution.GeneralDilution()"
   ]
  },
  {
   "cell_type": "code",
   "execution_count": 183,
   "metadata": {},
   "outputs": [],
   "source": [
    "sample_dilution_data = {'Dilution step': [1.0, 2.0, 3.0], 'Initial concentration': [150.0, 0.7, 0.003], 'Withdrawn volume': [4.0, 4.0, 30.0], 'Final concentration': [0.7, 0.003, 0.0001], 'Assay buffer volume': [853.1428571428572, 929.3333333333333, 869.9999999999999], 'Sample volume': [4.0, 4.0, 30.0], 'Final Volume': [857.1428571428572, 933.3333333333333, 899.9999999999999]}\n",
    "gen_dil.sample_dilution_data = sample_dilution_data\n",
    "gen_dil.n_sample_dilution_steps = len(gen_dil.sample_dilution_data[\"Assay buffer volume\"])\n",
    "gen_dil.n_samples = 7\n",
    "gen_dil.buffer_type = \"DPBS\"\n",
    "gen_dil.sample_lw_origin = \"Falcon15\"\n",
    "gen_dil.sample_lw_dest = \"2R Vial\"\n",
    "gen_dil.used_labware_pos = dict.fromkeys(gen_dil.last_labware_pos, 0)"
   ]
  },
  {
   "cell_type": "code",
   "execution_count": 184,
   "metadata": {},
   "outputs": [
    {
     "data": {
      "text/plain": [
       "[1, 2, 3, 4, 5, 6, 7]"
      ]
     },
     "execution_count": 184,
     "metadata": {},
     "output_type": "execute_result"
    }
   ],
   "source": [
    "gen_dil.general_dilution()"
   ]
  },
  {
   "cell_type": "code",
   "execution_count": 185,
   "metadata": {},
   "outputs": [
    {
     "data": {
      "text/plain": [
       "{'Falcon15': 7,\n",
       " 'Falcon50': 0,\n",
       " 'Eppendorf': 0,\n",
       " 'DeepWell': 21,\n",
       " '2R Vial': 7,\n",
       " '8R Vial': 0,\n",
       " 'CustomVialHolder': 0,\n",
       " 'AssayBuffer': 0,\n",
       " 'DPBS': 0}"
      ]
     },
     "execution_count": 185,
     "metadata": {},
     "output_type": "execute_result"
    }
   ],
   "source": [
    "gen_dil.used_labware_pos"
   ]
  },
  {
   "cell_type": "code",
   "execution_count": 125,
   "metadata": {},
   "outputs": [
    {
     "data": {
      "text/plain": [
       "2"
      ]
     },
     "execution_count": 125,
     "metadata": {},
     "output_type": "execute_result"
    }
   ],
   "source": [
    "gen_dil.next_labware_pos(utils.LabwareNames[\"Falcon50\"])"
   ]
  },
  {
   "cell_type": "markdown",
   "metadata": {},
   "source": [
    "### VOLUME TRANSFER"
   ]
  },
  {
   "cell_type": "code",
   "execution_count": 51,
   "metadata": {},
   "outputs": [],
   "source": [
    "import VolumeTransfer\n",
    "from importlib import reload\n",
    "from utils import *"
   ]
  },
  {
   "cell_type": "code",
   "execution_count": 49,
   "metadata": {},
   "outputs": [],
   "source": [
    "reload(VolumeTransfer)\n",
    "vol_tr = VolumeTransfer.VolumeTransfer()"
   ]
  },
  {
   "cell_type": "code",
   "execution_count": null,
   "metadata": {},
   "outputs": [],
   "source": [
    "VolumeTransfer.dilution_position_def()"
   ]
  },
  {
   "cell_type": "code",
   "execution_count": 52,
   "metadata": {},
   "outputs": [
    {
     "ename": "NameError",
     "evalue": "name 'dilution_position_def' is not defined",
     "output_type": "error",
     "traceback": [
      "\u001b[1;31m---------------------------------------------------------------------------\u001b[0m",
      "\u001b[1;31mNameError\u001b[0m                                 Traceback (most recent call last)",
      "Cell \u001b[1;32mIn[52], line 8\u001b[0m\n\u001b[0;32m      5\u001b[0m vol_tr\u001b[38;5;241m.\u001b[39mvolume_transfered \u001b[38;5;241m=\u001b[39m \u001b[38;5;241m50\u001b[39m\n\u001b[0;32m      6\u001b[0m vol_tr\u001b[38;5;241m.\u001b[39mused_labware_pos \u001b[38;5;241m=\u001b[39m \u001b[38;5;28mdict\u001b[39m\u001b[38;5;241m.\u001b[39mfromkeys(vol_tr\u001b[38;5;241m.\u001b[39mused_labware_pos, \u001b[38;5;241m0\u001b[39m)\n\u001b[1;32m----> 8\u001b[0m \u001b[43mvol_tr\u001b[49m\u001b[38;5;241;43m.\u001b[39;49m\u001b[43mvolume_transfer\u001b[49m\u001b[43m(\u001b[49m\u001b[43m)\u001b[49m\n",
      "File \u001b[1;32ml:\\Departements\\BTDS_AD\\002_AFFS\\Lab Automation\\09. Tecan\\04. Tecan Custom GUI for .csv\\VolumeTransfer.py:211\u001b[0m, in \u001b[0;36mVolumeTransfer.volume_transfer\u001b[1;34m(self)\u001b[0m\n\u001b[0;32m    207\u001b[0m \u001b[38;5;66;03m# self.set_all_parameters(external)\u001b[39;00m\n\u001b[0;32m    209\u001b[0m \u001b[38;5;28mself\u001b[39m\u001b[38;5;241m.\u001b[39mcount_starting_lw_pos()\n\u001b[1;32m--> 211\u001b[0m \u001b[38;5;28mself\u001b[39m\u001b[38;5;241m.\u001b[39msample_dest_positions \u001b[38;5;241m=\u001b[39m \u001b[38;5;28;43mself\u001b[39;49m\u001b[38;5;241;43m.\u001b[39;49m\u001b[43msample_dilutions\u001b[49m\u001b[43m(\u001b[49m\u001b[43m)\u001b[49m\n\u001b[0;32m    213\u001b[0m \u001b[38;5;28;01mreturn\u001b[39;00m \u001b[38;5;28mself\u001b[39m\u001b[38;5;241m.\u001b[39msample_dest_positions\n",
      "File \u001b[1;32ml:\\Departements\\BTDS_AD\\002_AFFS\\Lab Automation\\09. Tecan\\04. Tecan Custom GUI for .csv\\VolumeTransfer.py:148\u001b[0m, in \u001b[0;36mVolumeTransfer.sample_dilutions\u001b[1;34m(self)\u001b[0m\n\u001b[0;32m    145\u001b[0m csv_number \u001b[38;5;241m=\u001b[39m \u001b[38;5;241m0\u001b[39m \u001b[38;5;66;03m# # to name generated files sequentially\u001b[39;00m\n\u001b[0;32m    146\u001b[0m dest_positions \u001b[38;5;241m=\u001b[39m [] \u001b[38;5;66;03m# list to store destination positions used for the final dilution\u001b[39;00m\n\u001b[1;32m--> 148\u001b[0m LabSource, SourceWell \u001b[38;5;241m=\u001b[39m \u001b[43mdilution_position_def\u001b[49m(\u001b[38;5;28mself\u001b[39m\u001b[38;5;241m.\u001b[39msample_lw_origin, \u001b[38;5;241m1\u001b[39m, \u001b[38;5;28mself\u001b[39m\u001b[38;5;241m.\u001b[39mn_samples)\n\u001b[0;32m    150\u001b[0m \u001b[38;5;28;01mfor\u001b[39;00m i \u001b[38;5;129;01min\u001b[39;00m \u001b[38;5;28mrange\u001b[39m(\u001b[38;5;28mself\u001b[39m\u001b[38;5;241m.\u001b[39mn_samples):\n\u001b[0;32m    151\u001b[0m     LabDest, DestWell \u001b[38;5;241m=\u001b[39m dilution_position_def(\u001b[38;5;28mself\u001b[39m\u001b[38;5;241m.\u001b[39msample_lw_dest, \u001b[38;5;28mself\u001b[39m\u001b[38;5;241m.\u001b[39mused_labware_pos[\u001b[38;5;28mself\u001b[39m\u001b[38;5;241m.\u001b[39msample_lw_dest] \u001b[38;5;241m+\u001b[39m \u001b[38;5;241m1\u001b[39m, \u001b[38;5;28mself\u001b[39m\u001b[38;5;241m.\u001b[39mn_sample_repetitions)\n",
      "\u001b[1;31mNameError\u001b[0m: name 'dilution_position_def' is not defined"
     ]
    }
   ],
   "source": [
    "vol_tr.sample_lw_origin = \"Eppendorf\"\n",
    "vol_tr.n_samples = 3\n",
    "vol_tr.sample_lw_dest = \"DeepWell\"\n",
    "vol_tr.n_sample_repetitions = 4\n",
    "vol_tr.volume_transfered = 50\n",
    "vol_tr.used_labware_pos = dict.fromkeys(vol_tr.used_labware_pos, 0) # reset dict\n",
    "\n",
    "vol_tr.volume_transfer()"
   ]
  },
  {
   "cell_type": "code",
   "execution_count": null,
   "metadata": {},
   "outputs": [],
   "source": []
  },
  {
   "cell_type": "markdown",
   "metadata": {},
   "source": [
    "#### TESTS\n"
   ]
  },
  {
   "cell_type": "code",
   "execution_count": 34,
   "metadata": {},
   "outputs": [],
   "source": [
    "step_types = []\n",
    "\n",
    "step_types.append(\"timer\")\n",
    "\n",
    "\n",
    "step_types.append(\"end\")\n",
    "\n",
    "pd.DataFrame(step_types).to_csv(\"config - step_types.csv\", header=[\"step_type\"], index=False, lineterminator=\";\\n\") # generate CSV file\n"
   ]
  },
  {
   "cell_type": "code",
   "execution_count": 57,
   "metadata": {},
   "outputs": [
    {
     "data": {
      "text/plain": [
       "{'Falcon15': 1,\n",
       " 'Falcon50': 1,\n",
       " 'Eppendorf': 1,\n",
       " 'DeepWell': 1,\n",
       " '_2R_Holder': 1,\n",
       " '_8R_Holder': 1,\n",
       " 'CustomVialHolder': 1,\n",
       " 'AssayBuffer': 1,\n",
       " 'DPBS': 1}"
      ]
     },
     "execution_count": 57,
     "metadata": {},
     "output_type": "execute_result"
    }
   ],
   "source": [
    "val = {lw: 1 for lw in utils.LabwareNames}\n",
    "\n",
    "val\n"
   ]
  },
  {
   "cell_type": "code",
   "execution_count": 1,
   "metadata": {},
   "outputs": [
    {
     "name": "stdout",
     "output_type": "stream",
     "text": [
      "[3, 2, 6, 6, 5, 3, 2, 8, 9]\n",
      "[2, 5, 3, 2]\n"
     ]
    }
   ],
   "source": [
    "# examen ivan ej 1\n",
    "\n",
    "lista = [3, 2, 6, 6, 5, 3, 2, 8, 9]\n",
    "\n",
    "if len(lista) <= 20:\n",
    "    res = []\n",
    "    prev = 0\n",
    "    sum = 0\n",
    "    for num in lista:\n",
    "        if num >= prev:\n",
    "            sum = sum + num\n",
    "\n",
    "        else:\n",
    "            if sum > 0:\n",
    "                res.append(sum)\n",
    "            else:\n",
    "                res.append(num)\n",
    "                \n",
    "        prev = num\n",
    "\n",
    "print(lista)\n",
    "print(res)\n"
   ]
  },
  {
   "cell_type": "markdown",
   "metadata": {},
   "source": [
    "## CSV to GWL converter"
   ]
  },
  {
   "cell_type": "code",
   "execution_count": 57,
   "metadata": {},
   "outputs": [],
   "source": [
    "def convert_csv_to_gwl(input_file_path, output_file_path, onetime_tip_change=False):\n",
    "    NUMBER_OF_PARTS = 5 # number of parts per instruction line in the csv file\n",
    "\n",
    "    # Open the input file in read mode and output file in write mode\n",
    "    with open(input_file_path, 'r') as input_file, open(output_file_path, 'w') as output_file:\n",
    "        # Read all lines from the input file\n",
    "        lines = input_file.readlines()\n",
    "\n",
    "        output_lines = []\n",
    "        \n",
    "        # Process each line in the input file\n",
    "        for line in lines:\n",
    "            # Strip any leading/trailing whitespace\n",
    "            line = line.strip()\n",
    "            if not line:\n",
    "                continue  # Skip empty lines\n",
    "            \n",
    "            # Split the line by commas\n",
    "            parts = line.split(',')\n",
    "            if len(parts) != NUMBER_OF_PARTS:\n",
    "                continue  # Skip lines that don't have exactly 6 parts\n",
    "            \n",
    "            # Extract the values\n",
    "            first_part = parts[0]\n",
    "            second_part = parts[1]\n",
    "            third_part = parts[2]\n",
    "            fourth_part = parts[3]\n",
    "            fifth_part = parts[4]\n",
    "            \n",
    "            # Create the three lines for the output\n",
    "            a_line = f\"A;{first_part};;;{second_part};;{fifth_part};;;;\\n\"\n",
    "            d_line = f\"D;{third_part};;;{fourth_part};;{fifth_part};;;;\\n\"\n",
    "            w_line = \"W;\\n\" # use F to flush tip remaining contents instead of changing tip, which is actually better for each round\n",
    "            \n",
    "            # Append the lines to the output lines list\n",
    "            output_lines.append(a_line)\n",
    "            output_lines.append(d_line)\n",
    "            output_lines.append(w_line)\n",
    "        \n",
    "        # If True, the W/F commands will be removed so that only 8 are left, to ensure that all tips are used and all are reused throughout the script,\n",
    "        # eliminating the unneeded W/F commands and leaving then as evenly distributed as possible.\n",
    "        if onetime_tip_change:\n",
    "            # Count the number of \"W;\" lines\n",
    "            w_lines_count = sum(1 for line in output_lines if line == \"W;\\n\")\n",
    "            \n",
    "            if w_lines_count > 8:\n",
    "                # Calculate the indices where the \"W;\" lines should be kept\n",
    "                total_lines = len(output_lines)\n",
    "                indices_to_keep = [int(i * (w_lines_count - 1) / 7) for i in range(8)]\n",
    "                \n",
    "                # Collect the indices of all \"W;\" lines\n",
    "                w_indices = [i for i, line in enumerate(output_lines) if line == \"W;\\n\"]\n",
    "                \n",
    "                # Determine which \"W;\" lines to keep based on calculated indices\n",
    "                keep_w_indices = [w_indices[i] for i in indices_to_keep]\n",
    "                \n",
    "                # Remove \"W;\" lines that are not in the keep_w_indices\n",
    "                new_output_lines = [line for i, line in enumerate(output_lines) if line != \"W;\\n\" or i in keep_w_indices]\n",
    "            else:\n",
    "                new_output_lines = output_lines\n",
    "        \n",
    "        else:\n",
    "            new_output_lines = output_lines\n",
    "\n",
    "        # Replace all \"W;\" with \"F;\" except the last \"W;\"\n",
    "        w_indices = [i for i, line in enumerate(new_output_lines) if line == \"W;\\n\"]\n",
    "        for i in w_indices[:-1]:  # Exclude the last \"W;\"\n",
    "            new_output_lines[i] = \"F;\\n\"\n",
    "\n",
    "        # Write the lines to the output file\n",
    "        output_file.writelines(new_output_lines)\n"
   ]
  },
  {
   "cell_type": "code",
   "execution_count": 26,
   "metadata": {},
   "outputs": [],
   "source": [
    "# Usage\n",
    "input_file_path = '1input.csv'  # Replace with the path to your input file\n",
    "output_file_path = '1output.gwl'  # Replace with the path to your output file\n",
    "\n",
    "convert_csv_to_gwl(input_file_path, output_file_path)"
   ]
  },
  {
   "cell_type": "code",
   "execution_count": 58,
   "metadata": {},
   "outputs": [],
   "source": [
    "def convert_all_files_in_directory(path, pattern):\n",
    "    # Define the input file pattern\n",
    "    # file_pattern = re.compile(r'3\\. Pump steps - Transfer (\\d+)\\.csv')\n",
    "    file_pattern = re.compile(pattern)\n",
    "    \n",
    "    # Iterate over all files in the directory\n",
    "    for filename in os.listdir(path):\n",
    "\n",
    "        # Check if the filename matches the pattern\n",
    "        match = file_pattern.match(filename)\n",
    "        if match:\n",
    "            # Generate the input and output file paths\n",
    "            input_file_path = os.path.join(path, filename)\n",
    "            output_file_path = os.path.join(path, f\"{filename.replace('.csv', '.gwl')}\")\n",
    "            \n",
    "            # Convert the file\n",
    "            convert_csv_to_gwl(input_file_path, output_file_path)"
   ]
  },
  {
   "cell_type": "code",
   "execution_count": 59,
   "metadata": {},
   "outputs": [],
   "source": [
    "# Usage\n",
    "directory_path = r'L:\\Departements\\BTDS_AD\\002_AFFS\\Lab Automation\\09. Tecan\\01. Methods\\3. DotBlot'  # Replace with the path to your directory\n",
    "convert_all_files_in_directory(directory_path, r\"3\\. Pump steps - Transfer (\\d+)\\.csv\")"
   ]
  },
  {
   "cell_type": "markdown",
   "metadata": {},
   "source": [
    "### JSON tests"
   ]
  },
  {
   "cell_type": "code",
   "execution_count": 23,
   "metadata": {},
   "outputs": [],
   "source": [
    "# read json file\n",
    "with open('assays.json', \"r\") as f:\n",
    "    RAW_ASSAYS_DATA = json.load(f)[\"assays\"]"
   ]
  },
  {
   "cell_type": "code",
   "execution_count": 24,
   "metadata": {},
   "outputs": [
    {
     "name": "stdout",
     "output_type": "stream",
     "text": [
      "methods: ['Dotblot', 'FIPA']\n",
      "products {'Dotblot': ['pd1', 'pd1', 'CD79'], 'FIPA': ['product3']}\n"
     ]
    }
   ],
   "source": [
    "# METHODS_LIST = [\"Dotblot\", \"FIPA\", \"DLS\", \"nDSF\"]\n",
    "# PRODUCTS_DICT = {\n",
    "#     \"Dotblot\": [\"PD1\", \"Product1_B\"],\n",
    "#     \"FIPA\": [\"Product2_A\", \"Product2_B\"],\n",
    "#     \"DLS\": [\"Product3_A\", \"Product3_B\"],\n",
    "#     \"nDSF\": [\"Product3_A\", \"Product3_B\"],\n",
    "# }\n",
    "METHODS_LIST = []\n",
    "PRODUCTS_DICT = {}\n",
    "\n",
    "for assay in RAW_ASSAYS_DATA:\n",
    "    if assay[\"method\"] not in METHODS_LIST:\n",
    "        METHODS_LIST.append(assay[\"method\"])\n",
    "    \n",
    "    if assay[\"method\"] not in PRODUCTS_DICT:\n",
    "        PRODUCTS_DICT[assay[\"method\"]] = [] # create empty list\n",
    "        \n",
    "    PRODUCTS_DICT[assay[\"method\"]].append(assay[\"product\"]) # add product to list\n",
    "\n",
    "print(\"methods:\", METHODS_LIST)\n",
    "print(\"products\", PRODUCTS_DICT)\n"
   ]
  },
  {
   "cell_type": "code",
   "execution_count": 19,
   "metadata": {},
   "outputs": [],
   "source": [
    "def get_indexes(raw_data, method, product):\n",
    "    # Find indexes of matching assays\n",
    "    matching_indexes = [\n",
    "        index for index, assay in enumerate(raw_data)\n",
    "        if assay.get('method') == method and assay.get('product') == product\n",
    "    ]\n",
    "\n",
    "    return matching_indexes"
   ]
  },
  {
   "cell_type": "code",
   "execution_count": 32,
   "metadata": {},
   "outputs": [
    {
     "data": {
      "text/plain": [
       "[3]"
      ]
     },
     "execution_count": 32,
     "metadata": {},
     "output_type": "execute_result"
    }
   ],
   "source": [
    "method = \"Dotblot\"\n",
    "product = \"CD79\"\n",
    "\n",
    "indices = get_indexes(RAW_ASSAYS_DATA, method, product)\n",
    "indices"
   ]
  },
  {
   "cell_type": "code",
   "execution_count": 34,
   "metadata": {},
   "outputs": [
    {
     "data": {
      "text/plain": [
       "'test tmd'"
      ]
     },
     "execution_count": 34,
     "metadata": {},
     "output_type": "execute_result"
    }
   ],
   "source": [
    "RAW_ASSAYS_DATA[indices[0]][\"tmd\"]"
   ]
  },
  {
   "cell_type": "markdown",
   "metadata": {},
   "source": [
    "## Calculate labware type for each reagent based on volumes used in the method"
   ]
  },
  {
   "cell_type": "code",
   "execution_count": 38,
   "metadata": {},
   "outputs": [],
   "source": [
    "step_types = [\n",
    "                {\"step_type\": \"Transfer volume to wells\", \"volume_amount\": \"200\", \"liquid_type\": \"DPBS\"}, \n",
    "                {\"step_type\": \"Wait timer\", \"wait_timer\": 60},\n",
    "                {\"step_type\": \"Vacuum\"}, \n",
    "                {\"step_type\": \"Transfer volume to wells\", \"volume_amount\": \"100\", \"liquid_type\": \"Coating protein\"}, \n",
    "                {\"step_type\": \"Wait timer\", \"wait_timer\": 480}, \n",
    "                {\"step_type\": \"Vacuum\"}, \n",
    "                {\"step_type\": \"Transfer volume to wells\", \"volume_amount\": \"200\", \"liquid_type\": \"Blocking buffer\"}, \n",
    "                {\"step_type\": \"Wait timer\", \"wait_timer\": 480}, \n",
    "                {\"step_type\": \"Vacuum\"}, \n",
    "                {\"step_type\": \"Transfer volume to wells\", \"volume_amount\": \"100\", \"liquid_type\": \"Pos/Neg control\"}, \n",
    "                {\"step_type\": \"Transfer volume to wells\", \"volume_amount\": \"100\", \"liquid_type\": \"Samples\"}, \n",
    "                {\"step_type\": \"Wait timer\", \"wait_timer\": 600}, \n",
    "                {\"step_type\": \"Vacuum\"}, \n",
    "                {\"step_type\": \"Transfer volume to wells\", \"volume_amount\": \"100\", \"liquid_type\": \"Conjugate\"}, \n",
    "                {\"step_type\": \"Wait timer\", \"wait_timer\": 480}, \n",
    "                {\"step_type\": \"Vacuum\"}, \n",
    "                {\"step_type\": \"Transfer volume to wells\", \"volume_amount\": \"200\", \"liquid_type\": \"DPBS\"}, \n",
    "                {\"step_type\": \"Wait timer\", \"wait_timer\": 60}, \n",
    "                {\"step_type\": \"Vacuum\"},  \n",
    "                {\"step_type\": \"Transfer volume to wells\", \"volume_amount\": \"200\", \"liquid_type\": \"DPBS\"}, \n",
    "                {\"step_type\": \"Wait timer\", \"wait_timer\": 60}, \n",
    "                {\"step_type\": \"Vacuum\"},  \n",
    "                {\"step_type\": \"Transfer volume to wells\", \"volume_amount\": \"200\", \"liquid_type\": \"DPBS\"}, \n",
    "                {\"step_type\": \"Wait timer\", \"wait_timer\": 60}, \n",
    "                {\"step_type\": \"Vacuum\"}]\n",
    "\n",
    "REAGENTS = [\"samples\", \"pos_ctr\", \"neg_ctr\", \"dpbs\", \"conjugate\", \"blocking_buffer\", \"coating_protein\"]\n",
    "n_samples = 4"
   ]
  },
  {
   "cell_type": "code",
   "execution_count": 52,
   "metadata": {},
   "outputs": [
    {
     "data": {
      "text/plain": [
       "{'DPBS': 0.8,\n",
       " 'Coating protein': 0.1,\n",
       " 'Blocking buffer': 0.2,\n",
       " 'Pos/Neg control': 0.1,\n",
       " 'Samples': 0.1,\n",
       " 'Conjugate': 0.1}"
      ]
     },
     "execution_count": 52,
     "metadata": {},
     "output_type": "execute_result"
    }
   ],
   "source": [
    "total_volume = {}\n",
    "\n",
    "for step in step_types:\n",
    "    if step[\"step_type\"] == \"Transfer volume to wells\":\n",
    "        if step[\"liquid_type\"] not in total_volume:\n",
    "            total_volume[step[\"liquid_type\"]] = 0 # create key\n",
    "        \n",
    "        total_volume[step[\"liquid_type\"]] = total_volume[step[\"liquid_type\"]] + float(step[\"volume_amount\"])/1000 # because volume amount is in uL and we want it in mL\n",
    "\n",
    "total_volume"
   ]
  },
  {
   "cell_type": "code",
   "execution_count": 53,
   "metadata": {},
   "outputs": [
    {
     "data": {
      "text/plain": [
       "{'DPBS': 9.6,\n",
       " 'Coating protein': 1.2,\n",
       " 'Blocking buffer': 2.4,\n",
       " 'Pos/Neg control': 1.2,\n",
       " 'Samples': 1.2,\n",
       " 'Conjugate': 1.2}"
      ]
     },
     "execution_count": 53,
     "metadata": {},
     "output_type": "execute_result"
    }
   ],
   "source": [
    "for key in total_volume:\n",
    "    total_volume[key] *= n_samples\n",
    "    total_volume[key] *= 3 # because each sample is triplicated (placed in 3 wells)\n",
    "    total_volume[key] = round(total_volume[key], 2)\n",
    "\n",
    "total_volume"
   ]
  },
  {
   "cell_type": "code",
   "execution_count": 61,
   "metadata": {},
   "outputs": [],
   "source": [
    "# labware name: dead_volume, max_volume (in mL)\n",
    "LABWARE_INFO = {\n",
    "    \"Eppendorf\": [0.2, 1.5],\n",
    "    \"Falcon15\": [0.8, 15],\n",
    "    \"100mL_reservoir\": [2, 100]\n",
    "}"
   ]
  },
  {
   "cell_type": "code",
   "execution_count": 83,
   "metadata": {},
   "outputs": [],
   "source": [
    "def find_best_container(volumes_dict, containers_dict):\n",
    "    result = {}\n",
    "    \n",
    "    for item, volume_needed in volumes_dict.items():\n",
    "        best_container = None\n",
    "        best_sum = float('inf')\n",
    "        \n",
    "        for container, (vol, cap) in containers_dict.items():\n",
    "            if volume_needed <= cap - vol:\n",
    "                current_sum = vol + cap\n",
    "                if current_sum < best_sum:\n",
    "                    best_sum = current_sum\n",
    "                    best_container = container\n",
    "        \n",
    "        if best_container:\n",
    "            result[item] = best_container\n",
    "        else:\n",
    "            result[item] = \"No suitable container\"\n",
    "    \n",
    "    return result"
   ]
  },
  {
   "cell_type": "code",
   "execution_count": 87,
   "metadata": {},
   "outputs": [],
   "source": [
    "def find_best_container(reagents_vol_dict: dict, labware_dict: dict):\n",
    "    \"\"\"\n",
    "    Assigns the best labware type for each reagent considering the volume needed.\n",
    "    \"\"\"\n",
    "\n",
    "    result = {}\n",
    "    \n",
    "    for item, volume_needed in reagents_vol_dict.items():\n",
    "        best_container = None\n",
    "        best_sum = float('inf')\n",
    "        \n",
    "        for labware, (dead_vol, max_vol) in labware_dict.items():\n",
    "            if volume_needed <= max_vol - dead_vol:\n",
    "                current_sum = max_vol - dead_vol\n",
    "                if current_sum < best_sum:\n",
    "                    best_sum = current_sum\n",
    "                    best_container = labware\n",
    "        \n",
    "        if best_container:\n",
    "            result[item] = best_container\n",
    "        else:\n",
    "            result[item] = \"VOLUME TOO BIG\"\n",
    "    \n",
    "    return result"
   ]
  },
  {
   "cell_type": "code",
   "execution_count": 97,
   "metadata": {},
   "outputs": [
    {
     "data": {
      "text/plain": [
       "{'DPBS': 'Falcon15',\n",
       " 'Coating protein': 'Eppendorf',\n",
       " 'Blocking buffer': 'Falcon15',\n",
       " 'Pos/Neg control': 'Eppendorf',\n",
       " 'Samples': 'Eppendorf',\n",
       " 'Conjugate': 'VOLUME TOO BIG'}"
      ]
     },
     "execution_count": 97,
     "metadata": {},
     "output_type": "execute_result"
    }
   ],
   "source": [
    "total_volume[\"Conjugate\"] = 14201\n",
    "\n",
    "find_best_container(total_volume, LABWARE_INFO)"
   ]
  }
 ],
 "metadata": {
  "kernelspec": {
   "display_name": "Python 3",
   "language": "python",
   "name": "python3"
  },
  "language_info": {
   "codemirror_mode": {
    "name": "ipython",
    "version": 3
   },
   "file_extension": ".py",
   "mimetype": "text/x-python",
   "name": "python",
   "nbconvert_exporter": "python",
   "pygments_lexer": "ipython3",
   "version": "3.10.4"
  }
 },
 "nbformat": 4,
 "nbformat_minor": 2
}
