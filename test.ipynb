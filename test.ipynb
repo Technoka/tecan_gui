{
 "cells": [
  {
   "cell_type": "code",
   "execution_count": 10,
   "metadata": {},
   "outputs": [],
   "source": [
    "import pandas as pd\n",
    "import numpy as np\n",
    "import helper.utils as utils\n",
    "import helper.Dotblot as Dotblot\n",
    "import helper.GeneralDilution as GeneralDilution\n",
    "import helper.ColorProjectDilutions as ColorProjectDilutions\n",
    "\n",
    "from importlib import reload\n",
    "import os\n",
    "import re\n",
    "import json"
   ]
  },
  {
   "cell_type": "code",
   "execution_count": 196,
   "metadata": {},
   "outputs": [
    {
     "data": {
      "text/plain": [
       "<module 'helper.Dotblot' from 'c:\\\\Users\\\\DPerez36\\\\OneDrive - JNJ\\\\Documents\\\\git repos\\\\tecan_gui\\\\helper\\\\Dotblot.py'>"
      ]
     },
     "execution_count": 196,
     "metadata": {},
     "output_type": "execute_result"
    }
   ],
   "source": [
    "reload(Dotblot)"
   ]
  },
  {
   "cell_type": "code",
   "execution_count": 22,
   "metadata": {},
   "outputs": [],
   "source": [
    "inp = r\"L:\\Departements\\BTDS_AD\\002_AFFS\\Lab Automation\\09. Tecan\\01. Methods\\3. DotBlot\\4. Pump steps - Transfer 1.csv\"\n",
    "out = r\"L:\\Departements\\BTDS_AD\\002_AFFS\\Lab Automation\\09. Tecan\\01. Methods\\3. DotBlot\\4. Pump steps - Transfer 1.gwl\"\n",
    "utils.convert_csv_to_gwl(inp, out, reuse_tips=True)"
   ]
  },
  {
   "cell_type": "code",
   "execution_count": 33,
   "metadata": {},
   "outputs": [
    {
     "data": {
      "text/plain": [
       "3"
      ]
     },
     "execution_count": 33,
     "metadata": {},
     "output_type": "execute_result"
    }
   ],
   "source": [
    "steps = [\n",
    "    {\"step_type\": \"Transfer volume to wells\", \"volume_amount\": \"100\", \"liquid_type\": \"Coating protein\"},\n",
    "    {\"step_type\": \"Transfer volume to wells\", \"volume_amount\": \"100\", \"liquid_type\": \"Coating protein 2\"}, \n",
    "    {\"step_type\": \"Wait timer\", \"wait_timer\": 1}, \n",
    "    {\"step_type\": \"Transfer volume to wells\", \"volume_amount\": \"100\", \"liquid_type\": \"Pos/Neg control\"}, \n",
    "    {\"step_type\": \"Transfer volume to wells\", \"volume_amount\": \"100\", \"liquid_type\": \"Samples\"}, \n",
    "    {\"step_type\": \"Wait timer\", \"wait_timer\": 1}\n",
    "]\n",
    "\n",
    "assert True in [True if step[\"step_type\"] == \"Transfer volume to wells\" and step[\"liquid_type\"] == \"Coating protein 2\" else False for step in steps]\n",
    "3\n",
    "3"
   ]
  },
  {
   "cell_type": "markdown",
   "metadata": {},
   "source": [
    "### dotblot"
   ]
  },
  {
   "cell_type": "code",
   "execution_count": 9,
   "metadata": {},
   "outputs": [],
   "source": [
    "reload(utils)\n",
    "reload(Dotblot)\n",
    "dotblot_method = Dotblot.DotblotMethod()\n",
    "\n",
    "normal_dotblot_file = r\"L:/Departements/BTDS_AD/002_AFFS/Lab Automation/09. Tecan/06. DotBlot_automation_DPP/DotBlot automation dilution data.xlsx\"\n",
    "# _2_coating_dotblot_file = r\"L:/Departements/BTDS_AD/002_AFFS/Lab Automation/09. Tecan/06. DotBlot_automation_DPP/DotBlot automation dilution data - 2 coating.xlsx\"\n",
    "\n",
    "data = utils.import_excel_dotblot(normal_dotblot_file)\n",
    "# data = utils.import_excel_dotblot_2_coating(_2_coating_dotblot_file)\n",
    "sample_dilution_data = data[0]\n",
    "coating_protein_dilution_data = data[1]\n",
    "pos_control_dilution_data = data[2]\n",
    "neg_control_dilution_data = data[3]"
   ]
  },
  {
   "cell_type": "code",
   "execution_count": 10,
   "metadata": {},
   "outputs": [
    {
     "data": {
      "text/html": [
       "<div>\n",
       "<style scoped>\n",
       "    .dataframe tbody tr th:only-of-type {\n",
       "        vertical-align: middle;\n",
       "    }\n",
       "\n",
       "    .dataframe tbody tr th {\n",
       "        vertical-align: top;\n",
       "    }\n",
       "\n",
       "    .dataframe thead th {\n",
       "        text-align: right;\n",
       "    }\n",
       "</style>\n",
       "<table border=\"1\" class=\"dataframe\">\n",
       "  <thead>\n",
       "    <tr style=\"text-align: right;\">\n",
       "      <th></th>\n",
       "      <th>Dilution step</th>\n",
       "      <th>Initial concentration</th>\n",
       "      <th>Withdrawn volume</th>\n",
       "      <th>Final concentration</th>\n",
       "      <th>Assay buffer volume</th>\n",
       "      <th>Sample volume</th>\n",
       "      <th>Final Volume</th>\n",
       "    </tr>\n",
       "  </thead>\n",
       "  <tbody>\n",
       "  </tbody>\n",
       "</table>\n",
       "</div>"
      ],
      "text/plain": [
       "Empty DataFrame\n",
       "Columns: [Dilution step, Initial concentration, Withdrawn volume, Final concentration, Assay buffer volume, Sample volume, Final Volume]\n",
       "Index: []"
      ]
     },
     "execution_count": 10,
     "metadata": {},
     "output_type": "execute_result"
    }
   ],
   "source": [
    "neg_control_dilution_data[0]"
   ]
  },
  {
   "cell_type": "markdown",
   "metadata": {},
   "source": [
    "### Generate dict from JSON assays file"
   ]
  },
  {
   "cell_type": "code",
   "execution_count": 3,
   "metadata": {},
   "outputs": [
    {
     "data": {
      "text/plain": [
       "{'assays': [{'method': 'Dotblot',\n",
       "   'product': 'CD79bxCD20xCD3',\n",
       "   'tmd': 'TV-TMD-35372 v1.3',\n",
       "   'title': 'Test Method for Determining the Identity of JNJ-80948543 using the Dot Blot Assay',\n",
       "   'has_2_coating_proteins': 'True',\n",
       "   'step_types': [{'step_type': 'Transfer volume to wells',\n",
       "     'volume_amount': '200',\n",
       "     'liquid_type': 'DPBS'},\n",
       "    {'step_type': 'Wait timer', 'wait_timer': 1},\n",
       "    {'step_type': 'Vacuum'},\n",
       "    {'step_type': 'Transfer volume to wells',\n",
       "     'volume_amount': '100',\n",
       "     'liquid_type': 'Coating protein'},\n",
       "    {'step_type': 'Transfer volume to wells',\n",
       "     'volume_amount': '100',\n",
       "     'liquid_type': 'Coating protein 2'},\n",
       "    {'step_type': 'Wait timer', 'wait_timer': 12},\n",
       "    {'step_type': 'Vacuum'},\n",
       "    {'step_type': 'Transfer volume to wells',\n",
       "     'volume_amount': '200',\n",
       "     'liquid_type': 'Blocking buffer'},\n",
       "    {'step_type': 'Wait timer', 'wait_timer': 12},\n",
       "    {'step_type': 'Vacuum'},\n",
       "    {'step_type': 'Transfer volume to wells',\n",
       "     'volume_amount': '100',\n",
       "     'liquid_type': 'Pos/Neg control'},\n",
       "    {'step_type': 'Transfer volume to wells',\n",
       "     'volume_amount': '100',\n",
       "     'liquid_type': 'Samples'},\n",
       "    {'step_type': 'Wait timer', 'wait_timer': 12},\n",
       "    {'step_type': 'Vacuum'},\n",
       "    {'step_type': 'Transfer volume to wells',\n",
       "     'volume_amount': '100',\n",
       "     'liquid_type': 'Conjugate'},\n",
       "    {'step_type': 'Wait timer', 'wait_timer': 12},\n",
       "    {'step_type': 'Vacuum'},\n",
       "    {'step_type': 'Transfer volume to wells',\n",
       "     'volume_amount': '300',\n",
       "     'liquid_type': 'DPBS'},\n",
       "    {'step_type': 'Wait timer', 'wait_timer': 1},\n",
       "    {'step_type': 'Vacuum'},\n",
       "    {'step_type': 'Transfer volume to wells',\n",
       "     'volume_amount': '300',\n",
       "     'liquid_type': 'DPBS'},\n",
       "    {'step_type': 'Wait timer', 'wait_timer': 1},\n",
       "    {'step_type': 'Vacuum'}]},\n",
       "  {'method': 'Dotblot',\n",
       "   'product': '(LAVA) CD33xVγ9δ2',\n",
       "   'tmd': 'TV-TMD-38396 v1.0',\n",
       "   'title': 'Test Method for Determining the Identity of JNJ-89853413 using the Dot Blot Assay',\n",
       "   'has_2_coating_proteins': 'False',\n",
       "   'step_types': [{'step_type': 'Transfer volume to wells',\n",
       "     'volume_amount': '200',\n",
       "     'liquid_type': 'DPBS'},\n",
       "    {'step_type': 'Wait timer', 'wait_timer': 1},\n",
       "    {'step_type': 'Vacuum'},\n",
       "    {'step_type': 'Transfer volume to wells',\n",
       "     'volume_amount': '100',\n",
       "     'liquid_type': 'Coating protein'},\n",
       "    {'step_type': 'Wait timer', 'wait_timer': 7},\n",
       "    {'step_type': 'Vacuum'},\n",
       "    {'step_type': 'Transfer volume to wells',\n",
       "     'volume_amount': '200',\n",
       "     'liquid_type': 'Blocking buffer'},\n",
       "    {'step_type': 'Wait timer', 'wait_timer': 7},\n",
       "    {'step_type': 'Vacuum'},\n",
       "    {'step_type': 'Transfer volume to wells',\n",
       "     'volume_amount': '100',\n",
       "     'liquid_type': 'Pos/Neg control'},\n",
       "    {'step_type': 'Transfer volume to wells',\n",
       "     'volume_amount': '100',\n",
       "     'liquid_type': 'Samples'},\n",
       "    {'step_type': 'Wait timer', 'wait_timer': 7},\n",
       "    {'step_type': 'Vacuum'},\n",
       "    {'step_type': 'Transfer volume to wells',\n",
       "     'volume_amount': '100',\n",
       "     'liquid_type': 'Conjugate'},\n",
       "    {'step_type': 'Wait timer', 'wait_timer': 7},\n",
       "    {'step_type': 'Vacuum'},\n",
       "    {'step_type': 'Transfer volume to wells',\n",
       "     'volume_amount': '300',\n",
       "     'liquid_type': 'DPBS'},\n",
       "    {'step_type': 'Wait timer', 'wait_timer': 1},\n",
       "    {'step_type': 'Vacuum'},\n",
       "    {'step_type': 'Transfer volume to wells',\n",
       "     'volume_amount': '300',\n",
       "     'liquid_type': 'DPBS'},\n",
       "    {'step_type': 'Wait timer', 'wait_timer': 1},\n",
       "    {'step_type': 'Vacuum'}]},\n",
       "  {'method': 'Dotblot',\n",
       "   'product': 'GPRC5DxBCMAxCD3',\n",
       "   'tmd': 'TV-TMD-35312 v2.0',\n",
       "   'title': 'Test Method for the JNJ-79635322 (GPRC5DxBCMAxCD3) Dot Blot Identification Assay',\n",
       "   'has_2_coating_proteins': 'True',\n",
       "   'step_types': [{'step_type': 'Transfer volume to wells',\n",
       "     'volume_amount': '200',\n",
       "     'liquid_type': 'DPBS'},\n",
       "    {'step_type': 'Wait timer', 'wait_timer': 1},\n",
       "    {'step_type': 'Vacuum'},\n",
       "    {'step_type': 'Transfer volume to wells',\n",
       "     'volume_amount': '100',\n",
       "     'liquid_type': 'Coating protein'},\n",
       "    {'step_type': 'Transfer volume to wells',\n",
       "     'volume_amount': '100',\n",
       "     'liquid_type': 'Coating protein 2'},\n",
       "    {'step_type': 'Wait timer', 'wait_timer': 8},\n",
       "    {'step_type': 'Vacuum'},\n",
       "    {'step_type': 'Transfer volume to wells',\n",
       "     'volume_amount': '200',\n",
       "     'liquid_type': 'Blocking buffer'},\n",
       "    {'step_type': 'Wait timer', 'wait_timer': 8},\n",
       "    {'step_type': 'Vacuum'},\n",
       "    {'step_type': 'Transfer volume to wells',\n",
       "     'volume_amount': '100',\n",
       "     'liquid_type': 'Pos/Neg control'},\n",
       "    {'step_type': 'Transfer volume to wells',\n",
       "     'volume_amount': '100',\n",
       "     'liquid_type': 'Samples'},\n",
       "    {'step_type': 'Wait timer', 'wait_timer': 8},\n",
       "    {'step_type': 'Vacuum'},\n",
       "    {'step_type': 'Transfer volume to wells',\n",
       "     'volume_amount': '100',\n",
       "     'liquid_type': 'Conjugate'},\n",
       "    {'step_type': 'Wait timer', 'wait_timer': 8},\n",
       "    {'step_type': 'Vacuum'},\n",
       "    {'step_type': 'Transfer volume to wells',\n",
       "     'volume_amount': '300',\n",
       "     'liquid_type': 'DPBS'},\n",
       "    {'step_type': 'Wait timer', 'wait_timer': 1},\n",
       "    {'step_type': 'Vacuum'},\n",
       "    {'step_type': 'Transfer volume to wells',\n",
       "     'volume_amount': '300',\n",
       "     'liquid_type': 'DPBS'},\n",
       "    {'step_type': 'Wait timer', 'wait_timer': 1},\n",
       "    {'step_type': 'Vacuum'}]},\n",
       "  {'method': 'Dotblot',\n",
       "   'product': 'VEGFR1',\n",
       "   'tmd': 'TV-TMD-35066 v1.0',\n",
       "   'title': 'Method to Determine Identity of JNJ-79032395 (Anti-VEGFR1) by Dot Blot',\n",
       "   'has_2_coating_proteins': 'False',\n",
       "   'step_types': [{'step_type': 'Transfer volume to wells',\n",
       "     'volume_amount': '200',\n",
       "     'liquid_type': 'DPBS'},\n",
       "    {'step_type': 'Wait timer', 'wait_timer': 1},\n",
       "    {'step_type': 'Vacuum'},\n",
       "    {'step_type': 'Transfer volume to wells',\n",
       "     'volume_amount': '100',\n",
       "     'liquid_type': 'Coating protein'},\n",
       "    {'step_type': 'Wait timer', 'wait_timer': 6},\n",
       "    {'step_type': 'Vacuum'},\n",
       "    {'step_type': 'Transfer volume to wells',\n",
       "     'volume_amount': '200',\n",
       "     'liquid_type': 'Blocking buffer'},\n",
       "    {'step_type': 'Wait timer', 'wait_timer': 6},\n",
       "    {'step_type': 'Vacuum'},\n",
       "    {'step_type': 'Transfer volume to wells',\n",
       "     'volume_amount': '100',\n",
       "     'liquid_type': 'Pos/Neg control'},\n",
       "    {'step_type': 'Transfer volume to wells',\n",
       "     'volume_amount': '100',\n",
       "     'liquid_type': 'Samples'},\n",
       "    {'step_type': 'Wait timer', 'wait_timer': 6},\n",
       "    {'step_type': 'Vacuum'},\n",
       "    {'step_type': 'Transfer volume to wells',\n",
       "     'volume_amount': '100',\n",
       "     'liquid_type': 'Conjugate'},\n",
       "    {'step_type': 'Wait timer', 'wait_timer': 6},\n",
       "    {'step_type': 'Vacuum'},\n",
       "    {'step_type': 'Transfer volume to wells',\n",
       "     'volume_amount': '200',\n",
       "     'liquid_type': 'DPBS'},\n",
       "    {'step_type': 'Wait timer', 'wait_timer': 1},\n",
       "    {'step_type': 'Vacuum'},\n",
       "    {'step_type': 'Transfer volume to wells',\n",
       "     'volume_amount': '300',\n",
       "     'liquid_type': 'DPBS'},\n",
       "    {'step_type': 'Wait timer', 'wait_timer': 1},\n",
       "    {'step_type': 'Vacuum'}]},\n",
       "  {'method': 'Dotblot',\n",
       "   'product': 'CNTO 4424',\n",
       "   'tmd': 'TV-TMD-15652 v3.0',\n",
       "   'title': 'JNJ-61186372 Dot Blot Identification Assay Test Method',\n",
       "   'has_2_coating_proteins': 'True',\n",
       "   'step_types': [{'step_type': 'Transfer volume to wells',\n",
       "     'volume_amount': '200',\n",
       "     'liquid_type': 'DPBS'},\n",
       "    {'step_type': 'Wait timer', 'wait_timer': 1},\n",
       "    {'step_type': 'Vacuum'},\n",
       "    {'step_type': 'Transfer volume to wells',\n",
       "     'volume_amount': '100',\n",
       "     'liquid_type': 'Coating protein'},\n",
       "    {'step_type': 'Transfer volume to wells',\n",
       "     'volume_amount': '100',\n",
       "     'liquid_type': 'Coating protein 2'},\n",
       "    {'step_type': 'Wait timer', 'wait_timer': 8},\n",
       "    {'step_type': 'Vacuum'},\n",
       "    {'step_type': 'Transfer volume to wells',\n",
       "     'volume_amount': '200',\n",
       "     'liquid_type': 'Blocking buffer'},\n",
       "    {'step_type': 'Wait timer', 'wait_timer': 8},\n",
       "    {'step_type': 'Vacuum'},\n",
       "    {'step_type': 'Transfer volume to wells',\n",
       "     'volume_amount': '100',\n",
       "     'liquid_type': 'Pos/Neg control'},\n",
       "    {'step_type': 'Transfer volume to wells',\n",
       "     'volume_amount': '100',\n",
       "     'liquid_type': 'Samples'},\n",
       "    {'step_type': 'Wait timer', 'wait_timer': 10},\n",
       "    {'step_type': 'Vacuum'},\n",
       "    {'step_type': 'Transfer volume to wells',\n",
       "     'volume_amount': '100',\n",
       "     'liquid_type': 'Conjugate'},\n",
       "    {'step_type': 'Wait timer', 'wait_timer': 8},\n",
       "    {'step_type': 'Vacuum'},\n",
       "    {'step_type': 'Transfer volume to wells',\n",
       "     'volume_amount': '300',\n",
       "     'liquid_type': 'DPBS'},\n",
       "    {'step_type': 'Wait timer', 'wait_timer': 1},\n",
       "    {'step_type': 'Vacuum'},\n",
       "    {'step_type': 'Transfer volume to wells',\n",
       "     'volume_amount': '300',\n",
       "     'liquid_type': 'DPBS'},\n",
       "    {'step_type': 'Wait timer', 'wait_timer': 1},\n",
       "    {'step_type': 'Vacuum'}]},\n",
       "  {'method': 'Dotblot',\n",
       "   'product': 'CALRmxCD3',\n",
       "   'tmd': 'TV-TMD-37123 v1.0',\n",
       "   'title': 'Dot Blot - JNJ-88549968 ID Test Method',\n",
       "   'has_2_coating_proteins': 'True',\n",
       "   'step_types': [{'step_type': 'Transfer volume to wells',\n",
       "     'volume_amount': '200',\n",
       "     'liquid_type': 'DPBS'},\n",
       "    {'step_type': 'Wait timer', 'wait_timer': 1},\n",
       "    {'step_type': 'Vacuum'},\n",
       "    {'step_type': 'Transfer volume to wells',\n",
       "     'volume_amount': '100',\n",
       "     'liquid_type': 'Coating protein'},\n",
       "    {'step_type': 'Transfer volume to wells',\n",
       "     'volume_amount': '100',\n",
       "     'liquid_type': 'Coating protein 2'},\n",
       "    {'step_type': 'Wait timer', 'wait_timer': 6},\n",
       "    {'step_type': 'Vacuum'},\n",
       "    {'step_type': 'Transfer volume to wells',\n",
       "     'volume_amount': '200',\n",
       "     'liquid_type': 'Blocking buffer'},\n",
       "    {'step_type': 'Wait timer', 'wait_timer': 6},\n",
       "    {'step_type': 'Vacuum'},\n",
       "    {'step_type': 'Transfer volume to wells',\n",
       "     'volume_amount': '100',\n",
       "     'liquid_type': 'Pos/Neg control'},\n",
       "    {'step_type': 'Transfer volume to wells',\n",
       "     'volume_amount': '100',\n",
       "     'liquid_type': 'Samples'},\n",
       "    {'step_type': 'Wait timer', 'wait_timer': 6},\n",
       "    {'step_type': 'Vacuum'},\n",
       "    {'step_type': 'Transfer volume to wells',\n",
       "     'volume_amount': '100',\n",
       "     'liquid_type': 'Conjugate'},\n",
       "    {'step_type': 'Wait timer', 'wait_timer': 6},\n",
       "    {'step_type': 'Vacuum'},\n",
       "    {'step_type': 'Transfer volume to wells',\n",
       "     'volume_amount': '300',\n",
       "     'liquid_type': 'DPBS'},\n",
       "    {'step_type': 'Wait timer', 'wait_timer': 1},\n",
       "    {'step_type': 'Vacuum'},\n",
       "    {'step_type': 'Transfer volume to wells',\n",
       "     'volume_amount': '300',\n",
       "     'liquid_type': 'DPBS'},\n",
       "    {'step_type': 'Wait timer', 'wait_timer': 1},\n",
       "    {'step_type': 'Vacuum'}]},\n",
       "  {'method': 'Dotblot',\n",
       "   'product': 'EMR2xTRBV19',\n",
       "   'tmd': 'TV-TMD-38646 v2.0',\n",
       "   'title': 'Test Method for Determining the Identity of JNJ90189892 Using the Dot Blot Assay',\n",
       "   'has_2_coating_proteins': 'True',\n",
       "   'step_types': [{'step_type': 'Transfer volume to wells',\n",
       "     'volume_amount': '200',\n",
       "     'liquid_type': 'DPBS'},\n",
       "    {'step_type': 'Wait timer', 'wait_timer': 1},\n",
       "    {'step_type': 'Vacuum'},\n",
       "    {'step_type': 'Transfer volume to wells',\n",
       "     'volume_amount': '100',\n",
       "     'liquid_type': 'Coating protein'},\n",
       "    {'step_type': 'Transfer volume to wells',\n",
       "     'volume_amount': '100',\n",
       "     'liquid_type': 'Coating protein 2'},\n",
       "    {'step_type': 'Wait timer', 'wait_timer': 12},\n",
       "    {'step_type': 'Vacuum'},\n",
       "    {'step_type': 'Transfer volume to wells',\n",
       "     'volume_amount': '200',\n",
       "     'liquid_type': 'Blocking buffer'},\n",
       "    {'step_type': 'Wait timer', 'wait_timer': 12},\n",
       "    {'step_type': 'Vacuum'},\n",
       "    {'step_type': 'Transfer volume to wells',\n",
       "     'volume_amount': '100',\n",
       "     'liquid_type': 'Pos/Neg control'},\n",
       "    {'step_type': 'Transfer volume to wells',\n",
       "     'volume_amount': '100',\n",
       "     'liquid_type': 'Samples'},\n",
       "    {'step_type': 'Wait timer', 'wait_timer': 12},\n",
       "    {'step_type': 'Vacuum'},\n",
       "    {'step_type': 'Transfer volume to wells',\n",
       "     'volume_amount': '100',\n",
       "     'liquid_type': 'Conjugate'},\n",
       "    {'step_type': 'Wait timer', 'wait_timer': 12},\n",
       "    {'step_type': 'Vacuum'},\n",
       "    {'step_type': 'Transfer volume to wells',\n",
       "     'volume_amount': '300',\n",
       "     'liquid_type': 'DPBS'},\n",
       "    {'step_type': 'Wait timer', 'wait_timer': 1},\n",
       "    {'step_type': 'Vacuum'},\n",
       "    {'step_type': 'Transfer volume to wells',\n",
       "     'volume_amount': '300',\n",
       "     'liquid_type': 'DPBS'},\n",
       "    {'step_type': 'Wait timer', 'wait_timer': 1},\n",
       "    {'step_type': 'Vacuum'}]},\n",
       "  {'method': 'Dotblot',\n",
       "   'product': 'Test product',\n",
       "   'tmd': 'No TMD.',\n",
       "   'title': 'Test Method with really small waiting times for test purposes in Tecan. Has 2 coatings.',\n",
       "   'has_2_coating_proteins': 'True',\n",
       "   'step_types': [{'step_type': 'Transfer volume to wells',\n",
       "     'volume_amount': '200',\n",
       "     'liquid_type': 'DPBS'},\n",
       "    {'step_type': 'Wait timer', 'wait_timer': 1},\n",
       "    {'step_type': 'Vacuum'},\n",
       "    {'step_type': 'Transfer volume to wells',\n",
       "     'volume_amount': '100',\n",
       "     'liquid_type': 'Coating protein'},\n",
       "    {'step_type': 'Transfer volume to wells',\n",
       "     'volume_amount': '100',\n",
       "     'liquid_type': 'Coating protein 2'},\n",
       "    {'step_type': 'Wait timer', 'wait_timer': 1},\n",
       "    {'step_type': 'Vacuum'},\n",
       "    {'step_type': 'Transfer volume to wells',\n",
       "     'volume_amount': '200',\n",
       "     'liquid_type': 'Blocking buffer'},\n",
       "    {'step_type': 'Wait timer', 'wait_timer': 1},\n",
       "    {'step_type': 'Vacuum'},\n",
       "    {'step_type': 'Transfer volume to wells',\n",
       "     'volume_amount': '100',\n",
       "     'liquid_type': 'Pos/Neg control'},\n",
       "    {'step_type': 'Transfer volume to wells',\n",
       "     'volume_amount': '100',\n",
       "     'liquid_type': 'Samples'},\n",
       "    {'step_type': 'Wait timer', 'wait_timer': 1},\n",
       "    {'step_type': 'Vacuum'},\n",
       "    {'step_type': 'Transfer volume to wells',\n",
       "     'volume_amount': '100',\n",
       "     'liquid_type': 'Conjugate'},\n",
       "    {'step_type': 'Wait timer', 'wait_timer': 1},\n",
       "    {'step_type': 'Vacuum'},\n",
       "    {'step_type': 'Transfer volume to wells',\n",
       "     'volume_amount': '300',\n",
       "     'liquid_type': 'DPBS'},\n",
       "    {'step_type': 'Wait timer', 'wait_timer': 1},\n",
       "    {'step_type': 'Vacuum'},\n",
       "    {'step_type': 'Transfer volume to wells',\n",
       "     'volume_amount': '300',\n",
       "     'liquid_type': 'DPBS'},\n",
       "    {'step_type': 'Wait timer', 'wait_timer': 1},\n",
       "    {'step_type': 'Vacuum'}]},\n",
       "  {'method': 'Dotblot',\n",
       "   'product': 'Test product not all parts.',\n",
       "   'tmd': 'No TMD.',\n",
       "   'title': 'Test Method with only some pump steps for test purposes in Tecan. Has 2 coatings.',\n",
       "   'has_2_coating_proteins': 'True',\n",
       "   'step_types': [{'step_type': 'Transfer volume to wells',\n",
       "     'volume_amount': '100',\n",
       "     'liquid_type': 'Coating protein'},\n",
       "    {'step_type': 'Transfer volume to wells',\n",
       "     'volume_amount': '100',\n",
       "     'liquid_type': 'Coating protein2'},\n",
       "    {'step_type': 'Wait timer', 'wait_timer': 1},\n",
       "    {'step_type': 'Transfer volume to wells',\n",
       "     'volume_amount': '100',\n",
       "     'liquid_type': 'Pos/Neg control'},\n",
       "    {'step_type': 'Transfer volume to wells',\n",
       "     'volume_amount': '100',\n",
       "     'liquid_type': 'Samples'},\n",
       "    {'step_type': 'Wait timer', 'wait_timer': 1}]},\n",
       "  {'method': 'FIPA',\n",
       "   'product': 'CNTO4424',\n",
       "   'tmd': 'TV-TMD-32376 v1.0',\n",
       "   'title': 'Fluorescence Intensity Protein Aggregation Assay (FIPA) for the analysis of protein aggregates in JNJ-61186372 (CNTO4424) samples'},\n",
       "  {'method': 'DLS',\n",
       "   'product': 'product???',\n",
       "   'tmd': 'TV-TEC-166007 v1.0',\n",
       "   'title': 'Dynamic Light Scattering (DLS) for the analysis of particle sizes'},\n",
       "  {'method': 'nDSF',\n",
       "   'product': 'Any product',\n",
       "   'tmd': 'TV-TEC-112062 v1.0',\n",
       "   'title': 'Research method for sample characterization using nanoDSF'},\n",
       "  {'method': 'A280 (soloVPE)',\n",
       "   'product': 'anti-CD79bxCD20xCD3',\n",
       "   'tmd': 'TV-TMD-35361 v1.0',\n",
       "   'title': 'Determination of Protein Concentration by UV Absorbance at 280 nm (Variable Pathlength) for JNJ-80948543 (anti-CD79bxCD20xCD3)'},\n",
       "  {'method': 'SEC-HPLC',\n",
       "   'product': 'CNTO 4424',\n",
       "   'tmd': 'TV-TMD-30962 v5.0',\n",
       "   'title': 'Size Exclusion HPLC Test Method for Purity Determination of JNJ-61186372 (CNTO 4424)'},\n",
       "  {'method': 'Color project',\n",
       "   'product': 'Model training tests',\n",
       "   'tmd': 'N/A',\n",
       "   'title': 'Perform dilutions to get data to train the model.'},\n",
       "  {'method': 'test_method',\n",
       "   'product': 'test_product',\n",
       "   'tmd': 'test_tmd',\n",
       "   'title': 'Test_title'}]}"
      ]
     },
     "execution_count": 3,
     "metadata": {},
     "output_type": "execute_result"
    }
   ],
   "source": [
    "\n",
    "with open(\"helper/assays.json\", \"r\") as f:\n",
    "    RAW_ASSAYS_DATA = json.load(f)\n",
    "\n",
    "RAW_ASSAYS_DATA"
   ]
  },
  {
   "cell_type": "code",
   "execution_count": 4,
   "metadata": {},
   "outputs": [
    {
     "data": {
      "text/plain": [
       "'{\"assays\": [{\"method\": \"Dotblot\", \"product\": \"CD79bxCD20xCD3\", \"tmd\": \"TV-TMD-35372 v1.3\", \"title\": \"Test Method for Determining the Identity of JNJ-80948543 using the Dot Blot Assay\", \"has_2_coating_proteins\": \"True\", \"step_types\": [{\"step_type\": \"Transfer volume to wells\", \"volume_amount\": \"200\", \"liquid_type\": \"DPBS\"}, {\"step_type\": \"Wait timer\", \"wait_timer\": 1}, {\"step_type\": \"Vacuum\"}, {\"step_type\": \"Transfer volume to wells\", \"volume_amount\": \"100\", \"liquid_type\": \"Coating protein\"}, {\"step_type\": \"Transfer volume to wells\", \"volume_amount\": \"100\", \"liquid_type\": \"Coating protein 2\"}, {\"step_type\": \"Wait timer\", \"wait_timer\": 12}, {\"step_type\": \"Vacuum\"}, {\"step_type\": \"Transfer volume to wells\", \"volume_amount\": \"200\", \"liquid_type\": \"Blocking buffer\"}, {\"step_type\": \"Wait timer\", \"wait_timer\": 12}, {\"step_type\": \"Vacuum\"}, {\"step_type\": \"Transfer volume to wells\", \"volume_amount\": \"100\", \"liquid_type\": \"Pos/Neg control\"}, {\"step_type\": \"Transfer volume to wells\", \"volume_amount\": \"100\", \"liquid_type\": \"Samples\"}, {\"step_type\": \"Wait timer\", \"wait_timer\": 12}, {\"step_type\": \"Vacuum\"}, {\"step_type\": \"Transfer volume to wells\", \"volume_amount\": \"100\", \"liquid_type\": \"Conjugate\"}, {\"step_type\": \"Wait timer\", \"wait_timer\": 12}, {\"step_type\": \"Vacuum\"}, {\"step_type\": \"Transfer volume to wells\", \"volume_amount\": \"300\", \"liquid_type\": \"DPBS\"}, {\"step_type\": \"Wait timer\", \"wait_timer\": 1}, {\"step_type\": \"Vacuum\"}, {\"step_type\": \"Transfer volume to wells\", \"volume_amount\": \"300\", \"liquid_type\": \"DPBS\"}, {\"step_type\": \"Wait timer\", \"wait_timer\": 1}, {\"step_type\": \"Vacuum\"}]}, {\"method\": \"Dotblot\", \"product\": \"(LAVA) CD33xV\\\\u03b39\\\\u03b42\", \"tmd\": \"TV-TMD-38396 v1.0\", \"title\": \"Test Method for Determining the Identity of JNJ-89853413 using the Dot Blot Assay\", \"has_2_coating_proteins\": \"False\", \"step_types\": [{\"step_type\": \"Transfer volume to wells\", \"volume_amount\": \"200\", \"liquid_type\": \"DPBS\"}, {\"step_type\": \"Wait timer\", \"wait_timer\": 1}, {\"step_type\": \"Vacuum\"}, {\"step_type\": \"Transfer volume to wells\", \"volume_amount\": \"100\", \"liquid_type\": \"Coating protein\"}, {\"step_type\": \"Wait timer\", \"wait_timer\": 7}, {\"step_type\": \"Vacuum\"}, {\"step_type\": \"Transfer volume to wells\", \"volume_amount\": \"200\", \"liquid_type\": \"Blocking buffer\"}, {\"step_type\": \"Wait timer\", \"wait_timer\": 7}, {\"step_type\": \"Vacuum\"}, {\"step_type\": \"Transfer volume to wells\", \"volume_amount\": \"100\", \"liquid_type\": \"Pos/Neg control\"}, {\"step_type\": \"Transfer volume to wells\", \"volume_amount\": \"100\", \"liquid_type\": \"Samples\"}, {\"step_type\": \"Wait timer\", \"wait_timer\": 7}, {\"step_type\": \"Vacuum\"}, {\"step_type\": \"Transfer volume to wells\", \"volume_amount\": \"100\", \"liquid_type\": \"Conjugate\"}, {\"step_type\": \"Wait timer\", \"wait_timer\": 7}, {\"step_type\": \"Vacuum\"}, {\"step_type\": \"Transfer volume to wells\", \"volume_amount\": \"300\", \"liquid_type\": \"DPBS\"}, {\"step_type\": \"Wait timer\", \"wait_timer\": 1}, {\"step_type\": \"Vacuum\"}, {\"step_type\": \"Transfer volume to wells\", \"volume_amount\": \"300\", \"liquid_type\": \"DPBS\"}, {\"step_type\": \"Wait timer\", \"wait_timer\": 1}, {\"step_type\": \"Vacuum\"}]}, {\"method\": \"Dotblot\", \"product\": \"GPRC5DxBCMAxCD3\", \"tmd\": \"TV-TMD-35312 v2.0\", \"title\": \"Test Method for the JNJ-79635322 (GPRC5DxBCMAxCD3) Dot Blot Identification Assay\", \"has_2_coating_proteins\": \"True\", \"step_types\": [{\"step_type\": \"Transfer volume to wells\", \"volume_amount\": \"200\", \"liquid_type\": \"DPBS\"}, {\"step_type\": \"Wait timer\", \"wait_timer\": 1}, {\"step_type\": \"Vacuum\"}, {\"step_type\": \"Transfer volume to wells\", \"volume_amount\": \"100\", \"liquid_type\": \"Coating protein\"}, {\"step_type\": \"Transfer volume to wells\", \"volume_amount\": \"100\", \"liquid_type\": \"Coating protein 2\"}, {\"step_type\": \"Wait timer\", \"wait_timer\": 8}, {\"step_type\": \"Vacuum\"}, {\"step_type\": \"Transfer volume to wells\", \"volume_amount\": \"200\", \"liquid_type\": \"Blocking buffer\"}, {\"step_type\": \"Wait timer\", \"wait_timer\": 8}, {\"step_type\": \"Vacuum\"}, {\"step_type\": \"Transfer volume to wells\", \"volume_amount\": \"100\", \"liquid_type\": \"Pos/Neg control\"}, {\"step_type\": \"Transfer volume to wells\", \"volume_amount\": \"100\", \"liquid_type\": \"Samples\"}, {\"step_type\": \"Wait timer\", \"wait_timer\": 8}, {\"step_type\": \"Vacuum\"}, {\"step_type\": \"Transfer volume to wells\", \"volume_amount\": \"100\", \"liquid_type\": \"Conjugate\"}, {\"step_type\": \"Wait timer\", \"wait_timer\": 8}, {\"step_type\": \"Vacuum\"}, {\"step_type\": \"Transfer volume to wells\", \"volume_amount\": \"300\", \"liquid_type\": \"DPBS\"}, {\"step_type\": \"Wait timer\", \"wait_timer\": 1}, {\"step_type\": \"Vacuum\"}, {\"step_type\": \"Transfer volume to wells\", \"volume_amount\": \"300\", \"liquid_type\": \"DPBS\"}, {\"step_type\": \"Wait timer\", \"wait_timer\": 1}, {\"step_type\": \"Vacuum\"}]}, {\"method\": \"Dotblot\", \"product\": \"VEGFR1\", \"tmd\": \"TV-TMD-35066 v1.0\", \"title\": \"Method to Determine Identity of JNJ-79032395 (Anti-VEGFR1) by Dot Blot\", \"has_2_coating_proteins\": \"False\", \"step_types\": [{\"step_type\": \"Transfer volume to wells\", \"volume_amount\": \"200\", \"liquid_type\": \"DPBS\"}, {\"step_type\": \"Wait timer\", \"wait_timer\": 1}, {\"step_type\": \"Vacuum\"}, {\"step_type\": \"Transfer volume to wells\", \"volume_amount\": \"100\", \"liquid_type\": \"Coating protein\"}, {\"step_type\": \"Wait timer\", \"wait_timer\": 6}, {\"step_type\": \"Vacuum\"}, {\"step_type\": \"Transfer volume to wells\", \"volume_amount\": \"200\", \"liquid_type\": \"Blocking buffer\"}, {\"step_type\": \"Wait timer\", \"wait_timer\": 6}, {\"step_type\": \"Vacuum\"}, {\"step_type\": \"Transfer volume to wells\", \"volume_amount\": \"100\", \"liquid_type\": \"Pos/Neg control\"}, {\"step_type\": \"Transfer volume to wells\", \"volume_amount\": \"100\", \"liquid_type\": \"Samples\"}, {\"step_type\": \"Wait timer\", \"wait_timer\": 6}, {\"step_type\": \"Vacuum\"}, {\"step_type\": \"Transfer volume to wells\", \"volume_amount\": \"100\", \"liquid_type\": \"Conjugate\"}, {\"step_type\": \"Wait timer\", \"wait_timer\": 6}, {\"step_type\": \"Vacuum\"}, {\"step_type\": \"Transfer volume to wells\", \"volume_amount\": \"200\", \"liquid_type\": \"DPBS\"}, {\"step_type\": \"Wait timer\", \"wait_timer\": 1}, {\"step_type\": \"Vacuum\"}, {\"step_type\": \"Transfer volume to wells\", \"volume_amount\": \"300\", \"liquid_type\": \"DPBS\"}, {\"step_type\": \"Wait timer\", \"wait_timer\": 1}, {\"step_type\": \"Vacuum\"}]}, {\"method\": \"Dotblot\", \"product\": \"CNTO 4424\", \"tmd\": \"TV-TMD-15652 v3.0\", \"title\": \"JNJ-61186372 Dot Blot Identification Assay Test Method\", \"has_2_coating_proteins\": \"True\", \"step_types\": [{\"step_type\": \"Transfer volume to wells\", \"volume_amount\": \"200\", \"liquid_type\": \"DPBS\"}, {\"step_type\": \"Wait timer\", \"wait_timer\": 1}, {\"step_type\": \"Vacuum\"}, {\"step_type\": \"Transfer volume to wells\", \"volume_amount\": \"100\", \"liquid_type\": \"Coating protein\"}, {\"step_type\": \"Transfer volume to wells\", \"volume_amount\": \"100\", \"liquid_type\": \"Coating protein 2\"}, {\"step_type\": \"Wait timer\", \"wait_timer\": 8}, {\"step_type\": \"Vacuum\"}, {\"step_type\": \"Transfer volume to wells\", \"volume_amount\": \"200\", \"liquid_type\": \"Blocking buffer\"}, {\"step_type\": \"Wait timer\", \"wait_timer\": 8}, {\"step_type\": \"Vacuum\"}, {\"step_type\": \"Transfer volume to wells\", \"volume_amount\": \"100\", \"liquid_type\": \"Pos/Neg control\"}, {\"step_type\": \"Transfer volume to wells\", \"volume_amount\": \"100\", \"liquid_type\": \"Samples\"}, {\"step_type\": \"Wait timer\", \"wait_timer\": 10}, {\"step_type\": \"Vacuum\"}, {\"step_type\": \"Transfer volume to wells\", \"volume_amount\": \"100\", \"liquid_type\": \"Conjugate\"}, {\"step_type\": \"Wait timer\", \"wait_timer\": 8}, {\"step_type\": \"Vacuum\"}, {\"step_type\": \"Transfer volume to wells\", \"volume_amount\": \"300\", \"liquid_type\": \"DPBS\"}, {\"step_type\": \"Wait timer\", \"wait_timer\": 1}, {\"step_type\": \"Vacuum\"}, {\"step_type\": \"Transfer volume to wells\", \"volume_amount\": \"300\", \"liquid_type\": \"DPBS\"}, {\"step_type\": \"Wait timer\", \"wait_timer\": 1}, {\"step_type\": \"Vacuum\"}]}, {\"method\": \"Dotblot\", \"product\": \"CALRmxCD3\", \"tmd\": \"TV-TMD-37123 v1.0\", \"title\": \"Dot Blot - JNJ-88549968 ID Test Method\", \"has_2_coating_proteins\": \"True\", \"step_types\": [{\"step_type\": \"Transfer volume to wells\", \"volume_amount\": \"200\", \"liquid_type\": \"DPBS\"}, {\"step_type\": \"Wait timer\", \"wait_timer\": 1}, {\"step_type\": \"Vacuum\"}, {\"step_type\": \"Transfer volume to wells\", \"volume_amount\": \"100\", \"liquid_type\": \"Coating protein\"}, {\"step_type\": \"Transfer volume to wells\", \"volume_amount\": \"100\", \"liquid_type\": \"Coating protein 2\"}, {\"step_type\": \"Wait timer\", \"wait_timer\": 6}, {\"step_type\": \"Vacuum\"}, {\"step_type\": \"Transfer volume to wells\", \"volume_amount\": \"200\", \"liquid_type\": \"Blocking buffer\"}, {\"step_type\": \"Wait timer\", \"wait_timer\": 6}, {\"step_type\": \"Vacuum\"}, {\"step_type\": \"Transfer volume to wells\", \"volume_amount\": \"100\", \"liquid_type\": \"Pos/Neg control\"}, {\"step_type\": \"Transfer volume to wells\", \"volume_amount\": \"100\", \"liquid_type\": \"Samples\"}, {\"step_type\": \"Wait timer\", \"wait_timer\": 6}, {\"step_type\": \"Vacuum\"}, {\"step_type\": \"Transfer volume to wells\", \"volume_amount\": \"100\", \"liquid_type\": \"Conjugate\"}, {\"step_type\": \"Wait timer\", \"wait_timer\": 6}, {\"step_type\": \"Vacuum\"}, {\"step_type\": \"Transfer volume to wells\", \"volume_amount\": \"300\", \"liquid_type\": \"DPBS\"}, {\"step_type\": \"Wait timer\", \"wait_timer\": 1}, {\"step_type\": \"Vacuum\"}, {\"step_type\": \"Transfer volume to wells\", \"volume_amount\": \"300\", \"liquid_type\": \"DPBS\"}, {\"step_type\": \"Wait timer\", \"wait_timer\": 1}, {\"step_type\": \"Vacuum\"}]}, {\"method\": \"Dotblot\", \"product\": \"EMR2xTRBV19\", \"tmd\": \"TV-TMD-38646 v2.0\", \"title\": \"Test Method for Determining the Identity of JNJ90189892 Using the Dot Blot Assay\", \"has_2_coating_proteins\": \"True\", \"step_types\": [{\"step_type\": \"Transfer volume to wells\", \"volume_amount\": \"200\", \"liquid_type\": \"DPBS\"}, {\"step_type\": \"Wait timer\", \"wait_timer\": 1}, {\"step_type\": \"Vacuum\"}, {\"step_type\": \"Transfer volume to wells\", \"volume_amount\": \"100\", \"liquid_type\": \"Coating protein\"}, {\"step_type\": \"Transfer volume to wells\", \"volume_amount\": \"100\", \"liquid_type\": \"Coating protein 2\"}, {\"step_type\": \"Wait timer\", \"wait_timer\": 12}, {\"step_type\": \"Vacuum\"}, {\"step_type\": \"Transfer volume to wells\", \"volume_amount\": \"200\", \"liquid_type\": \"Blocking buffer\"}, {\"step_type\": \"Wait timer\", \"wait_timer\": 12}, {\"step_type\": \"Vacuum\"}, {\"step_type\": \"Transfer volume to wells\", \"volume_amount\": \"100\", \"liquid_type\": \"Pos/Neg control\"}, {\"step_type\": \"Transfer volume to wells\", \"volume_amount\": \"100\", \"liquid_type\": \"Samples\"}, {\"step_type\": \"Wait timer\", \"wait_timer\": 12}, {\"step_type\": \"Vacuum\"}, {\"step_type\": \"Transfer volume to wells\", \"volume_amount\": \"100\", \"liquid_type\": \"Conjugate\"}, {\"step_type\": \"Wait timer\", \"wait_timer\": 12}, {\"step_type\": \"Vacuum\"}, {\"step_type\": \"Transfer volume to wells\", \"volume_amount\": \"300\", \"liquid_type\": \"DPBS\"}, {\"step_type\": \"Wait timer\", \"wait_timer\": 1}, {\"step_type\": \"Vacuum\"}, {\"step_type\": \"Transfer volume to wells\", \"volume_amount\": \"300\", \"liquid_type\": \"DPBS\"}, {\"step_type\": \"Wait timer\", \"wait_timer\": 1}, {\"step_type\": \"Vacuum\"}]}, {\"method\": \"Dotblot\", \"product\": \"Test product\", \"tmd\": \"No TMD.\", \"title\": \"Test Method with really small waiting times for test purposes in Tecan. Has 2 coatings.\", \"has_2_coating_proteins\": \"True\", \"step_types\": [{\"step_type\": \"Transfer volume to wells\", \"volume_amount\": \"200\", \"liquid_type\": \"DPBS\"}, {\"step_type\": \"Wait timer\", \"wait_timer\": 1}, {\"step_type\": \"Vacuum\"}, {\"step_type\": \"Transfer volume to wells\", \"volume_amount\": \"100\", \"liquid_type\": \"Coating protein\"}, {\"step_type\": \"Transfer volume to wells\", \"volume_amount\": \"100\", \"liquid_type\": \"Coating protein 2\"}, {\"step_type\": \"Wait timer\", \"wait_timer\": 1}, {\"step_type\": \"Vacuum\"}, {\"step_type\": \"Transfer volume to wells\", \"volume_amount\": \"200\", \"liquid_type\": \"Blocking buffer\"}, {\"step_type\": \"Wait timer\", \"wait_timer\": 1}, {\"step_type\": \"Vacuum\"}, {\"step_type\": \"Transfer volume to wells\", \"volume_amount\": \"100\", \"liquid_type\": \"Pos/Neg control\"}, {\"step_type\": \"Transfer volume to wells\", \"volume_amount\": \"100\", \"liquid_type\": \"Samples\"}, {\"step_type\": \"Wait timer\", \"wait_timer\": 1}, {\"step_type\": \"Vacuum\"}, {\"step_type\": \"Transfer volume to wells\", \"volume_amount\": \"100\", \"liquid_type\": \"Conjugate\"}, {\"step_type\": \"Wait timer\", \"wait_timer\": 1}, {\"step_type\": \"Vacuum\"}, {\"step_type\": \"Transfer volume to wells\", \"volume_amount\": \"300\", \"liquid_type\": \"DPBS\"}, {\"step_type\": \"Wait timer\", \"wait_timer\": 1}, {\"step_type\": \"Vacuum\"}, {\"step_type\": \"Transfer volume to wells\", \"volume_amount\": \"300\", \"liquid_type\": \"DPBS\"}, {\"step_type\": \"Wait timer\", \"wait_timer\": 1}, {\"step_type\": \"Vacuum\"}]}, {\"method\": \"Dotblot\", \"product\": \"Test product not all parts.\", \"tmd\": \"No TMD.\", \"title\": \"Test Method with only some pump steps for test purposes in Tecan. Has 2 coatings.\", \"has_2_coating_proteins\": \"True\", \"step_types\": [{\"step_type\": \"Transfer volume to wells\", \"volume_amount\": \"100\", \"liquid_type\": \"Coating protein\"}, {\"step_type\": \"Transfer volume to wells\", \"volume_amount\": \"100\", \"liquid_type\": \"Coating protein2\"}, {\"step_type\": \"Wait timer\", \"wait_timer\": 1}, {\"step_type\": \"Transfer volume to wells\", \"volume_amount\": \"100\", \"liquid_type\": \"Pos/Neg control\"}, {\"step_type\": \"Transfer volume to wells\", \"volume_amount\": \"100\", \"liquid_type\": \"Samples\"}, {\"step_type\": \"Wait timer\", \"wait_timer\": 1}]}, {\"method\": \"FIPA\", \"product\": \"CNTO4424\", \"tmd\": \"TV-TMD-32376 v1.0\", \"title\": \"Fluorescence Intensity Protein Aggregation Assay (FIPA) for the analysis of protein aggregates in JNJ-61186372 (CNTO4424) samples\"}, {\"method\": \"DLS\", \"product\": \"product???\", \"tmd\": \"TV-TEC-166007 v1.0\", \"title\": \"Dynamic Light Scattering (DLS) for the analysis of particle sizes\"}, {\"method\": \"nDSF\", \"product\": \"Any product\", \"tmd\": \"TV-TEC-112062 v1.0\", \"title\": \"Research method for sample characterization using nanoDSF\"}, {\"method\": \"A280 (soloVPE)\", \"product\": \"anti-CD79bxCD20xCD3\", \"tmd\": \"TV-TMD-35361 v1.0\", \"title\": \"Determination of Protein Concentration by UV Absorbance at 280 nm (Variable Pathlength) for JNJ-80948543 (anti-CD79bxCD20xCD3)\"}, {\"method\": \"SEC-HPLC\", \"product\": \"CNTO 4424\", \"tmd\": \"TV-TMD-30962 v5.0\", \"title\": \"Size Exclusion HPLC Test Method for Purity Determination of JNJ-61186372 (CNTO 4424)\"}, {\"method\": \"Color project\", \"product\": \"Model training tests\", \"tmd\": \"N/A\", \"title\": \"Perform dilutions to get data to train the model.\"}, {\"method\": \"test_method\", \"product\": \"test_product\", \"tmd\": \"test_tmd\", \"title\": \"Test_title\"}]}'"
      ]
     },
     "execution_count": 4,
     "metadata": {},
     "output_type": "execute_result"
    }
   ],
   "source": [
    "dict_multiline = {'assays': [{'method': 'Dotblot',\n",
    "   'product': 'CD79bxCD20xCD3',\n",
    "   'tmd': 'TV-TMD-35372 v1.3',\n",
    "   'title': 'Test Method for Determining the Identity of JNJ-80948543 using the Dot Blot Assay',\n",
    "   'has_2_coating_proteins': 'True',\n",
    "   'step_types': [{'step_type': 'Transfer volume to wells',\n",
    "     'volume_amount': '200',\n",
    "     'liquid_type': 'DPBS'},\n",
    "    {'step_type': 'Wait timer', 'wait_timer': 1},\n",
    "    {'step_type': 'Vacuum'},\n",
    "    {'step_type': 'Transfer volume to wells',\n",
    "     'volume_amount': '100',\n",
    "     'liquid_type': 'Coating protein'},\n",
    "    {'step_type': 'Transfer volume to wells',\n",
    "     'volume_amount': '100',\n",
    "     'liquid_type': 'Coating protein 2'},\n",
    "    {'step_type': 'Wait timer', 'wait_timer': 12},\n",
    "    {'step_type': 'Vacuum'},\n",
    "    {'step_type': 'Transfer volume to wells',\n",
    "     'volume_amount': '200',\n",
    "     'liquid_type': 'Blocking buffer'},\n",
    "    {'step_type': 'Wait timer', 'wait_timer': 12},\n",
    "    {'step_type': 'Vacuum'},\n",
    "    {'step_type': 'Transfer volume to wells',\n",
    "     'volume_amount': '100',\n",
    "     'liquid_type': 'Pos/Neg control'},\n",
    "    {'step_type': 'Transfer volume to wells',\n",
    "     'volume_amount': '100',\n",
    "     'liquid_type': 'Samples'},\n",
    "    {'step_type': 'Wait timer', 'wait_timer': 12},\n",
    "    {'step_type': 'Vacuum'},\n",
    "    {'step_type': 'Transfer volume to wells',\n",
    "     'volume_amount': '100',\n",
    "     'liquid_type': 'Conjugate'},\n",
    "    {'step_type': 'Wait timer', 'wait_timer': 12},\n",
    "    {'step_type': 'Vacuum'},\n",
    "    {'step_type': 'Transfer volume to wells',\n",
    "     'volume_amount': '300',\n",
    "     'liquid_type': 'DPBS'},\n",
    "    {'step_type': 'Wait timer', 'wait_timer': 1},\n",
    "    {'step_type': 'Vacuum'},\n",
    "    {'step_type': 'Transfer volume to wells',\n",
    "     'volume_amount': '300',\n",
    "     'liquid_type': 'DPBS'},\n",
    "    {'step_type': 'Wait timer', 'wait_timer': 1},\n",
    "    {'step_type': 'Vacuum'}]},\n",
    "  {'method': 'Dotblot',\n",
    "   'product': '(LAVA) CD33xVγ9δ2',\n",
    "   'tmd': 'TV-TMD-38396 v1.0',\n",
    "   'title': 'Test Method for Determining the Identity of JNJ-89853413 using the Dot Blot Assay',\n",
    "   'has_2_coating_proteins': 'False',\n",
    "   'step_types': [{'step_type': 'Transfer volume to wells',\n",
    "     'volume_amount': '200',\n",
    "     'liquid_type': 'DPBS'},\n",
    "    {'step_type': 'Wait timer', 'wait_timer': 1},\n",
    "    {'step_type': 'Vacuum'},\n",
    "    {'step_type': 'Transfer volume to wells',\n",
    "     'volume_amount': '100',\n",
    "     'liquid_type': 'Coating protein'},\n",
    "    {'step_type': 'Wait timer', 'wait_timer': 7},\n",
    "    {'step_type': 'Vacuum'},\n",
    "    {'step_type': 'Transfer volume to wells',\n",
    "     'volume_amount': '200',\n",
    "     'liquid_type': 'Blocking buffer'},\n",
    "    {'step_type': 'Wait timer', 'wait_timer': 7},\n",
    "    {'step_type': 'Vacuum'},\n",
    "    {'step_type': 'Transfer volume to wells',\n",
    "     'volume_amount': '100',\n",
    "     'liquid_type': 'Pos/Neg control'},\n",
    "    {'step_type': 'Transfer volume to wells',\n",
    "     'volume_amount': '100',\n",
    "     'liquid_type': 'Samples'},\n",
    "    {'step_type': 'Wait timer', 'wait_timer': 7},\n",
    "    {'step_type': 'Vacuum'},\n",
    "    {'step_type': 'Transfer volume to wells',\n",
    "     'volume_amount': '100',\n",
    "     'liquid_type': 'Conjugate'},\n",
    "    {'step_type': 'Wait timer', 'wait_timer': 7},\n",
    "    {'step_type': 'Vacuum'},\n",
    "    {'step_type': 'Transfer volume to wells',\n",
    "     'volume_amount': '300',\n",
    "     'liquid_type': 'DPBS'},\n",
    "    {'step_type': 'Wait timer', 'wait_timer': 1},\n",
    "    {'step_type': 'Vacuum'},\n",
    "    {'step_type': 'Transfer volume to wells',\n",
    "     'volume_amount': '300',\n",
    "     'liquid_type': 'DPBS'},\n",
    "    {'step_type': 'Wait timer', 'wait_timer': 1},\n",
    "    {'step_type': 'Vacuum'}]},\n",
    "  {'method': 'Dotblot',\n",
    "   'product': 'GPRC5DxBCMAxCD3',\n",
    "   'tmd': 'TV-TMD-35312 v2.0',\n",
    "   'title': 'Test Method for the JNJ-79635322 (GPRC5DxBCMAxCD3) Dot Blot Identification Assay',\n",
    "   'has_2_coating_proteins': 'True',\n",
    "   'step_types': [{'step_type': 'Transfer volume to wells',\n",
    "     'volume_amount': '200',\n",
    "     'liquid_type': 'DPBS'},\n",
    "    {'step_type': 'Wait timer', 'wait_timer': 1},\n",
    "    {'step_type': 'Vacuum'},\n",
    "    {'step_type': 'Transfer volume to wells',\n",
    "     'volume_amount': '100',\n",
    "     'liquid_type': 'Coating protein'},\n",
    "    {'step_type': 'Transfer volume to wells',\n",
    "     'volume_amount': '100',\n",
    "     'liquid_type': 'Coating protein 2'},\n",
    "    {'step_type': 'Wait timer', 'wait_timer': 8},\n",
    "    {'step_type': 'Vacuum'},\n",
    "    {'step_type': 'Transfer volume to wells',\n",
    "     'volume_amount': '200',\n",
    "     'liquid_type': 'Blocking buffer'},\n",
    "    {'step_type': 'Wait timer', 'wait_timer': 8},\n",
    "    {'step_type': 'Vacuum'},\n",
    "    {'step_type': 'Transfer volume to wells',\n",
    "     'volume_amount': '100',\n",
    "     'liquid_type': 'Pos/Neg control'},\n",
    "    {'step_type': 'Transfer volume to wells',\n",
    "     'volume_amount': '100',\n",
    "     'liquid_type': 'Samples'},\n",
    "    {'step_type': 'Wait timer', 'wait_timer': 8},\n",
    "    {'step_type': 'Vacuum'},\n",
    "    {'step_type': 'Transfer volume to wells',\n",
    "     'volume_amount': '100',\n",
    "     'liquid_type': 'Conjugate'},\n",
    "    {'step_type': 'Wait timer', 'wait_timer': 8},\n",
    "    {'step_type': 'Vacuum'},\n",
    "    {'step_type': 'Transfer volume to wells',\n",
    "     'volume_amount': '300',\n",
    "     'liquid_type': 'DPBS'},\n",
    "    {'step_type': 'Wait timer', 'wait_timer': 1},\n",
    "    {'step_type': 'Vacuum'},\n",
    "    {'step_type': 'Transfer volume to wells',\n",
    "     'volume_amount': '300',\n",
    "     'liquid_type': 'DPBS'},\n",
    "    {'step_type': 'Wait timer', 'wait_timer': 1},\n",
    "    {'step_type': 'Vacuum'}]},\n",
    "  {'method': 'Dotblot',\n",
    "   'product': 'VEGFR1',\n",
    "   'tmd': 'TV-TMD-35066 v1.0',\n",
    "   'title': 'Method to Determine Identity of JNJ-79032395 (Anti-VEGFR1) by Dot Blot',\n",
    "   'has_2_coating_proteins': 'False',\n",
    "   'step_types': [{'step_type': 'Transfer volume to wells',\n",
    "     'volume_amount': '200',\n",
    "     'liquid_type': 'DPBS'},\n",
    "    {'step_type': 'Wait timer', 'wait_timer': 1},\n",
    "    {'step_type': 'Vacuum'},\n",
    "    {'step_type': 'Transfer volume to wells',\n",
    "     'volume_amount': '100',\n",
    "     'liquid_type': 'Coating protein'},\n",
    "    {'step_type': 'Wait timer', 'wait_timer': 6},\n",
    "    {'step_type': 'Vacuum'},\n",
    "    {'step_type': 'Transfer volume to wells',\n",
    "     'volume_amount': '200',\n",
    "     'liquid_type': 'Blocking buffer'},\n",
    "    {'step_type': 'Wait timer', 'wait_timer': 6},\n",
    "    {'step_type': 'Vacuum'},\n",
    "    {'step_type': 'Transfer volume to wells',\n",
    "     'volume_amount': '100',\n",
    "     'liquid_type': 'Pos/Neg control'},\n",
    "    {'step_type': 'Transfer volume to wells',\n",
    "     'volume_amount': '100',\n",
    "     'liquid_type': 'Samples'},\n",
    "    {'step_type': 'Wait timer', 'wait_timer': 6},\n",
    "    {'step_type': 'Vacuum'},\n",
    "    {'step_type': 'Transfer volume to wells',\n",
    "     'volume_amount': '100',\n",
    "     'liquid_type': 'Conjugate'},\n",
    "    {'step_type': 'Wait timer', 'wait_timer': 6},\n",
    "    {'step_type': 'Vacuum'},\n",
    "    {'step_type': 'Transfer volume to wells',\n",
    "     'volume_amount': '200',\n",
    "     'liquid_type': 'DPBS'},\n",
    "    {'step_type': 'Wait timer', 'wait_timer': 1},\n",
    "    {'step_type': 'Vacuum'},\n",
    "    {'step_type': 'Transfer volume to wells',\n",
    "     'volume_amount': '300',\n",
    "     'liquid_type': 'DPBS'},\n",
    "    {'step_type': 'Wait timer', 'wait_timer': 1},\n",
    "    {'step_type': 'Vacuum'}]},\n",
    "  {'method': 'Dotblot',\n",
    "   'product': 'CNTO 4424',\n",
    "   'tmd': 'TV-TMD-15652 v3.0',\n",
    "   'title': 'JNJ-61186372 Dot Blot Identification Assay Test Method',\n",
    "   'has_2_coating_proteins': 'True',\n",
    "   'step_types': [{'step_type': 'Transfer volume to wells',\n",
    "     'volume_amount': '200',\n",
    "     'liquid_type': 'DPBS'},\n",
    "    {'step_type': 'Wait timer', 'wait_timer': 1},\n",
    "    {'step_type': 'Vacuum'},\n",
    "    {'step_type': 'Transfer volume to wells',\n",
    "     'volume_amount': '100',\n",
    "     'liquid_type': 'Coating protein'},\n",
    "    {'step_type': 'Transfer volume to wells',\n",
    "     'volume_amount': '100',\n",
    "     'liquid_type': 'Coating protein 2'},\n",
    "    {'step_type': 'Wait timer', 'wait_timer': 8},\n",
    "    {'step_type': 'Vacuum'},\n",
    "    {'step_type': 'Transfer volume to wells',\n",
    "     'volume_amount': '200',\n",
    "     'liquid_type': 'Blocking buffer'},\n",
    "    {'step_type': 'Wait timer', 'wait_timer': 8},\n",
    "    {'step_type': 'Vacuum'},\n",
    "    {'step_type': 'Transfer volume to wells',\n",
    "     'volume_amount': '100',\n",
    "     'liquid_type': 'Pos/Neg control'},\n",
    "    {'step_type': 'Transfer volume to wells',\n",
    "     'volume_amount': '100',\n",
    "     'liquid_type': 'Samples'},\n",
    "    {'step_type': 'Wait timer', 'wait_timer': 10},\n",
    "    {'step_type': 'Vacuum'},\n",
    "    {'step_type': 'Transfer volume to wells',\n",
    "     'volume_amount': '100',\n",
    "     'liquid_type': 'Conjugate'},\n",
    "    {'step_type': 'Wait timer', 'wait_timer': 8},\n",
    "    {'step_type': 'Vacuum'},\n",
    "    {'step_type': 'Transfer volume to wells',\n",
    "     'volume_amount': '300',\n",
    "     'liquid_type': 'DPBS'},\n",
    "    {'step_type': 'Wait timer', 'wait_timer': 1},\n",
    "    {'step_type': 'Vacuum'},\n",
    "    {'step_type': 'Transfer volume to wells',\n",
    "     'volume_amount': '300',\n",
    "     'liquid_type': 'DPBS'},\n",
    "    {'step_type': 'Wait timer', 'wait_timer': 1},\n",
    "    {'step_type': 'Vacuum'}]},\n",
    "  {'method': 'Dotblot',\n",
    "   'product': 'CALRmxCD3',\n",
    "   'tmd': 'TV-TMD-37123 v1.0',\n",
    "   'title': 'Dot Blot - JNJ-88549968 ID Test Method',\n",
    "   'has_2_coating_proteins': 'True',\n",
    "   'step_types': [{'step_type': 'Transfer volume to wells',\n",
    "     'volume_amount': '200',\n",
    "     'liquid_type': 'DPBS'},\n",
    "    {'step_type': 'Wait timer', 'wait_timer': 1},\n",
    "    {'step_type': 'Vacuum'},\n",
    "    {'step_type': 'Transfer volume to wells',\n",
    "     'volume_amount': '100',\n",
    "     'liquid_type': 'Coating protein'},\n",
    "    {'step_type': 'Transfer volume to wells',\n",
    "     'volume_amount': '100',\n",
    "     'liquid_type': 'Coating protein 2'},\n",
    "    {'step_type': 'Wait timer', 'wait_timer': 6},\n",
    "    {'step_type': 'Vacuum'},\n",
    "    {'step_type': 'Transfer volume to wells',\n",
    "     'volume_amount': '200',\n",
    "     'liquid_type': 'Blocking buffer'},\n",
    "    {'step_type': 'Wait timer', 'wait_timer': 6},\n",
    "    {'step_type': 'Vacuum'},\n",
    "    {'step_type': 'Transfer volume to wells',\n",
    "     'volume_amount': '100',\n",
    "     'liquid_type': 'Pos/Neg control'},\n",
    "    {'step_type': 'Transfer volume to wells',\n",
    "     'volume_amount': '100',\n",
    "     'liquid_type': 'Samples'},\n",
    "    {'step_type': 'Wait timer', 'wait_timer': 6},\n",
    "    {'step_type': 'Vacuum'},\n",
    "    {'step_type': 'Transfer volume to wells',\n",
    "     'volume_amount': '100',\n",
    "     'liquid_type': 'Conjugate'},\n",
    "    {'step_type': 'Wait timer', 'wait_timer': 6},\n",
    "    {'step_type': 'Vacuum'},\n",
    "    {'step_type': 'Transfer volume to wells',\n",
    "     'volume_amount': '300',\n",
    "     'liquid_type': 'DPBS'},\n",
    "    {'step_type': 'Wait timer', 'wait_timer': 1},\n",
    "    {'step_type': 'Vacuum'},\n",
    "    {'step_type': 'Transfer volume to wells',\n",
    "     'volume_amount': '300',\n",
    "     'liquid_type': 'DPBS'},\n",
    "    {'step_type': 'Wait timer', 'wait_timer': 1},\n",
    "    {'step_type': 'Vacuum'}]},\n",
    "  {'method': 'Dotblot',\n",
    "   'product': 'EMR2xTRBV19',\n",
    "   'tmd': 'TV-TMD-38646 v2.0',\n",
    "   'title': 'Test Method for Determining the Identity of JNJ90189892 Using the Dot Blot Assay',\n",
    "   'has_2_coating_proteins': 'True',\n",
    "   'step_types': [{'step_type': 'Transfer volume to wells',\n",
    "     'volume_amount': '200',\n",
    "     'liquid_type': 'DPBS'},\n",
    "    {'step_type': 'Wait timer', 'wait_timer': 1},\n",
    "    {'step_type': 'Vacuum'},\n",
    "    {'step_type': 'Transfer volume to wells',\n",
    "     'volume_amount': '100',\n",
    "     'liquid_type': 'Coating protein'},\n",
    "    {'step_type': 'Transfer volume to wells',\n",
    "     'volume_amount': '100',\n",
    "     'liquid_type': 'Coating protein 2'},\n",
    "    {'step_type': 'Wait timer', 'wait_timer': 12},\n",
    "    {'step_type': 'Vacuum'},\n",
    "    {'step_type': 'Transfer volume to wells',\n",
    "     'volume_amount': '200',\n",
    "     'liquid_type': 'Blocking buffer'},\n",
    "    {'step_type': 'Wait timer', 'wait_timer': 12},\n",
    "    {'step_type': 'Vacuum'},\n",
    "    {'step_type': 'Transfer volume to wells',\n",
    "     'volume_amount': '100',\n",
    "     'liquid_type': 'Pos/Neg control'},\n",
    "    {'step_type': 'Transfer volume to wells',\n",
    "     'volume_amount': '100',\n",
    "     'liquid_type': 'Samples'},\n",
    "    {'step_type': 'Wait timer', 'wait_timer': 12},\n",
    "    {'step_type': 'Vacuum'},\n",
    "    {'step_type': 'Transfer volume to wells',\n",
    "     'volume_amount': '100',\n",
    "     'liquid_type': 'Conjugate'},\n",
    "    {'step_type': 'Wait timer', 'wait_timer': 12},\n",
    "    {'step_type': 'Vacuum'},\n",
    "    {'step_type': 'Transfer volume to wells',\n",
    "     'volume_amount': '300',\n",
    "     'liquid_type': 'DPBS'},\n",
    "    {'step_type': 'Wait timer', 'wait_timer': 1},\n",
    "    {'step_type': 'Vacuum'},\n",
    "    {'step_type': 'Transfer volume to wells',\n",
    "     'volume_amount': '300',\n",
    "     'liquid_type': 'DPBS'},\n",
    "    {'step_type': 'Wait timer', 'wait_timer': 1},\n",
    "    {'step_type': 'Vacuum'}]},\n",
    "  {'method': 'Dotblot',\n",
    "   'product': 'Test product',\n",
    "   'tmd': 'No TMD.',\n",
    "   'title': 'Test Method with really small waiting times for test purposes in Tecan. Has 2 coatings.',\n",
    "   'has_2_coating_proteins': 'True',\n",
    "   'step_types': [{'step_type': 'Transfer volume to wells',\n",
    "     'volume_amount': '200',\n",
    "     'liquid_type': 'DPBS'},\n",
    "    {'step_type': 'Wait timer', 'wait_timer': 1},\n",
    "    {'step_type': 'Vacuum'},\n",
    "    {'step_type': 'Transfer volume to wells',\n",
    "     'volume_amount': '100',\n",
    "     'liquid_type': 'Coating protein'},\n",
    "    {'step_type': 'Transfer volume to wells',\n",
    "     'volume_amount': '100',\n",
    "     'liquid_type': 'Coating protein 2'},\n",
    "    {'step_type': 'Wait timer', 'wait_timer': 1},\n",
    "    {'step_type': 'Vacuum'},\n",
    "    {'step_type': 'Transfer volume to wells',\n",
    "     'volume_amount': '200',\n",
    "     'liquid_type': 'Blocking buffer'},\n",
    "    {'step_type': 'Wait timer', 'wait_timer': 1},\n",
    "    {'step_type': 'Vacuum'},\n",
    "    {'step_type': 'Transfer volume to wells',\n",
    "     'volume_amount': '100',\n",
    "     'liquid_type': 'Pos/Neg control'},\n",
    "    {'step_type': 'Transfer volume to wells',\n",
    "     'volume_amount': '100',\n",
    "     'liquid_type': 'Samples'},\n",
    "    {'step_type': 'Wait timer', 'wait_timer': 1},\n",
    "    {'step_type': 'Vacuum'},\n",
    "    {'step_type': 'Transfer volume to wells',\n",
    "     'volume_amount': '100',\n",
    "     'liquid_type': 'Conjugate'},\n",
    "    {'step_type': 'Wait timer', 'wait_timer': 1},\n",
    "    {'step_type': 'Vacuum'},\n",
    "    {'step_type': 'Transfer volume to wells',\n",
    "     'volume_amount': '300',\n",
    "     'liquid_type': 'DPBS'},\n",
    "    {'step_type': 'Wait timer', 'wait_timer': 1},\n",
    "    {'step_type': 'Vacuum'},\n",
    "    {'step_type': 'Transfer volume to wells',\n",
    "     'volume_amount': '300',\n",
    "     'liquid_type': 'DPBS'},\n",
    "    {'step_type': 'Wait timer', 'wait_timer': 1},\n",
    "    {'step_type': 'Vacuum'}]},\n",
    "  {'method': 'Dotblot',\n",
    "   'product': 'Test product not all parts.',\n",
    "   'tmd': 'No TMD.',\n",
    "   'title': 'Test Method with only some pump steps for test purposes in Tecan. Has 2 coatings.',\n",
    "   'has_2_coating_proteins': 'True',\n",
    "   'step_types': [{'step_type': 'Transfer volume to wells',\n",
    "     'volume_amount': '100',\n",
    "     'liquid_type': 'Coating protein'},\n",
    "    {'step_type': 'Transfer volume to wells',\n",
    "     'volume_amount': '100',\n",
    "     'liquid_type': 'Coating protein2'},\n",
    "    {'step_type': 'Wait timer', 'wait_timer': 1},\n",
    "    {'step_type': 'Transfer volume to wells',\n",
    "     'volume_amount': '100',\n",
    "     'liquid_type': 'Pos/Neg control'},\n",
    "    {'step_type': 'Transfer volume to wells',\n",
    "     'volume_amount': '100',\n",
    "     'liquid_type': 'Samples'},\n",
    "    {'step_type': 'Wait timer', 'wait_timer': 1}]},\n",
    "  {'method': 'FIPA',\n",
    "   'product': 'CNTO4424',\n",
    "   'tmd': 'TV-TMD-32376 v1.0',\n",
    "   'title': 'Fluorescence Intensity Protein Aggregation Assay (FIPA) for the analysis of protein aggregates in JNJ-61186372 (CNTO4424) samples'},\n",
    "  {'method': 'DLS',\n",
    "   'product': 'product???',\n",
    "   'tmd': 'TV-TEC-166007 v1.0',\n",
    "   'title': 'Dynamic Light Scattering (DLS) for the analysis of particle sizes'},\n",
    "  {'method': 'nDSF',\n",
    "   'product': 'Any product',\n",
    "   'tmd': 'TV-TEC-112062 v1.0',\n",
    "   'title': 'Research method for sample characterization using nanoDSF'},\n",
    "  {'method': 'A280 (soloVPE)',\n",
    "   'product': 'anti-CD79bxCD20xCD3',\n",
    "   'tmd': 'TV-TMD-35361 v1.0',\n",
    "   'title': 'Determination of Protein Concentration by UV Absorbance at 280 nm (Variable Pathlength) for JNJ-80948543 (anti-CD79bxCD20xCD3)'},\n",
    "  {'method': 'SEC-HPLC',\n",
    "   'product': 'CNTO 4424',\n",
    "   'tmd': 'TV-TMD-30962 v5.0',\n",
    "   'title': 'Size Exclusion HPLC Test Method for Purity Determination of JNJ-61186372 (CNTO 4424)'},\n",
    "  {'method': 'Color project',\n",
    "   'product': 'Model training tests',\n",
    "   'tmd': 'N/A',\n",
    "   'title': 'Perform dilutions to get data to train the model.'},\n",
    "  {'method': 'test_method',\n",
    "   'product': 'test_product',\n",
    "   'tmd': 'test_tmd',\n",
    "   'title': 'Test_title'}]}\n",
    "\n",
    "json.dumps(dict_multiline)"
   ]
  },
  {
   "cell_type": "code",
   "execution_count": 5,
   "metadata": {},
   "outputs": [],
   "source": [
    "def test_import_excel_dotblot(file_path: str):\n",
    "    \"\"\"\n",
    "    Parses Excel file containing dilution data for Dotblot.\n",
    "\n",
    "    Parameters\n",
    "    ----------\n",
    "    ``file_path``: str\n",
    "        Path of excel file to parse.\n",
    "\n",
    "    Returns\n",
    "    ----------\n",
    "    Tuple (sample, coating_protein, pos_ctr, neg_ctr) data,\n",
    "    or ``None`` if error occurs when importing file.\n",
    "    \"\"\"\n",
    "    # file_path = r\"L:/Departements/BTDS_AD/002_AFFS/Lab Automation/09. Tecan/06. DotBlot_automation_DPP/DotBlot automation dilution data.xlsx\"\n",
    "\n",
    "    sample_dilution_data = {}\n",
    "    coating_protein_dilution_data = {}\n",
    "    pos_control_dilution_data = {}\n",
    "    neg_control_dilution_data = {}\n",
    "\n",
    "    # file_path = filedialog.askopenfilename(filetypes=[(\"Excel files\", \"*.xlsx;*.xls\")])\n",
    "\n",
    "    # if file_path:\n",
    "    data = pd.read_excel(file_path, header=5) # read excel file and ignore 5 first rows\n",
    "    # check if read excel file is the correct one by checking hidden message in specific cell\n",
    "    if data.columns[0] != \"spain is awesome\":\n",
    "        return None\n",
    "\n",
    "    data = data.iloc[:, 1:9] # ignore first column and all after 8\n",
    "    data = data.drop(data.columns[4], axis=1) # remove column (because it is empty, just used for excel visual formatting)\n",
    "\n",
    "    data.loc[len(data)] = [np.nan] * len(data.columns) # add extra row at the end with NaN values, so that subsequent for loops can end correctly\n",
    "\n",
    "    print(data)\n",
    "\n",
    "    # remove the units (inside parenthesis) from the column names\n",
    "    for column in data.columns:\n",
    "        index = column.find('(') # find the index of the first \"(\" symbol\n",
    "        if index != -1: # if a \"(\" symbol is found\n",
    "            # rename the column by removing all text after the \"(\" symbol\n",
    "            new_column_name = column[:index].strip()\n",
    "            data.rename(columns={column: new_column_name}, inplace=True)\n",
    "\n",
    "    # sample dilution - ignore rows with no dilution data\n",
    "    for index, row in data.iterrows():\n",
    "        if pd.isna(row[\"Withdrawn volume\"]): # if a NaN value is found\n",
    "            sample_dilution_data = data.iloc[:index, :] # remove all rows after the first NaN is found in \"Initial Concentration\" column\n",
    "            break\n",
    "    \n",
    "    # coating protein dilution data is in row 10 after initial read\n",
    "    for index, row in data.iloc[10:14,:].iterrows():\n",
    "        if pd.isna(row[\"Withdrawn volume\"]): # if a NaN value is found\n",
    "            coating_protein_dilution_data = data.iloc[10:index,:] # remove all rows after the first NaN is found in \"Initial Concentration\" column\n",
    "            break\n",
    "\n",
    "    # positive control dilution data is in row 15 after initial read\n",
    "    for index, row in data.iloc[17:21,:].iterrows():\n",
    "        if pd.isna(row[\"Withdrawn volume\"]): # if a NaN value is found\n",
    "            pos_control_dilution_data = data.iloc[17:index,:] # remove all rows after the first NaN is found in \"Initial Concentration\" column\n",
    "            break    \n",
    "    # else:\n",
    "    #     return -1  \n",
    "\n",
    "    # negative control dilution data is in row 24 after initial read\n",
    "    for index, row in data.iloc[24:28,:].iterrows():\n",
    "        if pd.isna(row[\"Withdrawn volume\"]): # if a NaN value is found\n",
    "            neg_control_dilution_data = data.iloc[24:index,:] # remove all rows after the first NaN is found in \"Initial Concentration\" column\n",
    "            break\n",
    "\n",
    "    return [sample_dilution_data], [coating_protein_dilution_data], [pos_control_dilution_data], [neg_control_dilution_data]\n"
   ]
  },
  {
   "cell_type": "code",
   "execution_count": 6,
   "metadata": {},
   "outputs": [
    {
     "name": "stdout",
     "output_type": "stream",
     "text": [
      "                Dilution step  Initial concentration (mg/mL)  \\\n",
      "0                           1                            125   \n",
      "1                           2                           1.25   \n",
      "2                           3                           0.01   \n",
      "3                           4                            NaN   \n",
      "4                           5                            NaN   \n",
      "5                           6                            NaN   \n",
      "6                         NaN                            NaN   \n",
      "7    Coating Protein Dilution                            NaN   \n",
      "8                         NaN                            NaN   \n",
      "9               Dilution step  Initial concentration (mg/mL)   \n",
      "10                          1                            NaN   \n",
      "11                          2                              0   \n",
      "12                          3                              0   \n",
      "13                        NaN                            NaN   \n",
      "14  Positive Control Dilution                            NaN   \n",
      "15                        NaN                            NaN   \n",
      "16              Dilution step  Initial concentration (mg/mL)   \n",
      "17                          1                           31.4   \n",
      "18                          2                            0.2   \n",
      "19                          3                          0.004   \n",
      "20                        NaN                            NaN   \n",
      "21  Negative Control Dilution                            NaN   \n",
      "22                        NaN                            NaN   \n",
      "23              Dilution step  Initial concentration (mg/mL)   \n",
      "24                          1                           11.5   \n",
      "25                          2                           0.05   \n",
      "26                          3                         0.0002   \n",
      "27                        NaN                            NaN   \n",
      "\n",
      "    Withdrawn volume (uL)  Final concentration (mg/mL)  \\\n",
      "0                       8                         1.25   \n",
      "1                       7                         0.01   \n",
      "2                      18                       0.0002   \n",
      "3                     NaN                          NaN   \n",
      "4                     NaN                          NaN   \n",
      "5                     NaN                          NaN   \n",
      "6                     NaN                          NaN   \n",
      "7                     NaN                          NaN   \n",
      "8                     NaN                          NaN   \n",
      "9   Withdrawn volume (uL)  Final concentration (mg/mL)   \n",
      "10                    NaN                          NaN   \n",
      "11                    NaN                          NaN   \n",
      "12                    NaN                          NaN   \n",
      "13                    NaN                          NaN   \n",
      "14                    NaN                          NaN   \n",
      "15                    NaN                          NaN   \n",
      "16  Withdrawn volume (uL)  Final concentration (mg/mL)   \n",
      "17                      6                          0.2   \n",
      "18                     14                        0.004   \n",
      "19                     40                       0.0002   \n",
      "20                    NaN                            0   \n",
      "21                    NaN                          NaN   \n",
      "22                    NaN                          NaN   \n",
      "23  Withdrawn volume (uL)  Final concentration (mg/mL)   \n",
      "24                      4                         0.05   \n",
      "25                      4                       0.0002   \n",
      "26                      0                          NaN   \n",
      "27                    NaN                          NaN   \n",
      "\n",
      "    Assay buffer volume (uL)  Sample volume (uL)  Final Volume (uL)  \n",
      "0                        792                   8                800  \n",
      "1                        868                   7                875  \n",
      "2                      882.0                  18              900.0  \n",
      "3                          0                   0                  0  \n",
      "4                          0                   0                  0  \n",
      "5                          0                   0                  0  \n",
      "6                        NaN                 NaN                NaN  \n",
      "7                        NaN                 NaN                NaN  \n",
      "8                        NaN                 NaN                NaN  \n",
      "9   Assay buffer volume (uL)  Sample volume (uL)  Final Volume (uL)  \n",
      "10                         0                   0                  0  \n",
      "11                         0                   0                  0  \n",
      "12                         0                   0                  0  \n",
      "13                       NaN                 NaN                NaN  \n",
      "14                       NaN                 NaN                NaN  \n",
      "15                       NaN                 NaN                NaN  \n",
      "16  Assay buffer volume (uL)  Sample volume (uL)  Final Volume (uL)  \n",
      "17                     936.0                   6              942.0  \n",
      "18                       686                  14                700  \n",
      "19                       760                  40                800  \n",
      "20                       NaN                 NaN                NaN  \n",
      "21                       NaN                 NaN                NaN  \n",
      "22                       NaN                 NaN                NaN  \n",
      "23  Assay buffer volume (uL)  Sample volume (uL)  Final Volume (uL)  \n",
      "24                       916                   4                920  \n",
      "25                       996                   4               1000  \n",
      "26                         0                   0                  0  \n",
      "27                       NaN                 NaN                NaN  \n"
     ]
    }
   ],
   "source": [
    "data = test_import_excel_dotblot(normal_dotblot_file)\n",
    "\n",
    "sample_dilution_data = data[0]\n",
    "coating_protein_dilution_data = data[1]\n",
    "pos_control_dilution_data = data[2]\n",
    "neg_control_dilution_data = data[3]\n"
   ]
  },
  {
   "cell_type": "code",
   "execution_count": 342,
   "metadata": {},
   "outputs": [
    {
     "data": {
      "text/plain": [
       "{'pos_ctr_pos': [[1, 9, 17]],\n",
       " 'neg_ctr_pos': [[2, 10, 18]],\n",
       " 'samples_pos': [[[3, 11, 19],\n",
       "   [4, 12, 20],\n",
       "   [5, 13, 21],\n",
       "   [6, 14, 22],\n",
       "   [7, 15, 23],\n",
       "   [8, 16, 24],\n",
       "   [25, 33, 41],\n",
       "   [26, 34, 42],\n",
       "   [27, 35, 43],\n",
       "   [28, 36, 44],\n",
       "   [29, 37, 45],\n",
       "   [30, 38, 46],\n",
       "   [31, 39, 47],\n",
       "   [32, 40, 48],\n",
       "   [49, 57, 65],\n",
       "   [50, 58, 66]]]}"
      ]
     },
     "execution_count": 342,
     "metadata": {},
     "output_type": "execute_result"
    }
   ],
   "source": [
    "pos_ctr_pos = []\n",
    "neg_ctr_pos = []\n",
    "\n",
    "sample_eppendorf_positions = [[13, 14, 15, 16, 17, 18, 19, 20, 21, 22, 23, 24, 25, 26, 27, 28]]\n",
    "\n",
    "if len(pos_control_dilution_data) == 1:\n",
    "    pos_ctr_pos.append(utils.get_deep_well_pos(1)) # always in first place\n",
    "    neg_ctr_pos.append(utils.get_deep_well_pos(2)) # always in second place\n",
    "    # hard coded, forced\n",
    "    # pos_ctr_pos.append(get_deep_well_pos(9)) # always in first place\n",
    "    # neg_ctr_pos.append(get_deep_well_pos(10)) # always in second place\n",
    "    sample_pos = [[]]\n",
    "\n",
    "elif len(pos_control_dilution_data) == 2:\n",
    "    pos_ctr_pos.append(utils.get_deep_well_pos(1)) # always in first place\n",
    "    pos_ctr_pos.append(utils.get_deep_well_pos(9)) # always in first place,   second row\n",
    "    neg_ctr_pos.append(utils.get_deep_well_pos(2)) # always in second place\n",
    "    neg_ctr_pos.append(utils.get_deep_well_pos(10)) # always in second place, second row\n",
    "    sample_pos = [[], []]\n",
    "\n",
    "else:\n",
    "    logger.error(f\"Positive control data must be of length 1 or 2, not {len(pos_control_dilution_data)}\")\n",
    "    raise ValueError(f\"Positive control data must be of length 1 or 2, not {len(pos_control_dilution_data)}\")\n",
    "\n",
    "\n",
    "# First coating protein side\n",
    "samples_per_block = 8 # fixed. number of triplicate vertical spaces in a 96 well plate.\n",
    "\n",
    "for k, sample_group in enumerate(sample_eppendorf_positions):\n",
    "    for i, sample in enumerate(sample_group):\n",
    "        if i < 6: # if in first triplicate block\n",
    "            sample_pos[k].append(utils.get_deep_well_pos(i + 3 + k*samples_per_block)) # i starts at 0. We add 2 positions because 1 is pos.ctr and 2 is neg.ctr\n",
    "        else:\n",
    "            sample_pos[k].append(utils.get_deep_well_pos(i + 3 + (k)*samples_per_block))\n",
    "\n",
    "# sample_pos[0].append(get_deep_well_pos(11)) # hard coded, forced\n",
    "final_pos = {\"pos_ctr_pos\": pos_ctr_pos,\n",
    "                \"neg_ctr_pos\": neg_ctr_pos,\n",
    "                \"samples_pos\": sample_pos}\n",
    "\n",
    "final_pos"
   ]
  },
  {
   "cell_type": "code",
   "execution_count": 34,
   "metadata": {},
   "outputs": [
    {
     "name": "stdout",
     "output_type": "stream",
     "text": [
      "pos dilutions done: [[1], [2]]\n",
      "negative ctr eppendorf pos: [[3], [4]]\n",
      "sample eppendorf pos: [[14, 15, 16, 17, 18, 19, 20, 21, 22], [23, 24, 25, 26, 27, 28, 29, 30, 31]]\n"
     ]
    },
    {
     "data": {
      "text/plain": [
       "([[1], [2]],\n",
       " [[3], [4]],\n",
       " [[14, 15, 16, 17, 18, 19, 20, 21, 22], [23, 24, 25, 26, 27, 28, 29, 30, 31]])"
      ]
     },
     "execution_count": 34,
     "metadata": {},
     "output_type": "execute_result"
    }
   ],
   "source": [
    "reload(Dotblot)\n",
    "reload(utils)\n",
    "dotblot_method = Dotblot.DotblotMethod(debug=False)\n",
    "\n",
    "# Reset parameters\n",
    "\n",
    "dotblot_method.last_eppendorf_pos = 1\n",
    "dotblot_method.last_deep_well_pos = 1\n",
    "\n",
    "dotblot_method.n_pos_control_steps = len(pos_control_dilution_data[0][\"Assay buffer volume\"])\n",
    "dotblot_method.n_neg_control_steps = len(neg_control_dilution_data[0][\"Assay buffer volume\"])\n",
    "dotblot_method.sample_dilution_data = [sample_dilution_data[i].to_dict(orient=\"list\") for i in range(len(sample_dilution_data))]\n",
    "dotblot_method.pos_control_dilution_data = [pos_control_dilution_data[i].to_dict(orient=\"list\") for i in range(len(pos_control_dilution_data))]\n",
    "dotblot_method.neg_control_dilution_data = [neg_control_dilution_data[i].to_dict(orient=\"list\") for i in range(len(neg_control_dilution_data))]\n",
    "dotblot_method.pos_control_vial_posX = \"A\"\n",
    "dotblot_method.pos_control_vial_posY = 1\n",
    "dotblot_method.main_sample_labware_type = \"Eppendorf\"\n",
    "dotblot_method.main_sample_dil_destination = \"DeepWell\"\n",
    "dotblot_method.n_samples_main_dilution = 9\n",
    "dotblot_method.n_sample_dilution_steps = len(sample_dilution_data[0][\"Assay buffer volume\"])\n",
    "dotblot_method.pump_steps_data = [\n",
    "                        {\"step_type\": \"Transfer volume to wells\", \"volume_amount\": \"100\", \"liquid_type\": \"Coating protein\"}, \n",
    "                        {\"step_type\": \"Transfer volume to wells\", \"volume_amount\": \"100\", \"liquid_type\": \"Pos/Neg control\"}, \n",
    "                        {\"step_type\": \"Transfer volume to wells\", \"volume_amount\": \"100\", \"liquid_type\": \"Samples\"}\n",
    "                    ]\n",
    "dotblot_method.pump_steps_data = [\n",
    "                        {\"step_type\": \"Transfer volume to wells\", \"volume_amount\": \"200\", \"liquid_type\": \"DPBS\"}, \n",
    "                        {\"step_type\": \"Wait timer\", \"wait_timer\": 1},\n",
    "                        {\"step_type\": \"Vacuum\"}, \n",
    "                        {\"step_type\": \"Transfer volume to wells\", \"volume_amount\": \"100\", \"liquid_type\": \"Coating protein\"},\n",
    "                        {\"step_type\": \"Transfer volume to wells\", \"volume_amount\": \"100\", \"liquid_type\": \"Coating protein 2\"}, \n",
    "                        {\"step_type\": \"Wait timer\", \"wait_timer\": 1}, \n",
    "                        {\"step_type\": \"Vacuum\"}, \n",
    "                        {\"step_type\": \"Transfer volume to wells\", \"volume_amount\": \"200\", \"liquid_type\": \"Blocking buffer\"}, \n",
    "                        {\"step_type\": \"Wait timer\", \"wait_timer\": 1}, \n",
    "                        {\"step_type\": \"Vacuum\"}, \n",
    "                        {\"step_type\": \"Transfer volume to wells\", \"volume_amount\": \"100\", \"liquid_type\": \"Pos/Neg control\"}, \n",
    "                        {\"step_type\": \"Transfer volume to wells\", \"volume_amount\": \"100\", \"liquid_type\": \"Samples\"}, \n",
    "                        {\"step_type\": \"Wait timer\", \"wait_timer\": 1}, \n",
    "                        {\"step_type\": \"Vacuum\"}, \n",
    "                        {\"step_type\": \"Transfer volume to wells\", \"volume_amount\": \"100\", \"liquid_type\": \"Conjugate\"}, \n",
    "                        {\"step_type\": \"Wait timer\", \"wait_timer\": 1}, \n",
    "                        {\"step_type\": \"Vacuum\"}, \n",
    "                        {\"step_type\": \"Transfer volume to wells\", \"volume_amount\": \"300\", \"liquid_type\": \"DPBS\"}, \n",
    "                        {\"step_type\": \"Wait timer\", \"wait_timer\": 1}, \n",
    "                        {\"step_type\": \"Vacuum\"},\n",
    "                        {\"step_type\": \"Transfer volume to wells\", \"volume_amount\": \"300\", \"liquid_type\": \"DPBS\"}, \n",
    "                        {\"step_type\": \"Wait timer\", \"wait_timer\": 1}, \n",
    "                        {\"step_type\": \"Vacuum\"}\n",
    "                    ]\n",
    "dotblot_method.has_2_coatings = True\n",
    "\n",
    "utils.new_log_file() # pass current time as a string to create the log file with that name\n",
    "utils.logger.info(f\"METHOD: Test Method\")\n",
    "utils.logger.info(f\"PRODUCT: Test Product\")\n",
    "\n",
    "dotblot_method.dotblot()\n",
    "# dotblot_method.generate_config_file()"
   ]
  },
  {
   "cell_type": "code",
   "execution_count": 284,
   "metadata": {},
   "outputs": [
    {
     "data": {
      "text/plain": [
       "<module 'helper.utils' from 'c:\\\\Users\\\\DPerez36\\\\OneDrive - JNJ\\\\Documents\\\\git repos\\\\tecan_gui\\\\helper\\\\utils.py'>"
      ]
     },
     "execution_count": 284,
     "metadata": {},
     "output_type": "execute_result"
    }
   ],
   "source": [
    "reload(utils)"
   ]
  },
  {
   "cell_type": "code",
   "execution_count": 331,
   "metadata": {},
   "outputs": [
    {
     "data": {
      "text/plain": [
       "array([10, 11, 12, 13, 14, 15, 16, 17, 18, 19])"
      ]
     },
     "execution_count": 331,
     "metadata": {},
     "output_type": "execute_result"
    }
   ],
   "source": [
    "sample_eppendorf_pos"
   ]
  },
  {
   "cell_type": "code",
   "execution_count": 332,
   "metadata": {},
   "outputs": [
    {
     "ename": "IndexError",
     "evalue": "index 0 is out of bounds for axis 0 with size 0",
     "output_type": "error",
     "traceback": [
      "\u001b[1;31m---------------------------------------------------------------------------\u001b[0m",
      "\u001b[1;31mIndexError\u001b[0m                                Traceback (most recent call last)",
      "Cell \u001b[1;32mIn[332], line 1\u001b[0m\n\u001b[1;32m----> 1\u001b[0m n_samples_first_eppendorf_rack \u001b[38;5;241m=\u001b[39m \u001b[43mnp\u001b[49m\u001b[38;5;241;43m.\u001b[39;49m\u001b[43mwhere\u001b[49m\u001b[43m(\u001b[49m\u001b[43msample_eppendorf_pos\u001b[49m\u001b[43m \u001b[49m\u001b[38;5;241;43m==\u001b[39;49m\u001b[43m \u001b[49m\u001b[38;5;241;43m24\u001b[39;49m\u001b[43m)\u001b[49m\u001b[43m[\u001b[49m\u001b[38;5;241;43m0\u001b[39;49m\u001b[43m]\u001b[49m\u001b[43m[\u001b[49m\u001b[38;5;241;43m0\u001b[39;49m\u001b[43m]\u001b[49m \u001b[38;5;241m+\u001b[39m \u001b[38;5;241m1\u001b[39m\n",
      "\u001b[1;31mIndexError\u001b[0m: index 0 is out of bounds for axis 0 with size 0"
     ]
    }
   ],
   "source": [
    "n_samples_first_eppendorf_rack = np.where(sample_eppendorf_pos == 24)[0][0] + 1"
   ]
  },
  {
   "cell_type": "code",
   "execution_count": 333,
   "metadata": {},
   "outputs": [],
   "source": [
    "path = \"SampleTransferTestRUN.gwl\"\n",
    "\n",
    "# complete_well_list = np.arange(1, max_sample_well + 1) # list with all wells from 1 to the max sample pos\n",
    "# excluded_pos = list(set(complete_well_list) - set(sample_wells)) # positions to exclude from pipetting in the reag. distrib. command\n",
    "n_diti_reuses = 1 # no reuse\n",
    "n_multi_dispense = 3\n",
    "sample_direction = 1 # top to down\n",
    "replicate_direction = 0 # left to right\n",
    "LabSource = \"1x24 Eppendorf Tube Runner no Tubes\"\n",
    "sample_eppendorf_pos = np.array(dotblot_method.sample_eppendorf_positions).flatten()\n",
    "\n",
    "# all samples fit in the first eppendorf rack\n",
    "if sample_eppendorf_pos.max() <= 24:\n",
    "    utils.generate_sample_transfer_gwl(path, \"w\", utils.pos_2_str(LabSource, 1), \"96 Deep Well 2ml[001]\", dotblot_method.sample_eppendorf_positions[0][0], dotblot_method.sample_eppendorf_positions[-1][-1], min_sample_well, max_sample_well, volume, n_diti_reuses, n_multi_dispense, dotblot_method.n_samples_main_dilution * (1 + int(dotblot_method.has_2_coatings)), 3, sample_direction, replicate_direction, excluded_positions=excluded_pos)\n",
    "\n",
    "# some samples are in the second eppendorf rack (sample number is high), so the sample transfer has to be divided in 2 commands actually\n",
    "else:\n",
    "    # np.where works because the array is sorted from smaller to bigger by definition\n",
    "    n_samples_first_eppendorf_rack = np.where(sample_eppendorf_pos == 24)[0][0] + 1 # we add 1 because the result is an index and we want the number itself\n",
    "    triplet_sample_wells = np.array(dotblot_method.pump_lw_well_pos[\"samples_pos\"]).reshape(-1, 3) # reshape to be a list of triplets\n",
    "\n",
    "    # Sample transfer command for first rack\n",
    "    sample_wells_1 = triplet_sample_wells[:n_samples_first_eppendorf_rack].flatten()\n",
    "    complete_well_list = np.arange(1, sample_wells_1.max() + 1) # list with all wells from 1 to the max sample pos\n",
    "    print(f\"complete_well_list_1: {complete_well_list}\")\n",
    "    excluded_pos_1 = list(set(complete_well_list) - set(sample_wells_1)) # positions to exclude from pipetting in the reag. distrib. command\n",
    "\n",
    "    if n_samples_first_eppendorf_rack <= dotblot_method.n_samples_main_dilution:\n",
    "        utils.generate_sample_transfer_gwl(path, \"w\", utils.pos_2_str(LabSource, 1), \"96 Deep Well 2ml[001]\", sample_eppendorf_pos[0], sample_eppendorf_pos[n_samples_first_eppendorf_rack - 1], sample_wells_1.min(), sample_wells_1.max(), volume, n_diti_reuses, n_multi_dispense, n_samples_first_eppendorf_rack, 3, sample_direction, replicate_direction, excluded_positions=excluded_pos_1)\n",
    "\n",
    "    else: # we have to divide in 2 commands, because there are samples from both groups (diluted 1 and diluted 2)\n",
    "        # if only has 1 coating, I think we dont have to do this separation, samples will be in order anyway, but let's test it later\n",
    "        sample_wells_1_1 = triplet_sample_wells[:dotblot_method.n_samples_main_dilution].flatten()\n",
    "        complete_well_list = np.arange(1, sample_wells_1_1.max() + 1) # list with all wells from 1 to the max sample pos\n",
    "        print(f\"complete_well_list_1: {complete_well_list}\")\n",
    "        excluded_pos_1_1 = list(set(complete_well_list) - set(sample_wells_1_1)) # positions to exclude from pipetting in the reag. distrib. command\n",
    "\n",
    "        utils.generate_sample_transfer_gwl(path, \"w\", utils.pos_2_str(LabSource, 1), \"96 Deep Well 2ml[001]\", sample_eppendorf_pos[0], sample_eppendorf_pos[dotblot_method.n_samples_main_dilution - 1], sample_wells_1_1.min(), sample_wells_1_1.max(), volume, n_diti_reuses, n_multi_dispense, dotblot_method.n_samples_main_dilution, 3, sample_direction, replicate_direction, excluded_positions=excluded_pos_1_1)\n",
    "\n",
    "        sample_wells_1_2 = triplet_sample_wells[dotblot_method.n_samples_main_dilution:n_samples_first_eppendorf_rack].flatten()\n",
    "        excluded_pos_1_2 = list(set(complete_well_list) - set(sample_wells_1_2)) # positions to exclude from pipetting in the reag. distrib. command\n",
    "        utils.generate_sample_transfer_gwl(path, \"a\", utils.pos_2_str(LabSource, 1), \"96 Deep Well 2ml[001]\", sample_eppendorf_pos[dotblot_method.n_samples_main_dilution], sample_eppendorf_pos[n_samples_first_eppendorf_rack - 1], sample_wells_1_2.min(), sample_wells_1_2.max(), volume, n_diti_reuses, n_multi_dispense, n_samples_first_eppendorf_rack - dotblot_method.n_samples_main_dilution, 3, sample_direction, replicate_direction, excluded_positions=excluded_pos_1_2)\n",
    "\n",
    "\n",
    "\n",
    "    # Sample transfer command for second rack\n",
    "    max_sample_well_2 = np.max(triplet_sample_wells)\n",
    "    complete_well_list = np.arange(1, max_sample_well_2 + 1) # list with all wells from 1 to the max sample pos\n",
    "    sample_wells_2 = triplet_sample_wells[n_samples_first_eppendorf_rack:].flatten()\n",
    "    excluded_pos_2 = list(set(complete_well_list) - set(sample_wells_2)) # positions to exclude from pipetting in the reag. distrib. command\n",
    "\n",
    "    utils.generate_sample_transfer_gwl(path, \"a\", utils.pos_2_str(LabSource, 2), \"96 Deep Well 2ml[001]\", sample_eppendorf_pos[n_samples_first_eppendorf_rack] - 24, sample_eppendorf_pos[-1] - 24, sample_wells_2.min(), sample_wells_2.max(), volume, n_diti_reuses, n_multi_dispense, len(sample_eppendorf_pos) - n_samples_first_eppendorf_rack, 3, sample_direction, replicate_direction, excluded_positions=excluded_pos_2)\n",
    "\n",
    "\n",
    "\n",
    "    print(f\"n_samples_first_eppendorf_rack: {n_samples_first_eppendorf_rack}\")\n",
    "    print(f\"triplet_sample_wells: \\n{triplet_sample_wells}\\n\")\n",
    "    print(f\"sample_wells_1: \\n{sample_wells_1}\\n\")\n",
    "    print(f\"excluded_pos_1: \\n{excluded_pos_1}\\n\")\n",
    "    print(f\"sample_wells_1: \\n{sample_wells_1}\\n\")\n",
    "    print(f\"excluded_pos_2: \\n{excluded_pos_2}\\n\")\n",
    "               \n"
   ]
  },
  {
   "cell_type": "code",
   "execution_count": 319,
   "metadata": {},
   "outputs": [
    {
     "data": {
      "text/plain": [
       "9"
      ]
     },
     "execution_count": 319,
     "metadata": {},
     "output_type": "execute_result"
    }
   ],
   "source": [
    "dotblot_method.n_samples_main_dilution\n"
   ]
  },
  {
   "cell_type": "code",
   "execution_count": 311,
   "metadata": {},
   "outputs": [
    {
     "data": {
      "text/plain": [
       "[49, 57, 65]"
      ]
     },
     "execution_count": 311,
     "metadata": {},
     "output_type": "execute_result"
    }
   ],
   "source": [
    "utils.get_deep_well_pos(17)"
   ]
  },
  {
   "cell_type": "code",
   "execution_count": 275,
   "metadata": {},
   "outputs": [
    {
     "data": {
      "text/plain": [
       "array([[ 3, 11, 19],\n",
       "       [ 4, 12, 20],\n",
       "       [ 5, 13, 21],\n",
       "       [ 6, 14, 22],\n",
       "       [ 7, 15, 23],\n",
       "       [ 8, 16, 24],\n",
       "       [49, 57, 65],\n",
       "       [50, 58, 66],\n",
       "       [51, 59, 67],\n",
       "       [27, 35, 43],\n",
       "       [28, 36, 44],\n",
       "       [29, 37, 45],\n",
       "       [30, 38, 46],\n",
       "       [31, 39, 47],\n",
       "       [32, 40, 48],\n",
       "       [73, 81, 89],\n",
       "       [74, 82, 90],\n",
       "       [75, 83, 91]])"
      ]
     },
     "execution_count": 275,
     "metadata": {},
     "output_type": "execute_result"
    }
   ],
   "source": [
    "pos = np.array([[[3, 11, 19], [4, 12, 20], [5, 13, 21], [6, 14, 22], [7, 15, 23], [8, 16, 24], [49, 57, 65], [50, 58, 66], [51, 59, 67]], [[27, 35, 43], [28, 36, 44], [29, 37, 45], [30, 38, 46], [31, 39, 47], [32, 40, 48], [73, 81, 89], [74, 82, 90], [75, 83, 91]]])\n",
    "\n",
    "pos = pos.reshape(-1, 3)\n",
    "pos"
   ]
  },
  {
   "cell_type": "code",
   "execution_count": 278,
   "metadata": {},
   "outputs": [
    {
     "data": {
      "text/plain": [
       "array([ 3, 11, 19,  4, 12, 20,  5, 13, 21,  6, 14, 22,  7, 15, 23,  8, 16,\n",
       "       24, 49, 57, 65, 50, 58, 66, 51, 59, 67, 27, 35, 43, 28, 36, 44])"
      ]
     },
     "execution_count": 278,
     "metadata": {},
     "output_type": "execute_result"
    }
   ],
   "source": [
    "pos[:11].flatten()"
   ]
  },
  {
   "cell_type": "code",
   "execution_count": 205,
   "metadata": {},
   "outputs": [
    {
     "name": "stdout",
     "output_type": "stream",
     "text": [
      "sum_pos: 2.18\n",
      "sum_neg: 2.297\n",
      "sum_sample: 26.64\n",
      "\n",
      "sum_pos: 1.784\n",
      "sum_neg: 1.696\n",
      "sum_sample: 22.716\n",
      "\n"
     ]
    },
    {
     "data": {
      "text/plain": [
       "57.313"
      ]
     },
     "execution_count": 205,
     "metadata": {},
     "output_type": "execute_result"
    }
   ],
   "source": [
    "assay_buffer_vol = 0\n",
    "for k, sample_group in enumerate(sample_dilution_data):\n",
    "    sum_pos = sum(pos_control_dilution_data[k][\"Assay buffer volume\"]) / 1000\n",
    "    sum_neg = sum(neg_control_dilution_data[k][\"Assay buffer volume\"]) / 1000\n",
    "    sum_sample = sum(sample_dilution_data[k][\"Assay buffer volume\"] * 9) / 1000\n",
    "    assay_buffer_vol += sum_pos + sum_neg + sum_sample\n",
    "\n",
    "    print(f\"sum_pos: {sum_pos}\\nsum_neg: {sum_neg}\\nsum_sample: {sum_sample}\\n\")\n",
    "\n",
    "assay_buffer_vol"
   ]
  },
  {
   "cell_type": "code",
   "execution_count": null,
   "metadata": {},
   "outputs": [],
   "source": [
    "csv_path = r'L:\\Departements\\BTDS_AD\\002_AFFS\\Lab Automation\\09. Tecan\\01. Methods\\3. DotBlot\\2. Positive control.csv'\n",
    "\n",
    "mix_data = []\n",
    "labware_name = \"Custom holder[001]\"\n",
    "labware_pos = 1\n",
    "volume = 300\n",
    "\n",
    "for i in range(3):\n",
    "    mix_data.append([labware_name, labware_pos, labware_name, labware_pos, volume])\n",
    "\n",
    "mix_data\n",
    "mix_csv = pd.DataFrame(mix_data, columns=None)\n",
    "mix_csv\n",
    "\n",
    "original_csv = pd.read_csv(csv_path, header=None) # create dataframe from original CSV file\n",
    "final_csv = pd.concat([original_csv, mix_csv], ignore_index=True) # concatenate both dataframes into one\n",
    "final_csv.to_csv(csv_path, index=False, header=False)"
   ]
  },
  {
   "cell_type": "code",
   "execution_count": null,
   "metadata": {},
   "outputs": [],
   "source": [
    "pump_step_data_simple = [{'step_type': 'Transfer volume to wells', 'volume_amount': '100', 'liquid_type': 'DPBS', 'wells_type': 'All wells'}, {'step_type': 'Vacuum'}, {'step_type': 'Wait timer', 'wait_timer': 10.0}]\n",
    "pump_step_data = [{'step_type': 'Transfer volume to wells', 'volume_amount': '100', 'liquid_type': 'Samples', 'wells_type': 'All wells'}, {'step_type': 'Vacuum'}, {'step_type': 'Transfer volume to wells', 'volume_amount': '100', 'liquid_type': 'Coating protein', 'wells_type': 'All wells'}, {'step_type': 'Wait timer', 'wait_timer': 10.0}, {'step_type': 'Vacuum'}, {'step_type': 'Transfer volume to wells', 'volume_amount': '200', 'liquid_type': 'Blocking buffer', 'wells_type': 'All wells'}, {'step_type': 'Wait timer', 'wait_timer': 10.0}, {'step_type': 'Vacuum'}, {'step_type': 'Transfer volume to wells', 'volume_amount': '100', 'liquid_type': 'Pos/Neg control', 'wells_type': 'Only samples'}, {'step_type': 'Vacuum'}, {'step_type': 'Transfer volume to wells', 'volume_amount': '100', 'liquid_type': 'Conjugate', 'wells_type': 'All wells'}, {'step_type': 'Wait timer', 'wait_timer': 10.0}, {'step_type': 'Vacuum'}, {'step_type': 'Transfer volume to wells', 'volume_amount': '200', 'liquid_type': 'DPBS', 'wells_type': 'All wells'}, {'step_type': 'Wait timer', 'wait_timer': 5.0}, {'step_type': 'Transfer volume to wells', 'volume_amount': '200', 'liquid_type': 'DPBS', 'wells_type': 'All wells'}, {'step_type': 'Wait timer', 'wait_timer': 5.0}, {'step_type': 'Transfer volume to wells', 'volume_amount': '200', 'liquid_type': 'DPBS', 'wells_type': 'All wells'}, {'step_type': 'Wait timer', 'wait_timer': 5.0}, {'step_type': 'Vacuum'}]\n",
    "\n",
    "pump_step_data"
   ]
  },
  {
   "cell_type": "markdown",
   "metadata": {},
   "source": [
    "### For Dotblot first try for TV-TMD-35372"
   ]
  },
  {
   "cell_type": "code",
   "execution_count": 84,
   "metadata": {},
   "outputs": [
    {
     "data": {
      "text/plain": [
       "[{'step_type': 'Transfer volume to wells',\n",
       "  'volume_amount': '200',\n",
       "  'liquid_type': 'DPBS'},\n",
       " {'step_type': 'Wait timer', 'wait_timer': 60},\n",
       " {'step_type': 'Vacuum'},\n",
       " {'step_type': 'Transfer volume to wells',\n",
       "  'volume_amount': '100',\n",
       "  'liquid_type': 'Coating protein'},\n",
       " {'step_type': 'Wait timer', 'wait_timer': 480},\n",
       " {'step_type': 'Vacuum'},\n",
       " {'step_type': 'Transfer volume to wells',\n",
       "  'volume_amount': '200',\n",
       "  'liquid_type': 'Blocking buffer'},\n",
       " {'step_type': 'Wait timer', 'wait_timer': 480},\n",
       " {'step_type': 'Vacuum'},\n",
       " {'step_type': 'Transfer volume to wells',\n",
       "  'volume_amount': '100',\n",
       "  'liquid_type': 'Pos/Neg control'},\n",
       " {'step_type': 'Transfer volume to wells',\n",
       "  'volume_amount': '100',\n",
       "  'liquid_type': 'Samples'},\n",
       " {'step_type': 'Wait timer', 'wait_timer': 600},\n",
       " {'step_type': 'Vacuum'},\n",
       " {'step_type': 'Transfer volume to wells',\n",
       "  'volume_amount': '100',\n",
       "  'liquid_type': 'Conjugate'},\n",
       " {'step_type': 'Wait timer', 'wait_timer': 480},\n",
       " {'step_type': 'Vacuum'},\n",
       " {'step_type': 'Transfer volume to wells',\n",
       "  'volume_amount': '200',\n",
       "  'liquid_type': 'DPBS'},\n",
       " {'step_type': 'Wait timer', 'wait_timer': 60},\n",
       " {'step_type': 'Vacuum'},\n",
       " {'step_type': 'Transfer volume to wells',\n",
       "  'volume_amount': '200',\n",
       "  'liquid_type': 'DPBS'},\n",
       " {'step_type': 'Wait timer', 'wait_timer': 60},\n",
       " {'step_type': 'Vacuum'},\n",
       " {'step_type': 'Transfer volume to wells',\n",
       "  'volume_amount': '200',\n",
       "  'liquid_type': 'DPBS'},\n",
       " {'step_type': 'Wait timer', 'wait_timer': 60},\n",
       " {'step_type': 'Vacuum'}]"
      ]
     },
     "execution_count": 84,
     "metadata": {},
     "output_type": "execute_result"
    }
   ],
   "source": [
    "steps = [\n",
    "         {'step_type': 'Transfer volume to wells', 'volume_amount': '200', 'liquid_type': 'DPBS'}, \n",
    "         {'step_type': 'Wait timer', 'wait_timer': 60}, {'step_type': 'Vacuum'}, \n",
    "         {'step_type': 'Transfer volume to wells', 'volume_amount': '100', 'liquid_type': 'Coating protein'}, \n",
    "         {'step_type': 'Wait timer', 'wait_timer': 480}, \n",
    "         {'step_type': 'Vacuum'}, \n",
    "         {'step_type': 'Transfer volume to wells', 'volume_amount': '200', 'liquid_type': 'Blocking buffer'}, \n",
    "         {'step_type': 'Wait timer', 'wait_timer': 480}, \n",
    "         {'step_type': 'Vacuum'}, \n",
    "         {'step_type': 'Transfer volume to wells', 'volume_amount': '100', 'liquid_type': 'Pos/Neg control'}, \n",
    "         {'step_type': 'Transfer volume to wells', 'volume_amount': '100', 'liquid_type': 'Samples'}, \n",
    "         {'step_type': 'Wait timer', 'wait_timer': 600}, \n",
    "         {'step_type': 'Vacuum'}, \n",
    "         {'step_type': 'Transfer volume to wells', 'volume_amount': '100', 'liquid_type': 'Conjugate'}, \n",
    "         {'step_type': 'Wait timer', 'wait_timer': 480}, \n",
    "         {'step_type': 'Vacuum'}, \n",
    "         {'step_type': 'Transfer volume to wells', 'volume_amount': '200', 'liquid_type': 'DPBS'}, \n",
    "         {'step_type': 'Wait timer', 'wait_timer': 60}, \n",
    "         {'step_type': 'Vacuum'},  \n",
    "         {'step_type': 'Transfer volume to wells', 'volume_amount': '200', 'liquid_type': 'DPBS'}, \n",
    "         {'step_type': 'Wait timer', 'wait_timer': 60}, \n",
    "         {'step_type': 'Vacuum'},  \n",
    "         {'step_type': 'Transfer volume to wells', 'volume_amount': '200', 'liquid_type': 'DPBS'}, \n",
    "         {'step_type': 'Wait timer', 'wait_timer': 60}, \n",
    "         {'step_type': 'Vacuum'}\n",
    "]\n",
    "\n",
    "steps"
   ]
  },
  {
   "cell_type": "code",
   "execution_count": null,
   "metadata": {},
   "outputs": [],
   "source": [
    "dotblot_method.pump_steps_data = pump_step_data\n",
    "dotblot_method.sample_eppendorf_positions = [3,4,5,6]\n",
    "\n",
    "dotblot_method.generate_pump_step_instruction_files()"
   ]
  },
  {
   "cell_type": "code",
   "execution_count": null,
   "metadata": {},
   "outputs": [],
   "source": [
    "dotblot_method.transfer_volume_to_wells(dotblot_method.dpbs_lw_name, \"96 Deep Well[001]\", 100)"
   ]
  },
  {
   "cell_type": "markdown",
   "metadata": {},
   "source": [
    "#### GENERAL DILUTION TESTS"
   ]
  },
  {
   "cell_type": "code",
   "execution_count": null,
   "metadata": {},
   "outputs": [],
   "source": [
    "reload(utils)\n",
    "reload(GeneralDilution)\n",
    "\n",
    "gen_dil = GeneralDilution.GeneralDilution()"
   ]
  },
  {
   "cell_type": "code",
   "execution_count": null,
   "metadata": {},
   "outputs": [],
   "source": [
    "sample_dilution_data = {'Dilution step': [1.0, 2.0, 3.0], 'Initial concentration': [150.0, 0.7, 0.003], 'Withdrawn volume': [4.0, 4.0, 30.0], 'Final concentration': [0.7, 0.003, 0.0001], 'Assay buffer volume': [853.1428571428572, 929.3333333333333, 869.9999999999999], 'Sample volume': [4.0, 4.0, 30.0], 'Final Volume': [857.1428571428572, 933.3333333333333, 899.9999999999999]}\n",
    "gen_dil.sample_dilution_data = sample_dilution_data\n",
    "gen_dil.n_sample_dilution_steps = len(gen_dil.sample_dilution_data[\"Assay buffer volume\"])\n",
    "gen_dil.n_samples = 7\n",
    "gen_dil.buffer_type = \"DPBS\"\n",
    "gen_dil.sample_lw_origin = \"Falcon15\"\n",
    "gen_dil.sample_lw_dest = \"2R Vial\"\n",
    "gen_dil.used_labware_pos = dict.fromkeys(gen_dil.last_labware_pos, 0)"
   ]
  },
  {
   "cell_type": "code",
   "execution_count": null,
   "metadata": {},
   "outputs": [],
   "source": [
    "gen_dil.general_dilution()"
   ]
  },
  {
   "cell_type": "code",
   "execution_count": null,
   "metadata": {},
   "outputs": [],
   "source": [
    "gen_dil.used_labware_pos"
   ]
  },
  {
   "cell_type": "code",
   "execution_count": null,
   "metadata": {},
   "outputs": [],
   "source": [
    "gen_dil.next_labware_pos(utils.LabwareNames[\"Falcon50\"])"
   ]
  },
  {
   "cell_type": "markdown",
   "metadata": {},
   "source": [
    "### VOLUME TRANSFER"
   ]
  },
  {
   "cell_type": "code",
   "execution_count": null,
   "metadata": {},
   "outputs": [],
   "source": [
    "import helper.VolumeTransfer as VolumeTransfer\n",
    "from importlib import reload\n",
    "from helper.utils import *"
   ]
  },
  {
   "cell_type": "code",
   "execution_count": null,
   "metadata": {},
   "outputs": [],
   "source": [
    "reload(VolumeTransfer)\n",
    "reload(utils)\n",
    "vol_tr = VolumeTransfer.VolumeTransfer()"
   ]
  },
  {
   "cell_type": "code",
   "execution_count": null,
   "metadata": {},
   "outputs": [],
   "source": [
    "VolumeTransfer.dilution_position_def()"
   ]
  },
  {
   "cell_type": "code",
   "execution_count": null,
   "metadata": {},
   "outputs": [],
   "source": [
    "vol_tr.sample_lw_origin = \"Eppendorf\"\n",
    "vol_tr.n_samples = 3\n",
    "vol_tr.sample_lw_dest = \"384_Well\"\n",
    "vol_tr.n_sample_repetitions = 4\n",
    "vol_tr.volume_transfered = 20\n",
    "vol_tr.used_labware_pos = dict.fromkeys(vol_tr.used_labware_pos, 0) # reset dict\n",
    "\n",
    "vol_tr.volume_transfer()"
   ]
  },
  {
   "cell_type": "code",
   "execution_count": null,
   "metadata": {},
   "outputs": [],
   "source": [
    "vol_tr.used_labware_pos"
   ]
  },
  {
   "cell_type": "markdown",
   "metadata": {},
   "source": [
    "### Calculate labware type for each reagent based on volumes used in the method"
   ]
  },
  {
   "cell_type": "code",
   "execution_count": null,
   "metadata": {},
   "outputs": [],
   "source": [
    "reload(utils)"
   ]
  },
  {
   "cell_type": "code",
   "execution_count": null,
   "metadata": {},
   "outputs": [],
   "source": [
    "step_types = [\n",
    "                {\"step_type\": \"Transfer volume to wells\", \"volume_amount\": \"200\", \"liquid_type\": \"DPBS\"}, \n",
    "                {\"step_type\": \"Wait timer\", \"wait_timer\": 60},\n",
    "                {\"step_type\": \"Vacuum\"}, \n",
    "                {\"step_type\": \"Transfer volume to wells\", \"volume_amount\": \"100\", \"liquid_type\": \"Coating protein\"}, \n",
    "                {\"step_type\": \"Wait timer\", \"wait_timer\": 480}, \n",
    "                {\"step_type\": \"Vacuum\"}, \n",
    "                {\"step_type\": \"Transfer volume to wells\", \"volume_amount\": \"200\", \"liquid_type\": \"Blocking buffer\"}, \n",
    "                {\"step_type\": \"Wait timer\", \"wait_timer\": 480}, \n",
    "                {\"step_type\": \"Vacuum\"}, \n",
    "                {\"step_type\": \"Transfer volume to wells\", \"volume_amount\": \"100\", \"liquid_type\": \"Pos/Neg control\"}, \n",
    "                {\"step_type\": \"Transfer volume to wells\", \"volume_amount\": \"100\", \"liquid_type\": \"Samples\"}, \n",
    "                {\"step_type\": \"Wait timer\", \"wait_timer\": 600}, \n",
    "                {\"step_type\": \"Vacuum\"}, \n",
    "                {\"step_type\": \"Transfer volume to wells\", \"volume_amount\": \"100\", \"liquid_type\": \"Conjugate\"}, \n",
    "                {\"step_type\": \"Wait timer\", \"wait_timer\": 480}, \n",
    "                {\"step_type\": \"Vacuum\"}, \n",
    "                {\"step_type\": \"Transfer volume to wells\", \"volume_amount\": \"200\", \"liquid_type\": \"DPBS\"}, \n",
    "                {\"step_type\": \"Wait timer\", \"wait_timer\": 60}, \n",
    "                {\"step_type\": \"Vacuum\"},  \n",
    "                {\"step_type\": \"Transfer volume to wells\", \"volume_amount\": \"200\", \"liquid_type\": \"DPBS\"}, \n",
    "                {\"step_type\": \"Wait timer\", \"wait_timer\": 60}, \n",
    "                {\"step_type\": \"Vacuum\"},  \n",
    "                {\"step_type\": \"Transfer volume to wells\", \"volume_amount\": \"200\", \"liquid_type\": \"DPBS\"}, \n",
    "                {\"step_type\": \"Wait timer\", \"wait_timer\": 60}, \n",
    "                {\"step_type\": \"Vacuum\"}]\n",
    "\n",
    "REAGENTS = [\"samples\", \"pos_ctr\", \"neg_ctr\", \"dpbs\", \"conjugate\", \"blocking_buffer\", \"coating_protein\"]\n",
    "n_samples = 4"
   ]
  },
  {
   "cell_type": "code",
   "execution_count": null,
   "metadata": {},
   "outputs": [],
   "source": [
    "def calculate_total_volumes(step_types):\n",
    "    total_volume = {}\n",
    "\n",
    "    for step in step_types:\n",
    "        if step[\"step_type\"] == \"Transfer volume to wells\":\n",
    "            if step[\"liquid_type\"] not in total_volume:\n",
    "                total_volume[step[\"liquid_type\"]] = 0 # create key\n",
    "            \n",
    "            total_volume[step[\"liquid_type\"]] = total_volume[step[\"liquid_type\"]] + float(step[\"volume_amount\"])/1000 # because volume amount is in uL and we want it in mL\n",
    "\n",
    "    # del(total_volume[\"Pos/Neg control\"]) # remove this key because it is not needed\n",
    "    total_volume[\"Pos_ctr\"] = total_volume.pop(\"Pos/Neg control\") # change name of key\n",
    "    total_volume[\"Neg_ctr\"] = total_volume[\"Pos_ctr\"] # copy the value into a new key\n",
    "\n",
    "    # multiply by number of samples\n",
    "    for key in total_volume:\n",
    "        total_volume[key] *= n_samples\n",
    "        total_volume[key] *= 3 # because each sample is triplicated (placed in 3 wells)\n",
    "        total_volume[key] = round(total_volume[key], 2)\n",
    "\n",
    "\n",
    "    pos_ctr_sample_vol = round(pos_control_dilution_data[\"Sample volume\"].sum(), 1)\n",
    "    neg_ctr_sample_vol = round(neg_control_dilution_data[\"Sample volume\"].sum(), 1)\n",
    "    buffer_vol = round(pos_control_dilution_data[\"Assay buffer volume\"].sum(), 2) + round(neg_control_dilution_data[\"Assay buffer volume\"].sum(), 2)\n",
    "    \n",
    "    total_volume[\"Pos_ctr\"] = total_volume[\"Pos_ctr\"] + pos_ctr_vol\n",
    "    total_volume[\"Neg_ctr\"] = total_volume[\"Neg_ctr\"] + neg_ctr_vol\n",
    "    # if buffer type is DPBS or Assay buffer, choose correct key name\n",
    "    buffer_type = \"DPBS\"\n",
    "    total_volume[buffer_type] = total_volume[buffer_type] + buffer_vol"
   ]
  },
  {
   "cell_type": "code",
   "execution_count": null,
   "metadata": {},
   "outputs": [],
   "source": [
    "total_volume = {}\n",
    "\n",
    "for step in step_types:\n",
    "    if step[\"step_type\"] == \"Transfer volume to wells\":\n",
    "        if step[\"liquid_type\"] not in total_volume:\n",
    "            total_volume[step[\"liquid_type\"]] = 0 # create key\n",
    "        \n",
    "        total_volume[step[\"liquid_type\"]] = total_volume[step[\"liquid_type\"]] + float(step[\"volume_amount\"])/1000 # because volume amount is in uL and we want it in mL\n",
    "\n",
    "# del(total_volume[\"Pos/Neg control\"]) # remove this key because it is not needed\n",
    "total_volume[\"Pos_ctr\"] = total_volume.pop(\"Pos/Neg control\") # change name of key\n",
    "total_volume[\"Neg_ctr\"] = total_volume[\"Pos_ctr\"] # copy the value into a new key\n",
    "\n",
    "total_volume"
   ]
  },
  {
   "cell_type": "code",
   "execution_count": null,
   "metadata": {},
   "outputs": [],
   "source": [
    "for key in total_volume:\n",
    "    total_volume[key] *= n_samples\n",
    "    total_volume[key] *= 3 # because each sample is triplicated (placed in 3 wells)\n",
    "    total_volume[key] = round(total_volume[key], 2)\n",
    "\n",
    "total_volume"
   ]
  },
  {
   "cell_type": "code",
   "execution_count": null,
   "metadata": {},
   "outputs": [],
   "source": [
    "def calculate_pos_neg_ctr_volumes(pos_control_dilution_data: dict, neg_control_dilution_data: dict) -> tuple:\n",
    "    pos_ctr_sample_vol = round(pos_control_dilution_data[\"Sample volume\"].sum(), 1)\n",
    "    neg_ctr_sample_vol = round(neg_control_dilution_data[\"Sample volume\"].sum(), 1)\n",
    "    buffer_vol = round(pos_control_dilution_data[\"Assay buffer volume\"].sum(), 2) + round(neg_control_dilution_data[\"Assay buffer volume\"].sum(), 2)\n",
    "\n",
    "    return (pos_ctr_sample_vol, neg_ctr_sample_vol, buffer_vol)\n"
   ]
  },
  {
   "cell_type": "code",
   "execution_count": null,
   "metadata": {},
   "outputs": [],
   "source": [
    "pos_ctr_vol, neg_ctr_vol, buffer_vol = calculate_pos_neg_ctr_volumes(pos_control_dilution_data, neg_control_dilution_data)"
   ]
  },
  {
   "cell_type": "code",
   "execution_count": null,
   "metadata": {},
   "outputs": [],
   "source": [
    "total_volume[\"Pos_ctr\"] = total_volume[\"Pos_ctr\"] + pos_ctr_vol\n",
    "total_volume[\"Neg_ctr\"] = total_volume[\"Neg_ctr\"] + neg_ctr_vol\n",
    "# if buffer type is DPBS or Assay buffer, choose correct key name\n",
    "buffer_type = \"DPBS\"\n",
    "total_volume[buffer_type] = total_volume[buffer_type] + buffer_vol\n",
    "\n",
    "total_volume"
   ]
  },
  {
   "cell_type": "code",
   "execution_count": null,
   "metadata": {},
   "outputs": [],
   "source": [
    "def find_best_container(volumes_dict, containers_dict):\n",
    "    result = {}\n",
    "    \n",
    "    for item, volume_needed in volumes_dict.items():\n",
    "        best_container = None\n",
    "        best_sum = float('inf')\n",
    "        \n",
    "        for container, (vol, cap) in containers_dict.items():\n",
    "            if volume_needed <= cap - vol:\n",
    "                current_sum = vol + cap\n",
    "                if current_sum < best_sum:\n",
    "                    best_sum = current_sum\n",
    "                    best_container = container\n",
    "        \n",
    "        if best_container:\n",
    "            result[item] = best_container\n",
    "        else:\n",
    "            result[item] = \"No suitable container\"\n",
    "    \n",
    "    return result"
   ]
  },
  {
   "cell_type": "code",
   "execution_count": null,
   "metadata": {},
   "outputs": [],
   "source": [
    "def find_best_container(reagents_vol_dict: dict, labware_dict: dict):\n",
    "    \"\"\"\n",
    "    Assigns the best labware type for each reagent considering the volume needed.\n",
    "    \"\"\"\n",
    "\n",
    "    result = {}\n",
    "    \n",
    "    for item, volume_needed in reagents_vol_dict.items():\n",
    "        best_container = None\n",
    "        best_sum = float('inf')\n",
    "        \n",
    "        for labware, (dead_vol, max_vol) in labware_dict.items():\n",
    "            if volume_needed <= max_vol - dead_vol:\n",
    "                current_sum = max_vol - dead_vol\n",
    "                if current_sum < best_sum:\n",
    "                    best_sum = current_sum\n",
    "                    best_container = labware\n",
    "        \n",
    "        if best_container:\n",
    "            result[item] = best_container\n",
    "        else:\n",
    "            result[item] = \"VOLUME TOO BIG\"\n",
    "    \n",
    "    return result"
   ]
  },
  {
   "cell_type": "code",
   "execution_count": null,
   "metadata": {},
   "outputs": [],
   "source": [
    "total_volume[\"Conjugate\"] = 14201\n",
    "\n",
    "find_best_container(total_volume, LABWARE_INFO)"
   ]
  },
  {
   "cell_type": "code",
   "execution_count": null,
   "metadata": {},
   "outputs": [],
   "source": [
    "utils.find_best_container(0.2, utils.LABWARE_INFO)"
   ]
  },
  {
   "cell_type": "code",
   "execution_count": null,
   "metadata": {},
   "outputs": [],
   "source": [
    "reload(utils)"
   ]
  },
  {
   "cell_type": "markdown",
   "metadata": {},
   "source": [
    "### nanoDSF"
   ]
  },
  {
   "cell_type": "code",
   "execution_count": 41,
   "metadata": {},
   "outputs": [],
   "source": [
    "import helper.nanoDSF as nanoDSF"
   ]
  },
  {
   "cell_type": "code",
   "execution_count": 82,
   "metadata": {},
   "outputs": [],
   "source": [
    "reload(nanoDSF)\n",
    "reload(utils)\n",
    "\n",
    "nanomethod = nanoDSF.nanoDSFMethod()"
   ]
  },
  {
   "cell_type": "code",
   "execution_count": 83,
   "metadata": {},
   "outputs": [
    {
     "name": "stdout",
     "output_type": "stream",
     "text": [
      "init sample pos after adding: [97, 98, 99, 100, 101, 102, 103, 104, 105, 106, 107]\n",
      "index in insert: 0\n",
      "init sample pos before sample dest positions: [98, 99, 100, 101, 102, 103, 104, 105, 106, 107, 108]\n",
      "BSA wells: [5]\n",
      "Sample wells: [21, 37, 53, 69, 85, 101, 117, 133, 149, 165, 181]\n",
      "Calculated 384 well positions: [21, 37, 53, 69, 85, 101, 117, 133, 149, 165, 181]\n",
      "sample labware pos: [1, 2, 3, 4, 5, 6, 7, 8, 9, 10, 11]\n",
      "Generated GWL file.\n"
     ]
    }
   ],
   "source": [
    "nanomethod.n_samples = 11 # amount of samples for the sample transfer\n",
    "nanomethod.sample_volume_per_well = 26 # volume (uL) to transfer to each well\n",
    "nanomethod.sample_lw_origin = \"FakeFalcon15\" # origin labware of samples\n",
    "nanomethod.sample_triplicates = False\n",
    "nanomethod.add_BSA = True\n",
    "nanomethod.BSA_wells = []\n",
    "nanomethod.starting_row_pos = 5\n",
    "\n",
    "nanomethod.nanoDSF()"
   ]
  },
  {
   "cell_type": "code",
   "execution_count": 69,
   "metadata": {},
   "outputs": [
    {
     "data": {
      "text/plain": [
       "4"
      ]
     },
     "execution_count": 69,
     "metadata": {},
     "output_type": "execute_result"
    }
   ],
   "source": [
    "utils.get_deep_well_pos(73, 384, sample_direction=\"horizontal\", sample_transfer=\"single\")"
   ]
  },
  {
   "cell_type": "code",
   "execution_count": 73,
   "metadata": {},
   "outputs": [
    {
     "data": {
      "text/plain": [
       "{1, 4}"
      ]
     },
     "execution_count": 73,
     "metadata": {},
     "output_type": "execute_result"
    }
   ],
   "source": [
    "a = [1,2,3,4]\n",
    "b = [2,3]\n",
    "\n",
    "set(a) - set(b)"
   ]
  },
  {
   "cell_type": "code",
   "execution_count": 51,
   "metadata": {},
   "outputs": [
    {
     "data": {
      "text/plain": [
       "75"
      ]
     },
     "execution_count": 51,
     "metadata": {},
     "output_type": "execute_result"
    }
   ],
   "source": [
    "75"
   ]
  },
  {
   "cell_type": "code",
   "execution_count": 92,
   "metadata": {},
   "outputs": [
    {
     "data": {
      "text/plain": [
       "2"
      ]
     },
     "execution_count": 92,
     "metadata": {},
     "output_type": "execute_result"
    }
   ],
   "source": [
    "sample = 25\n",
    "utils.get_deep_well_pos(sample, 384, sample_direction=\"horizontal\", sample_transfer=\"single\")"
   ]
  },
  {
   "cell_type": "markdown",
   "metadata": {},
   "source": [
    "### A280"
   ]
  },
  {
   "cell_type": "code",
   "execution_count": 104,
   "metadata": {},
   "outputs": [],
   "source": [
    "import helper.A280 as A280"
   ]
  },
  {
   "cell_type": "code",
   "execution_count": 120,
   "metadata": {},
   "outputs": [
    {
     "data": {
      "text/plain": [
       "<module 'helper.A280' from 'c:\\\\Users\\\\DPerez36\\\\OneDrive - JNJ\\\\Documents\\\\git repos\\\\tecan_gui\\\\helper\\\\A280.py'>"
      ]
     },
     "execution_count": 120,
     "metadata": {},
     "output_type": "execute_result"
    }
   ],
   "source": [
    "reload(utils)\n",
    "reload(A280)"
   ]
  },
  {
   "cell_type": "code",
   "execution_count": 106,
   "metadata": {},
   "outputs": [
    {
     "data": {
      "text/plain": [
       "'Falcon15'"
      ]
     },
     "execution_count": 106,
     "metadata": {},
     "output_type": "execute_result"
    }
   ],
   "source": [
    "utils.find_best_container(10)"
   ]
  },
  {
   "cell_type": "code",
   "execution_count": 119,
   "metadata": {},
   "outputs": [
    {
     "name": "stdout",
     "output_type": "stream",
     "text": [
      "buffer total volume 4500\n",
      "initial pos: 1\n",
      "buffer_lw and pos: ['Falcon15[001]'], [1]\n",
      "Sample dilutions done. Positions in Eppendorf: [1 1 1 1 1 1 1 1 1 1 1 1]\n",
      "Buffer labware and position: Falcon15[001], [1]\n",
      "labsource sample transfer: ['Eppendorf[013]' 'Eppendorf[014]' 'Eppendorf[015]' 'Eppendorf[016]'\n",
      " 'Eppendorf[017]' 'Eppendorf[018]' 'Eppendorf[019]' 'Eppendorf[020]'\n",
      " 'Eppendorf[021]' 'Eppendorf[022]' 'Eppendorf[023]' 'Eppendorf[024]']\n",
      "Sample transfer done. Destination positions: [ 1  2  3  4  5  6  7  8  9 10 11 12]\n"
     ]
    },
    {
     "data": {
      "text/plain": [
       "0"
      ]
     },
     "execution_count": 119,
     "metadata": {},
     "output_type": "execute_result"
    }
   ],
   "source": [
    "a280_method = A280.A280Method()\n",
    "\n",
    "a280_method.n_samples = 12\n",
    "a280_method.sample_concentration = 150\n",
    "a280_method.sample_lw_origin = \"Eppendorf\"\n",
    "\n",
    "a280_method.a280()"
   ]
  },
  {
   "cell_type": "code",
   "execution_count": 117,
   "metadata": {},
   "outputs": [
    {
     "data": {
      "text/plain": [
       "(array(['Eppendorf[001]'], dtype='<U32'), array([1]))"
      ]
     },
     "execution_count": 117,
     "metadata": {},
     "output_type": "execute_result"
    }
   ],
   "source": [
    "buffer_total_volume = (125 * a280_method.n_samples) / 1000\n",
    "\n",
    "utils.dilution_position_def(utils.find_best_container(buffer_total_volume/1000), 1, 1) # buffer is placed in Eppendorf tube"
   ]
  },
  {
   "cell_type": "code",
   "execution_count": 118,
   "metadata": {},
   "outputs": [
    {
     "data": {
      "text/plain": [
       "1.0"
      ]
     },
     "execution_count": 118,
     "metadata": {},
     "output_type": "execute_result"
    }
   ],
   "source": [
    "buffer_total_volume"
   ]
  },
  {
   "cell_type": "code",
   "execution_count": 109,
   "metadata": {},
   "outputs": [
    {
     "data": {
      "text/html": [
       "<div>\n",
       "<style scoped>\n",
       "    .dataframe tbody tr th:only-of-type {\n",
       "        vertical-align: middle;\n",
       "    }\n",
       "\n",
       "    .dataframe tbody tr th {\n",
       "        vertical-align: top;\n",
       "    }\n",
       "\n",
       "    .dataframe thead th {\n",
       "        text-align: right;\n",
       "    }\n",
       "</style>\n",
       "<table border=\"1\" class=\"dataframe\">\n",
       "  <thead>\n",
       "    <tr style=\"text-align: right;\">\n",
       "      <th></th>\n",
       "      <th>Eppendorf</th>\n",
       "      <th>Falcon15</th>\n",
       "      <th>100mL_reservoir</th>\n",
       "    </tr>\n",
       "  </thead>\n",
       "  <tbody>\n",
       "    <tr>\n",
       "      <th>10uL</th>\n",
       "      <td>NaN</td>\n",
       "      <td>NaN</td>\n",
       "      <td>NaN</td>\n",
       "    </tr>\n",
       "    <tr>\n",
       "      <th>200uL</th>\n",
       "      <td>25.0</td>\n",
       "      <td>600.0</td>\n",
       "      <td>NaN</td>\n",
       "    </tr>\n",
       "    <tr>\n",
       "      <th>1000uL</th>\n",
       "      <td>NaN</td>\n",
       "      <td>35.0</td>\n",
       "      <td>2000.0</td>\n",
       "    </tr>\n",
       "    <tr>\n",
       "      <th>max_volume</th>\n",
       "      <td>1.5</td>\n",
       "      <td>15.0</td>\n",
       "      <td>100.0</td>\n",
       "    </tr>\n",
       "  </tbody>\n",
       "</table>\n",
       "</div>"
      ],
      "text/plain": [
       "            Eppendorf  Falcon15  100mL_reservoir\n",
       "10uL              NaN       NaN              NaN\n",
       "200uL            25.0     600.0              NaN\n",
       "1000uL            NaN      35.0           2000.0\n",
       "max_volume        1.5      15.0            100.0"
      ]
     },
     "execution_count": 109,
     "metadata": {},
     "output_type": "execute_result"
    }
   ],
   "source": [
    "utils.LABWARE_DEAD_VOLUMES"
   ]
  },
  {
   "cell_type": "code",
   "execution_count": 110,
   "metadata": {},
   "outputs": [
    {
     "data": {
      "text/plain": [
       "10uL           NaN\n",
       "200uL         25.0\n",
       "1000uL         NaN\n",
       "max_volume     1.5\n",
       "Name: Eppendorf, dtype: float64"
      ]
     },
     "execution_count": 110,
     "metadata": {},
     "output_type": "execute_result"
    }
   ],
   "source": [
    "utils.LABWARE_DEAD_VOLUMES.Eppendorf"
   ]
  },
  {
   "cell_type": "code",
   "execution_count": null,
   "metadata": {},
   "outputs": [],
   "source": [
    "def find_best_container(reagents: dict | float | int):\n",
    "    \"\"\"\n",
    "    Assigns the best labware type for each reagent considering the volume needed.\n",
    "\n",
    "    \"\"\"\n",
    "\n",
    "\n",
    "    if isinstance(reagents, (float | int)):\n",
    "        volume_needed = reagents\n",
    "        best_container = None\n",
    "        best_sum = float('inf')\n",
    "\n",
    "        for labware, (dead_vol, max_vol) in utils.LABWARE_DEAD_VOLUMES.to_dict().items():\n",
    "            if volume_needed <= max_vol - dead_vol:\n",
    "                current_sum = max_vol - dead_vol\n",
    "                if current_sum < best_sum:\n",
    "                    best_sum = current_sum\n",
    "                    best_container = labware\n",
    "\n",
    "        if best_container:\n",
    "            return best_container\n",
    "        else:\n",
    "            return \"VOLUME TOO BIG\"\n",
    "\n",
    "    if isinstance(reagents, dict):\n",
    "        result = {}\n",
    "        \n",
    "        for item, volume_needed in reagents.items():\n",
    "            best_container = None\n",
    "            best_sum = float('inf')\n",
    "            \n",
    "            for labware, (dead_vol, max_vol) in utils.LABWARE_DEAD_VOLUMES.to_dict().items():\n",
    "                if volume_needed <= max_vol - dead_vol:\n",
    "                    current_sum = max_vol - dead_vol\n",
    "                    if current_sum < best_sum:\n",
    "                        best_sum = current_sum\n",
    "                        best_container = labware\n",
    "            \n",
    "            if best_container:\n",
    "                result[item] = best_container\n",
    "            else:\n",
    "                result[item] = \"VOLUME TOO BIG\"\n",
    "        \n",
    "        return result"
   ]
  },
  {
   "cell_type": "code",
   "execution_count": null,
   "metadata": {},
   "outputs": [],
   "source": [
    "find_best_container(10)"
   ]
  },
  {
   "cell_type": "markdown",
   "metadata": {},
   "source": [
    "#### calculate total volumes for dotblot"
   ]
  },
  {
   "cell_type": "code",
   "execution_count": 135,
   "metadata": {},
   "outputs": [],
   "source": [
    "pump_steps_data = [\n",
    "    {\"step_type\": \"Transfer volume to wells\", \"volume_amount\": \"200\", \"liquid_type\": \"DPBS\"}, \n",
    "    {\"step_type\": \"Wait timer\", \"wait_timer\": 1},\n",
    "    {\"step_type\": \"Vacuum\"}, \n",
    "    {\"step_type\": \"Transfer volume to wells\", \"volume_amount\": \"100\", \"liquid_type\": \"Coating protein\"},\n",
    "    {\"step_type\": \"Transfer volume to wells\", \"volume_amount\": \"100\", \"liquid_type\": \"Coating protein 2\"}, \n",
    "    {\"step_type\": \"Wait timer\", \"wait_timer\": 1}, \n",
    "    {\"step_type\": \"Vacuum\"}, \n",
    "    {\"step_type\": \"Transfer volume to wells\", \"volume_amount\": \"200\", \"liquid_type\": \"Blocking buffer\"}, \n",
    "    {\"step_type\": \"Wait timer\", \"wait_timer\": 1}, \n",
    "    {\"step_type\": \"Vacuum\"}, \n",
    "    {\"step_type\": \"Transfer volume to wells\", \"volume_amount\": \"100\", \"liquid_type\": \"Pos/Neg control\"}, \n",
    "    {\"step_type\": \"Transfer volume to wells\", \"volume_amount\": \"100\", \"liquid_type\": \"Samples\"}, \n",
    "    {\"step_type\": \"Wait timer\", \"wait_timer\": 1}, \n",
    "    {\"step_type\": \"Vacuum\"}, \n",
    "    {\"step_type\": \"Transfer volume to wells\", \"volume_amount\": \"100\", \"liquid_type\": \"Conjugate\"}, \n",
    "    {\"step_type\": \"Wait timer\", \"wait_timer\": 1}, \n",
    "    {\"step_type\": \"Vacuum\"}, \n",
    "    {\"step_type\": \"Transfer volume to wells\", \"volume_amount\": \"300\", \"liquid_type\": \"DPBS\"}, \n",
    "    {\"step_type\": \"Wait timer\", \"wait_timer\": 1}, \n",
    "    {\"step_type\": \"Vacuum\"},\n",
    "    {\"step_type\": \"Transfer volume to wells\", \"volume_amount\": \"300\", \"liquid_type\": \"DPBS\"}, \n",
    "    {\"step_type\": \"Wait timer\", \"wait_timer\": 1}, \n",
    "    {\"step_type\": \"Vacuum\"}\n",
    "]"
   ]
  },
  {
   "cell_type": "code",
   "execution_count": 133,
   "metadata": {},
   "outputs": [
    {
     "data": {
      "text/html": [
       "<div>\n",
       "<style scoped>\n",
       "    .dataframe tbody tr th:only-of-type {\n",
       "        vertical-align: middle;\n",
       "    }\n",
       "\n",
       "    .dataframe tbody tr th {\n",
       "        vertical-align: top;\n",
       "    }\n",
       "\n",
       "    .dataframe thead th {\n",
       "        text-align: right;\n",
       "    }\n",
       "</style>\n",
       "<table border=\"1\" class=\"dataframe\">\n",
       "  <thead>\n",
       "    <tr style=\"text-align: right;\">\n",
       "      <th></th>\n",
       "      <th>Dilution step</th>\n",
       "      <th>Initial concentration</th>\n",
       "      <th>Withdrawn volume</th>\n",
       "      <th>Final concentration</th>\n",
       "      <th>Assay buffer volume</th>\n",
       "      <th>Sample volume</th>\n",
       "      <th>Final Volume</th>\n",
       "    </tr>\n",
       "  </thead>\n",
       "  <tbody>\n",
       "    <tr>\n",
       "      <th>0</th>\n",
       "      <td>1</td>\n",
       "      <td>100</td>\n",
       "      <td>10</td>\n",
       "      <td>1</td>\n",
       "      <td>990</td>\n",
       "      <td>10</td>\n",
       "      <td>1000</td>\n",
       "    </tr>\n",
       "    <tr>\n",
       "      <th>1</th>\n",
       "      <td>2</td>\n",
       "      <td>1</td>\n",
       "      <td>10</td>\n",
       "      <td>0.01</td>\n",
       "      <td>990</td>\n",
       "      <td>10</td>\n",
       "      <td>1000</td>\n",
       "    </tr>\n",
       "    <tr>\n",
       "      <th>2</th>\n",
       "      <td>3</td>\n",
       "      <td>0.01</td>\n",
       "      <td>20</td>\n",
       "      <td>0.0002</td>\n",
       "      <td>980</td>\n",
       "      <td>20</td>\n",
       "      <td>1000</td>\n",
       "    </tr>\n",
       "  </tbody>\n",
       "</table>\n",
       "</div>"
      ],
      "text/plain": [
       "  Dilution step Initial concentration Withdrawn volume Final concentration  \\\n",
       "0             1                   100               10                   1   \n",
       "1             2                     1               10                0.01   \n",
       "2             3                  0.01               20              0.0002   \n",
       "\n",
       "  Assay buffer volume Sample volume Final Volume  \n",
       "0                 990            10         1000  \n",
       "1                 990            10         1000  \n",
       "2                 980            20         1000  "
      ]
     },
     "execution_count": 133,
     "metadata": {},
     "output_type": "execute_result"
    }
   ],
   "source": [
    "sample_dilution_data[0]\n",
    "# coating_protein_dilution_data\n",
    "# pos_control_dilution_data\n",
    "# neg_control_dilution_data"
   ]
  },
  {
   "cell_type": "code",
   "execution_count": 155,
   "metadata": {},
   "outputs": [
    {
     "data": {
      "text/plain": [
       "{'DPBS': 0.8,\n",
       " 'Coating protein': 0.1,\n",
       " 'Coating protein 2': 0.1,\n",
       " 'Blocking buffer': 0.2,\n",
       " 'Pos/Neg control': 0.1,\n",
       " 'Samples': 0.1,\n",
       " 'Conjugate': 0.1}"
      ]
     },
     "execution_count": 155,
     "metadata": {},
     "output_type": "execute_result"
    }
   ],
   "source": [
    "# empty dictionary that will contain keys for total\n",
    "total_volume = {}\n",
    "\n",
    "for step in pump_steps_data:\n",
    "    if step[\"step_type\"] == \"Transfer volume to wells\":\n",
    "        if step[\"liquid_type\"] not in total_volume:\n",
    "            total_volume[step[\"liquid_type\"]] = 0 # create key\n",
    "        \n",
    "        total_volume[step[\"liquid_type\"]] = total_volume[step[\"liquid_type\"]] + float(step[\"volume_amount\"])/1000 # because volume amount is in uL and we want it in mL\n",
    "\n",
    "total_volume"
   ]
  },
  {
   "cell_type": "code",
   "execution_count": 156,
   "metadata": {},
   "outputs": [
    {
     "data": {
      "text/plain": [
       "{'DPBS': 9.6,\n",
       " 'Coating protein': 1.2,\n",
       " 'Coating protein 2': 1.2,\n",
       " 'Blocking buffer': 2.4,\n",
       " 'Samples': 1.2,\n",
       " 'Conjugate': 1.2,\n",
       " 'Pos_ctr': 1.2,\n",
       " 'Neg_ctr': 1.2}"
      ]
     },
     "execution_count": 156,
     "metadata": {},
     "output_type": "execute_result"
    }
   ],
   "source": [
    "# del(total_volume[\"Pos/Neg control\"]) # remove this key because it is not needed\n",
    "total_volume[\"Pos_ctr\"] = total_volume.pop(\"Pos/Neg control\") # change name of key\n",
    "total_volume[\"Neg_ctr\"] = total_volume[\"Pos_ctr\"] # copy the value into a new key\n",
    "\n",
    "# multiply by number of samples\n",
    "for key in total_volume:\n",
    "    total_volume[key] *= dotblot_method.n_samples_main_dilution\n",
    "    total_volume[key] *= 3 # because each sample is triplicated (placed in 3 wells)\n",
    "    total_volume[key] = round(total_volume[key], 2)\n",
    "\n",
    "total_volume"
   ]
  },
  {
   "cell_type": "code",
   "execution_count": 162,
   "metadata": {},
   "outputs": [
    {
     "data": {
      "text/plain": [
       "2.18"
      ]
     },
     "execution_count": 162,
     "metadata": {},
     "output_type": "execute_result"
    }
   ],
   "source": [
    "( 840 + 560 + 780 ) / 1000"
   ]
  },
  {
   "cell_type": "code",
   "execution_count": 160,
   "metadata": {},
   "outputs": [
    {
     "data": {
      "text/html": [
       "<div>\n",
       "<style scoped>\n",
       "    .dataframe tbody tr th:only-of-type {\n",
       "        vertical-align: middle;\n",
       "    }\n",
       "\n",
       "    .dataframe tbody tr th {\n",
       "        vertical-align: top;\n",
       "    }\n",
       "\n",
       "    .dataframe thead th {\n",
       "        text-align: right;\n",
       "    }\n",
       "</style>\n",
       "<table border=\"1\" class=\"dataframe\">\n",
       "  <thead>\n",
       "    <tr style=\"text-align: right;\">\n",
       "      <th></th>\n",
       "      <th>Dilution step</th>\n",
       "      <th>Initial concentration</th>\n",
       "      <th>Withdrawn volume</th>\n",
       "      <th>Final concentration</th>\n",
       "      <th>Assay buffer volume</th>\n",
       "      <th>Sample volume</th>\n",
       "      <th>Final Volume</th>\n",
       "    </tr>\n",
       "  </thead>\n",
       "  <tbody>\n",
       "    <tr>\n",
       "      <th>20</th>\n",
       "      <td>1</td>\n",
       "      <td>10.2</td>\n",
       "      <td>10</td>\n",
       "      <td>0.12</td>\n",
       "      <td>840</td>\n",
       "      <td>10</td>\n",
       "      <td>850</td>\n",
       "    </tr>\n",
       "    <tr>\n",
       "      <th>21</th>\n",
       "      <td>2</td>\n",
       "      <td>0.12</td>\n",
       "      <td>40</td>\n",
       "      <td>0.008</td>\n",
       "      <td>560</td>\n",
       "      <td>40</td>\n",
       "      <td>600</td>\n",
       "    </tr>\n",
       "    <tr>\n",
       "      <th>22</th>\n",
       "      <td>3</td>\n",
       "      <td>0.008</td>\n",
       "      <td>20</td>\n",
       "      <td>0.0002</td>\n",
       "      <td>780</td>\n",
       "      <td>20</td>\n",
       "      <td>800</td>\n",
       "    </tr>\n",
       "  </tbody>\n",
       "</table>\n",
       "</div>"
      ],
      "text/plain": [
       "   Dilution step Initial concentration Withdrawn volume Final concentration  \\\n",
       "20             1                  10.2               10                0.12   \n",
       "21             2                  0.12               40               0.008   \n",
       "22             3                 0.008               20              0.0002   \n",
       "\n",
       "   Assay buffer volume Sample volume Final Volume  \n",
       "20                 840            10          850  \n",
       "21                 560            40          600  \n",
       "22                 780            20          800  "
      ]
     },
     "execution_count": 160,
     "metadata": {},
     "output_type": "execute_result"
    }
   ],
   "source": [
    "pos_control_dilution_data[0]"
   ]
  },
  {
   "cell_type": "code",
   "execution_count": null,
   "metadata": {},
   "outputs": [],
   "source": [
    "2.18"
   ]
  },
  {
   "cell_type": "code",
   "execution_count": 170,
   "metadata": {},
   "outputs": [
    {
     "data": {
      "text/plain": [
       "{'DPBS': 9.6,\n",
       " 'Coating protein': 1.2,\n",
       " 'Coating protein 2': 1.2,\n",
       " 'Blocking buffer': 2.4,\n",
       " 'Samples': 1.2,\n",
       " 'Conjugate': 1.2,\n",
       " 'Pos_ctr': 1.4000000000000001,\n",
       " 'Neg_ctr': 1.4000000000000001,\n",
       " 'Assay buffer': 51.8}"
      ]
     },
     "execution_count": 170,
     "metadata": {},
     "output_type": "execute_result"
    }
   ],
   "source": [
    "\n",
    "# print(\"sample vol:\", self.pos_control_dilution_data[\"Sample volume\"])\n",
    "# pos_ctr_sample_vol = round(self.pos_control_dilution_data[\"Sample volume\"].sum(), 1)\n",
    "# neg_ctr_sample_vol = round(self.neg_control_dilution_data[\"Sample volume\"].sum(), 1)\n",
    "# buffer_vol = round(self.pos_control_dilution_data, [\"Assay buffer volume\"].sum(), 2) + round(self.neg_control_dilution_data[\"Assay buffer volume\"].sum(), 2)\n",
    "# pos_ctr_sample_vol = round(sum(pos_control_dilution_data[0][\"Sample volume\"])/1000, 1)\n",
    "# print(\"pos_ctr_sample_vol\", pos_ctr_sample_vol)\n",
    "# neg_ctr_sample_vol = round(sum(neg_control_dilution_data[0][\"Sample volume\"])/1000, 1)\n",
    "# print(\"type:\", type(sum(self.pos_control_dilution_data, [\"Assay buffer volume\"]), 2))\n",
    "\n",
    "assay_buffer_vol = 0\n",
    "for k, sample_group in enumerate(sample_dilution_data):\n",
    "    assay_buffer_vol = assay_buffer_vol + round(sum(pos_control_dilution_data[k][\"Assay buffer volume\"]), 2) + round(sum(neg_control_dilution_data[k][\"Assay buffer volume\"]), 2) + (1 + int(dotblot_method.has_2_coatings)) * round(sum(sample_dilution_data[k][\"Assay buffer volume\"] * dotblot_method.n_samples_main_dilution), 2)\n",
    "\n",
    "total_volume[\"Pos_ctr\"] = total_volume[\"Pos_ctr\"]\n",
    "total_volume[\"Neg_ctr\"] = total_volume[\"Neg_ctr\"]\n",
    "\n",
    "buffer_type = \"Assay buffer\" # pos/neg ctr are diluted always with assay buffer\n",
    "total_volume[buffer_type] = round(assay_buffer_vol/1000, 1)\n",
    "\n",
    "# total_volume[\"Samples\"] = self.sample_dilution_data[\"Sample volume\"][0] # the real amount of sample vol needed for the dilutions\n",
    "total_volume"
   ]
  },
  {
   "cell_type": "code",
   "execution_count": 171,
   "metadata": {},
   "outputs": [
    {
     "data": {
      "text/plain": [
       "{'DPBS': 9.6,\n",
       " 'Coating protein': 1.2,\n",
       " 'Coating protein 2': 1.2,\n",
       " 'Blocking buffer': 4.8,\n",
       " 'Samples': 1.2,\n",
       " 'Conjugate': 2.4,\n",
       " 'Pos_ctr': 1.4000000000000001,\n",
       " 'Neg_ctr': 1.4000000000000001,\n",
       " 'Assay buffer': 51.8}"
      ]
     },
     "execution_count": 171,
     "metadata": {},
     "output_type": "execute_result"
    }
   ],
   "source": [
    "# double the volume if 2 coatings are needed (samples are doubled)\n",
    "if dotblot_method.has_2_coatings:\n",
    "    for key in total_volume:\n",
    "        if key in [\"Blocking buffer\", \"Conjugate\"]:\n",
    "            total_volume[key] = total_volume[key] * 2\n",
    "\n",
    "total_volume"
   ]
  },
  {
   "cell_type": "code",
   "execution_count": 172,
   "metadata": {},
   "outputs": [
    {
     "data": {
      "text/plain": [
       "{'DPBS': 9.6,\n",
       " 'Coating protein': 1.2,\n",
       " 'Coating protein 2': 1.2,\n",
       " 'Blocking buffer': 4.8,\n",
       " 'Samples': 1.2,\n",
       " 'Conjugate': 2.4,\n",
       " 'Pos_ctr': 1.4000000000000001,\n",
       " 'Neg_ctr': 1.4000000000000001,\n",
       " 'Assay buffer': 51.8,\n",
       " 'Dye': 9.6}"
      ]
     },
     "execution_count": 172,
     "metadata": {},
     "output_type": "execute_result"
    }
   ],
   "source": [
    "total_volume[\"Dye\"] = (96 * 100) / 1000 # full 96 wells used\n",
    "\n",
    "total_volume"
   ]
  },
  {
   "cell_type": "code",
   "execution_count": 185,
   "metadata": {},
   "outputs": [
    {
     "data": {
      "text/plain": [
       "{'DPBS': 72.8,\n",
       " 'Coating protein': 1.2,\n",
       " 'Coating protein 2': 1.2,\n",
       " 'Blocking buffer': 4.8,\n",
       " 'Samples': 1.2,\n",
       " 'Conjugate': 2.4,\n",
       " 'Pos_ctr': 1.4000000000000001,\n",
       " 'Neg_ctr': 1.4000000000000001,\n",
       " 'Assay buffer': 51.8,\n",
       " 'Dye': 9.6}"
      ]
     },
     "execution_count": 185,
     "metadata": {},
     "output_type": "execute_result"
    }
   ],
   "source": [
    "# calculate DPBS total volume\n",
    "total_volume[\"DPBS\"] = 0\n",
    "\n",
    "for step in pump_steps_data:\n",
    "    if step[\"step_type\"] == \"Transfer volume to wells\":\n",
    "        if step[\"liquid_type\"] == \"DPBS\":\n",
    "            total_volume[\"DPBS\"]+= (len(all_wells) * int(step[\"volume_amount\"])) / 1000\n"
   ]
  },
  {
   "cell_type": "code",
   "execution_count": 190,
   "metadata": {},
   "outputs": [
    {
     "data": {
      "text/plain": [
       "{'DPBS': 52.8,\n",
       " 'Coating protein': 2.7,\n",
       " 'Coating protein 2': 2.7,\n",
       " 'Blocking buffer': 10.8,\n",
       " 'Samples': 2.7,\n",
       " 'Conjugate': 5.4,\n",
       " 'Pos_ctr': 2.7,\n",
       " 'Neg_ctr': 2.7,\n",
       " 'Assay buffer': 106.7,\n",
       " 'Dye': 9.6}"
      ]
     },
     "execution_count": 190,
     "metadata": {},
     "output_type": "execute_result"
    }
   ],
   "source": [
    "total_volumes_test = {'DPBS': 52.8, 'Coating protein': 2.7, 'Coating protein 2': 2.7, 'Blocking buffer': 10.8, 'Samples': 2.7, 'Conjugate': 5.4, 'Pos_ctr': 2.7, 'Neg_ctr': 2.7, 'Assay buffer': 106.7, 'Dye': 9.6}\n",
    "\n",
    "total_volumes_test"
   ]
  },
  {
   "cell_type": "code",
   "execution_count": 191,
   "metadata": {},
   "outputs": [
    {
     "data": {
      "text/plain": [
       "{'DPBS': 52.8,\n",
       " 'Coating protein': 2.7,\n",
       " 'Coating protein 2': 2.7,\n",
       " 'Blocking buffer': 10.8,\n",
       " 'Samples': 2.7,\n",
       " 'Conjugate': 5.4,\n",
       " 'Pos_ctr': 2.7,\n",
       " 'Neg_ctr': 2.7,\n",
       " 'Assay buffer': 106.7,\n",
       " 'Dye': 9.6}"
      ]
     },
     "execution_count": 191,
     "metadata": {},
     "output_type": "execute_result"
    }
   ],
   "source": [
    "{'DPBS': 52.8, 'Coating protein': 2.7, 'Coating protein 2': 2.7, 'Blocking buffer': 10.8, 'Samples': 2.7, 'Conjugate': 5.4, 'Pos_ctr': 2.7, 'Neg_ctr': 2.7, 'Assay buffer': 106.7, 'Dye': 9.6}\n"
   ]
  },
  {
   "cell_type": "code",
   "execution_count": 151,
   "metadata": {},
   "outputs": [
    {
     "data": {
      "text/plain": [
       "<module 'helper.utils' from 'c:\\\\Users\\\\DPerez36\\\\OneDrive - JNJ\\\\Documents\\\\git repos\\\\tecan_gui\\\\helper\\\\utils.py'>"
      ]
     },
     "execution_count": 151,
     "metadata": {},
     "output_type": "execute_result"
    }
   ],
   "source": [
    "reload(utils)"
   ]
  },
  {
   "cell_type": "code",
   "execution_count": 153,
   "metadata": {},
   "outputs": [],
   "source": [
    "path = \"SampleTransferTest.gwl\"\n",
    "\n",
    "n_samples_main_dilution = 9\n",
    "sample_eppendorf_positions = [[14, 15, 16, 17, 18, 19, 20, 21, 22], [23, 24, 25, 26, 27, 28, 29, 30, 31]]\n",
    "min_sample_well = 3\n",
    "max_sample_well = 91\n",
    "complete_well_list = np.arange(1, max_sample_well + 1) # list with all wells from 1 to the max sample pos\n",
    "excluded_pos = list(set(complete_well_list) - set(sample_wells)) # positions to exclude from pipetting in the reag. distrib. command\n",
    "n_diti_reuses = 1 # no reuse\n",
    "n_multi_dispense = 3\n",
    "sample_direction = 0 # top to down\n",
    "replicate_direction = 1 # left to right\n",
    "volume = 100\n",
    "\n",
    "utils.generate_sample_transfer_gwl(path, \"Eppendorf\", \"dotblot_apparatus\", sample_eppendorf_positions[0][0], sample_eppendorf_positions[-1][-1], min_sample_well, max_sample_well, volume, n_diti_reuses, n_multi_dispense, n_samples_main_dilution, 3, sample_direction, replicate_direction, excluded_positions=excluded_pos)\n"
   ]
  },
  {
   "cell_type": "code",
   "execution_count": 195,
   "metadata": {},
   "outputs": [
    {
     "data": {
      "text/plain": [
       "49.213"
      ]
     },
     "execution_count": 195,
     "metadata": {},
     "output_type": "execute_result"
    }
   ],
   "source": [
    "# total assay buffer\n",
    "\n",
    "tot = 9*(990+90+980+882+760+882)+840+560+780+840+944+792+555+950+792+904\n",
    "\n",
    "tot /=1000\n",
    "\n",
    "tot"
   ]
  },
  {
   "cell_type": "markdown",
   "metadata": {},
   "source": [
    "### reagent distribution for whole 96 plate for maximum time efficiency "
   ]
  },
  {
   "cell_type": "code",
   "execution_count": null,
   "metadata": {},
   "outputs": [],
   "source": [
    "\"\"\"\n",
    "\n",
    "R;AspirateParameters;DispenseParameters;Volume;LiquidClass;NoOfDitiReuses;NoOfMultiDisp;Direction[;ExcludeDestWell]\n",
    "\n",
    "AspirateParameters =\n",
    "SrcRackLabel;SrcRackID;SrcRackType;SrcPosStart;SrcPosEnd;\n",
    "\n",
    "DispenseParameters =\n",
    "DestRackLabel;DestRackID;DestRackType;DestPosStart;DestPosEnd;\n",
    "\n",
    "TOTAL:\n",
    "\n",
    "R;SrcRackLabel;SrcRackID;SrcRackType;SrcPosStart;SrcPosEnd;DestRackLabel;DestRackID;DestRackType;DestPosStart;DestPosEnd;Volume;LiquidClass;NoOfDitiReuses;NoOfMultiDisp;Direction\n",
    "\n",
    "- Aspirate from 100ml_1 reservoir into well plate, 100uL per well, and aspirate only once and dispense 3 times, using all 8 tips at the same time.\n",
    "R;100ml_1;;;1;8;96 Deep Well 2ml[001];;;1;24;100;;12;6;\n",
    "\n",
    "\"\"\""
   ]
  },
  {
   "cell_type": "code",
   "execution_count": 84,
   "metadata": {},
   "outputs": [
    {
     "data": {
      "text/plain": [
       "<module 'helper.utils' from 'c:\\\\Users\\\\DPerez36\\\\OneDrive - JNJ\\\\Documents\\\\git repos\\\\tecan_gui\\\\helper\\\\utils.py'>"
      ]
     },
     "execution_count": 84,
     "metadata": {},
     "output_type": "execute_result"
    }
   ],
   "source": [
    "reload(utils)"
   ]
  },
  {
   "cell_type": "code",
   "execution_count": 85,
   "metadata": {},
   "outputs": [],
   "source": [
    "utils.generate_reagent_distribution_gwl(\"test_reagentdist.gwl\", \"100ml_1\", \"dotblot_apparatus\", 1, 1, 1, 24, 234, 12, 12,[3,8,1])"
   ]
  },
  {
   "cell_type": "code",
   "execution_count": null,
   "metadata": {},
   "outputs": [],
   "source": [
    "# SAMPLE TRANSFER\n",
    "\n",
    "# generate the GWL directly\n",
    "path = \"SampleTransferTest.gwl\"\n",
    "\n",
    "complete_well_list = np.arange(1, max_sample_well + 1) # list with all wells from 1 to the max sample pos\n",
    "excluded_pos = list(set(complete_well_list) - set(sample_wells)) # positions to exclude from pipetting in the reag. distrib. command\n",
    "n_diti_reuses = 1 # no reuse\n",
    "n_multi_dispense = 3\n",
    "sample_direction = 0 # top to down\n",
    "replicate_direction = 1 # left to right\n",
    "\n",
    "generate_sample_transfer_gwl(path, LabSource, dest_labware, 1, 5, min_sample_well, max_sample_well, volume, n_diti_reuses, n_multi_dispense, self.n_samples_main_dilution, 3, sample_direction, replicate_direction, excluded_positions=excluded_pos)\n"
   ]
  },
  {
   "cell_type": "markdown",
   "metadata": {},
   "source": [
    "### testssssstststststs"
   ]
  },
  {
   "cell_type": "code",
   "execution_count": 52,
   "metadata": {},
   "outputs": [],
   "source": [
    "samples = [[[3, 11, 19], [4, 12, 20], [5, 13, 21], [6, 14, 22]], [[27, 35, 43], [28, 36, 44], [29, 37, 45], [30, 38, 46]]]\n"
   ]
  },
  {
   "cell_type": "code",
   "execution_count": 57,
   "metadata": {},
   "outputs": [],
   "source": [
    "sample_wells = np.ndarray.flatten(np.array(samples)).tolist()\n",
    "max_well = np.max(sample_wells)\n",
    "all_wells = np.arange(1, max_well+1) # list with all wells from 1 to the max sample pos"
   ]
  },
  {
   "cell_type": "code",
   "execution_count": 61,
   "metadata": {},
   "outputs": [
    {
     "name": "stdout",
     "output_type": "stream",
     "text": [
      "max well: 46\n",
      "sample_wells: [3, 11, 19, 4, 12, 20, 5, 13, 21, 6, 14, 22, 27, 35, 43, 28, 36, 44, 29, 37, 45, 30, 38, 46]\n",
      "excluded_pos: [1, 2, 7, 8, 9, 10, 15, 16, 17, 18, 23, 24, 25, 26, 31, 32, 33, 34, 39, 40, 41, 42]\n"
     ]
    }
   ],
   "source": [
    "print(f\"max well: {max_well}\")\n",
    "print(f\"sample_wells: {sample_wells}\")\n",
    "print(f\"excluded_pos: {excluded_pos}\")"
   ]
  },
  {
   "cell_type": "code",
   "execution_count": 95,
   "metadata": {},
   "outputs": [],
   "source": [
    "config_parameters = {\"has_2_coatings\": str(True),\n",
    "                     \"DPBS\": LabwareNames[\"DPBS\"],\n",
    "                     \"Coating protein\": LabwareNames[\"CoatingProtein\"],\n",
    "                     \"Blocking buffer\": LabwareNames[\"BlockingBuffer\"],\n",
    "                     \"Pos. control\": utils.LabwareNames,\n",
    "                     \"Neg. control\": utils.LabwareNames,\n",
    "                     \"Samples\": self.main_sample_labware_type,\n",
    "                     \"Conjugate\": utils.LabwareNames[\"Conjugate\"]}\n",
    "\n",
    "with open(\"config.txt\", 'w') as file:\n",
    "    # Write the keys\n",
    "    keys = \";\".join(config_parameters.keys())\n",
    "    file.write(keys + \";\\n\")\n",
    "    \n",
    "    # Write the values\n",
    "    values = \";\".join(map(str, config_parameters.values()))\n",
    "    file.write(values + \";\\n\")\n"
   ]
  },
  {
   "cell_type": "code",
   "execution_count": 2,
   "metadata": {},
   "outputs": [
    {
     "name": "stdout",
     "output_type": "stream",
     "text": [
      "Sample transfer is in triplicates\n"
     ]
    }
   ],
   "source": [
    "sample_triplicates = True\n",
    "\n",
    "print(f\"Sample transfer is {'in triplicates' if sample_triplicates else 'single'}\")"
   ]
  },
  {
   "cell_type": "code",
   "execution_count": 35,
   "metadata": {},
   "outputs": [],
   "source": [
    "import math\n",
    "\n",
    "def find_row_and_col(number):\n",
    "    # Constants for table size\n",
    "    rows = 16\n",
    "    columns = 24\n",
    "\n",
    "    # Calculate the column (1-based index)\n",
    "    col = math.ceil(number / rows)\n",
    "\n",
    "    # Calculate the row (1-based index)\n",
    "    row = number % rows\n",
    "    if row == 0:\n",
    "        row = rows  # The number is in the last row\n",
    "\n",
    "    return row, col"
   ]
  },
  {
   "cell_type": "code",
   "execution_count": 40,
   "metadata": {},
   "outputs": [],
   "source": [
    "def find_max_row(numbers):\n",
    "    # Constants for table size\n",
    "    rows = 16\n",
    "\n",
    "    max_row = 0\n",
    "\n",
    "    for number in numbers:\n",
    "        # Calculate the row (1-based index)\n",
    "        row = number % rows\n",
    "        if row == 0:\n",
    "            row = rows  # The number is in the last row\n",
    "\n",
    "        # Update max_row if the current row is greater\n",
    "        if row > max_row:\n",
    "            max_row = row\n",
    "\n",
    "    return max_row"
   ]
  },
  {
   "cell_type": "code",
   "execution_count": 39,
   "metadata": {},
   "outputs": [
    {
     "name": "stdout",
     "output_type": "stream",
     "text": [
      "Number 78 is located at row 14, column 5\n",
      "Well: 1, Row: 1, Col: 1\n",
      "Well: 17, Row: 1, Col: 2\n",
      "Well: 33, Row: 1, Col: 3\n",
      "Well: 49, Row: 1, Col: 4\n",
      "Well: 65, Row: 1, Col: 5\n",
      "Well: 81, Row: 1, Col: 6\n",
      "Well: 97, Row: 1, Col: 7\n",
      "Well: 113, Row: 1, Col: 8\n"
     ]
    }
   ],
   "source": [
    "# Example usage:\n",
    "# [1, 17, 33, 49, 65, 81, 97, 113]\n",
    "number = 78\n",
    "row, column = find_position(number)\n",
    "print(f\"Number {number} is located at row {row}, column {column}\")\n",
    "\n",
    "for well in [1, 17, 33, 49, 65, 81, 97, 113]:\n",
    "    row, column = find_position(well)\n",
    "    print(f\"Well: {well}, Row: {row}, Col: {column}\")"
   ]
  },
  {
   "cell_type": "code",
   "execution_count": 47,
   "metadata": {},
   "outputs": [
    {
     "data": {
      "text/plain": [
       "9"
      ]
     },
     "execution_count": 47,
     "metadata": {},
     "output_type": "execute_result"
    }
   ],
   "source": [
    "find_max_row([1, 17, 33, 49, 65, 81, 97, 113, 5, 8, 9, 17])"
   ]
  },
  {
   "cell_type": "code",
   "execution_count": 48,
   "metadata": {},
   "outputs": [],
   "source": [
    "def shift_and_insert(numbers):\n",
    "    rows = 16\n",
    "    columns = 24\n",
    "    new_list = numbers[:]\n",
    "    \n",
    "    max_row = find_max_row(numbers)\n",
    "    \n",
    "    # Track which rows have been shifted to avoid shifting twice\n",
    "    rows_shifted = set()\n",
    "    \n",
    "    for number in sorted(numbers):\n",
    "        row, column = find_position(number)\n",
    "        \n",
    "        # Skip the number if its row has already been processed\n",
    "        if row in rows_shifted:\n",
    "            continue\n",
    "        \n",
    "        # Check if the row number is greater than the max_row found\n",
    "        if row > max_row:\n",
    "            continue\n",
    "        \n",
    "        # Add the first cell in the row to the list\n",
    "        first_cell = (column - 1) * rows + 1\n",
    "        if first_cell not in new_list:\n",
    "            new_list.append(first_cell)\n",
    "        \n",
    "        # Shift values in the row\n",
    "        for i in range(len(new_list)):\n",
    "            val_row, val_column = find_position(new_list[i])\n",
    "            if val_row == row and val_column >= column:\n",
    "                new_list[i] += 1\n",
    "        \n",
    "        # Mark the row as shifted\n",
    "        rows_shifted.add(row)\n",
    "    \n",
    "    # Sort the new list for better readability (optional)\n",
    "    new_list.sort()\n",
    "    \n",
    "    return new_list"
   ]
  },
  {
   "cell_type": "code",
   "execution_count": 50,
   "metadata": {},
   "outputs": [
    {
     "data": {
      "text/plain": [
       "[1, 3, 3, 19, 35, 51, 67, 83, 99, 115]"
      ]
     },
     "execution_count": 50,
     "metadata": {},
     "output_type": "execute_result"
    }
   ],
   "source": [
    "wells = [1, 17, 33, 49, 65, 81, 97, 113, 2]\n",
    "\n",
    "shift_and_insert(wells)"
   ]
  },
  {
   "cell_type": "code",
   "execution_count": 8,
   "metadata": {},
   "outputs": [
    {
     "name": "stdout",
     "output_type": "stream",
     "text": [
      "[1 1 1 1 1 1 1 1]\n"
     ]
    }
   ],
   "source": [
    "nsamples = 8\n",
    "\n",
    "a, b = utils.dilution_position_def(\"Eppendorf\", 1, nsamples)\n",
    "\n",
    "print(b)"
   ]
  },
  {
   "cell_type": "code",
   "execution_count": 68,
   "metadata": {},
   "outputs": [
    {
     "name": "stdout",
     "output_type": "stream",
     "text": [
      "initial pos: [1, 2, 3, 4, 5, 6, 7, 8, 9, 10, 11, 12]\n",
      "final pos: [1, 2, 3, 4, 5, 6, 7, 8, 9, 10, 11, 12, 13, 14, 15]\n"
     ]
    }
   ],
   "source": [
    "index = 0\n",
    "wells_per_row = 5\n",
    "\n",
    "pos = [x+1 for x in range(12)]\n",
    "print(f\"initial pos: {pos}\")\n",
    "\n",
    "# initial shift for column 1\n",
    "\n",
    "while (index < len(pos)):\n",
    "\n",
    "    pos[index:] = [value + 1 for value in pos[index:]] # shift values to the right (+1)\n",
    "    pos.insert(index, index+1)\n",
    "    index += wells_per_row\n",
    "\n",
    "\n",
    "print(f\"final pos: {pos}\")"
   ]
  },
  {
   "cell_type": "code",
   "execution_count": 16,
   "metadata": {},
   "outputs": [
    {
     "data": {
      "text/plain": [
       "[3, 4, 5, 6]"
      ]
     },
     "execution_count": 16,
     "metadata": {},
     "output_type": "execute_result"
    }
   ],
   "source": [
    "a = [1,2,3,4]\n",
    "\n",
    "a = [i+2 for i in a]\n",
    "\n",
    "a"
   ]
  },
  {
   "cell_type": "code",
   "execution_count": 6,
   "metadata": {},
   "outputs": [
    {
     "data": {
      "text/plain": [
       "<module 'helper.utils' from 'c:\\\\Users\\\\DPerez36\\\\OneDrive - JNJ\\\\Documents\\\\git repos\\\\tecan_gui\\\\helper\\\\utils.py'>"
      ]
     },
     "execution_count": 6,
     "metadata": {},
     "output_type": "execute_result"
    }
   ],
   "source": [
    "reload(utils)"
   ]
  },
  {
   "cell_type": "code",
   "execution_count": 7,
   "metadata": {},
   "outputs": [
    {
     "data": {
      "text/plain": [
       "180.0"
      ]
     },
     "execution_count": 7,
     "metadata": {},
     "output_type": "execute_result"
    }
   ],
   "source": [
    "utils.calculate_dilution_parameter(100, 10, 20)"
   ]
  },
  {
   "cell_type": "code",
   "execution_count": 4,
   "metadata": {},
   "outputs": [
    {
     "data": {
      "text/plain": [
       "(1000.0, 0.0)"
      ]
     },
     "execution_count": 4,
     "metadata": {},
     "output_type": "execute_result"
    }
   ],
   "source": [
    "total_vol = 1000\n",
    "init_conc = 10\n",
    "final_conc = 0.1\n",
    "\n",
    "\n",
    "utils.calculate_dilution_parameter(10, 10, None, 1000)"
   ]
  },
  {
   "cell_type": "markdown",
   "metadata": {},
   "source": [
    "#### read file changes and play a sound"
   ]
  },
  {
   "cell_type": "code",
   "execution_count": 1,
   "metadata": {},
   "outputs": [
    {
     "name": "stdout",
     "output_type": "stream",
     "text": [
      "pygame 2.6.0 (SDL 2.28.4, Python 3.10.4)\n",
      "Hello from the pygame community. https://www.pygame.org/contribute.html\n"
     ]
    }
   ],
   "source": [
    "import time\n",
    "from pygame import mixer\n",
    "# from playsound import playsound  # Install this package with `pip install playsound` - no disponible aun para 3.10.4\n",
    "\n",
    "def monitor_file(filename, check_interval=60, alert_sound=\"alert.mp3\"):\n",
    "    \n",
    "    # Initialize pygame mixer to play sound\n",
    "    mixer.init()\n",
    "\n",
    "    # Read initial lines in the file\n",
    "    with open(filename, 'r') as file:\n",
    "        lines = file.readlines()\n",
    "        previous_line_count = len(lines)\n",
    "    \n",
    "    while True:\n",
    "        # Wait for the specified interval (e.g., 60 seconds)\n",
    "        time.sleep(check_interval)\n",
    "        \n",
    "        # Open the file again and read current lines\n",
    "        with open(filename, 'r') as file:\n",
    "            lines = file.readlines()\n",
    "            current_line_count = len(lines)\n",
    "\n",
    "        if lines[-1] == \"END\":\n",
    "            return \"File monitoring finished by 'END' command.\"\n",
    "        \n",
    "        # If new lines have been added\n",
    "        if current_line_count > previous_line_count:\n",
    "            print(f\"New line added! Total lines: {current_line_count}\")\n",
    "            # playsound(alert_sound)  # Play the sound alert\n",
    "            print(\"FILE CHANGED!\")\n",
    "\n",
    "            # Play the alert sound using pygame\n",
    "            mixer.music.load(alert_sound)\n",
    "            mixer.music.play()\n",
    "            \n",
    "            # Update the previous line count\n",
    "            previous_line_count = current_line_count\n"
   ]
  },
  {
   "cell_type": "code",
   "execution_count": 2,
   "metadata": {},
   "outputs": [
    {
     "name": "stdout",
     "output_type": "stream",
     "text": [
      "New line added! Total lines: 4\n",
      "FILE CHANGED!\n"
     ]
    },
    {
     "data": {
      "text/plain": [
       "\"File monitoring finished by 'END' command.\""
      ]
     },
     "execution_count": 2,
     "metadata": {},
     "output_type": "execute_result"
    }
   ],
   "source": [
    "# Example usage:\n",
    "filename = \"test.txt\"\n",
    "alert_sound = \"Goofy Cartoon Sounds.wav\"  # Replace with the path to your sound file\n",
    "monitor_file(filename, 5, alert_sound)"
   ]
  },
  {
   "cell_type": "markdown",
   "metadata": {},
   "source": [
    "### Color project"
   ]
  },
  {
   "cell_type": "code",
   "execution_count": 32,
   "metadata": {},
   "outputs": [],
   "source": [
    "reload(utils)\n",
    "reload(ColorProjectDilutions)\n",
    "\n",
    "colorProjectDil = ColorProjectDilutions.ColorProjectDilutionsMethod()"
   ]
  },
  {
   "cell_type": "code",
   "execution_count": 94,
   "metadata": {},
   "outputs": [
    {
     "name": "stdout",
     "output_type": "stream",
     "text": [
      "type of init sampke vol: <class 'int'>\n",
      "type init sample vol: <class 'int'>\n",
      "labware pos holder: 1\n"
     ]
    }
   ],
   "source": [
    "reload(utils)\n",
    "reload(ColorProjectDilutions)\n",
    "colorProjectDil = ColorProjectDilutions.ColorProjectDilutionsMethod()\n",
    "\n",
    "colorProjectDil.n_samples = 2 # amount of samples for the sample transfer\n",
    "colorProjectDil.initial_sample_volume = 50\n",
    "colorProjectDil.initial_diluent_volume = 1950\n",
    "colorProjectDil.n_replicates = 4\n",
    "colorProjectDil.sample_filename = \"B7_sample\"\n",
    "colorProjectDil.diluent_filename = \"B7_diluent\"\n",
    "\n",
    "\n",
    "print(\"type of init sampke vol:\", type(colorProjectDil.initial_sample_volume))\n",
    "colorProjectDil.color_project_dilutions()"
   ]
  },
  {
   "cell_type": "code",
   "execution_count": 44,
   "metadata": {},
   "outputs": [
    {
     "data": {
      "text/plain": [
       "'UV_Cuvette'"
      ]
     },
     "execution_count": 44,
     "metadata": {},
     "output_type": "execute_result"
    }
   ],
   "source": [
    "utils.LabwareNames[\"UV Cuvette\"]"
   ]
  },
  {
   "cell_type": "code",
   "execution_count": 18,
   "metadata": {},
   "outputs": [
    {
     "data": {
      "text/plain": [
       "'L:\\\\Departements\\\\BTDS_AD\\\\002_AFFS\\\\Lab Automation\\\\09. Tecan\\\\01. Methods\\\\10. Color Project/B7_sample_01'"
      ]
     },
     "execution_count": 18,
     "metadata": {},
     "output_type": "execute_result"
    }
   ],
   "source": [
    "colorProjectDil.sample_filename = \"/\" + \"B7_sample\"\n",
    "\n",
    "colorProjectDil.files_path + colorProjectDil.sample_filename + \"_0\" + str(1)"
   ]
  },
  {
   "cell_type": "code",
   "execution_count": 73,
   "metadata": {},
   "outputs": [],
   "source": [
    "# parameters\n",
    "num_samples = 10\n",
    "start_vol1 = 50\n",
    "start_vol2 = 1950\n",
    "diff = 2\n",
    "\n",
    "vol1_array = []\n",
    "vol2_array = []\n",
    "\n",
    "for i in range(num_samples):\n",
    "    vol1 = start_vol1 - (i * diff)  # Decreasing volume for vol1\n",
    "    vol2 = round(start_vol2/2) + (i * round(diff/2))  # Increasing volume for vol2\n",
    "    \n",
    "    vol1_array.append(vol1)\n",
    "    vol2_array.append(vol2)"
   ]
  },
  {
   "cell_type": "code",
   "execution_count": 74,
   "metadata": {},
   "outputs": [
    {
     "name": "stdout",
     "output_type": "stream",
     "text": [
      "[50, 48, 46, 44, 42, 40, 38, 36, 34, 32]\n",
      "[975, 976, 977, 978, 979, 980, 981, 982, 983, 984]\n"
     ]
    }
   ],
   "source": [
    "print(vol1_array)\n",
    "print(vol2_array)"
   ]
  }
 ],
 "metadata": {
  "kernelspec": {
   "display_name": "Python 3",
   "language": "python",
   "name": "python3"
  },
  "language_info": {
   "codemirror_mode": {
    "name": "ipython",
    "version": 3
   },
   "file_extension": ".py",
   "mimetype": "text/x-python",
   "name": "python",
   "nbconvert_exporter": "python",
   "pygments_lexer": "ipython3",
   "version": "3.10.4"
  }
 },
 "nbformat": 4,
 "nbformat_minor": 2
}
