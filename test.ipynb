{
 "cells": [
  {
   "cell_type": "code",
   "execution_count": 24,
   "metadata": {},
   "outputs": [],
   "source": [
    "import pandas as pd\n",
    "import numpy as np\n",
    "import utils\n",
    "import Dotblot\n",
    "import GeneralDilution\n",
    "\n",
    "from importlib import reload\n",
    "import os\n",
    "import re\n",
    "import json"
   ]
  },
  {
   "cell_type": "code",
   "execution_count": 74,
   "metadata": {},
   "outputs": [],
   "source": [
    "reload(utils)\n",
    "reload(Dotblot)\n",
    "dotblot_method = Dotblot.DotblotMethod()\n",
    "\n",
    "data = utils.import_excel_dotblot(r\"L:/Departements/BTDS_AD/002_AFFS/Lab Automation/09. Tecan/06. DotBlot_automation_DPP/DotBlot_automation_dilution_template_final.xlsx\")\n",
    "sample_dilution_data = data[0]\n",
    "coating_protein_dilution_data = data[1]\n",
    "pos_control_dilution_data = data[2]\n",
    "neg_control_dilution_data = data[3]"
   ]
  },
  {
   "cell_type": "code",
   "execution_count": 77,
   "metadata": {},
   "outputs": [
    {
     "name": "stdout",
     "output_type": "stream",
     "text": [
      "pos dilutions done\n",
      "negative ctr eppendorf pos: [2]\n",
      "neg dilutions done\n",
      "las eppendorf pos:  3\n",
      "sample last eppensorf pos:  7\n",
      "sample dilutions done\n",
      "sample eppendorf pos: [7, 8, 9, 10]\n",
      "calculated pump labware positions\n",
      "transfer volume instruction  1 done\n",
      "transfer volume instruction  2 done\n",
      "transfer volume instruction  3 done\n",
      "transfer volume instruction  4 done\n",
      "transfer volume instruction  5 done\n",
      "transfer volume instruction  6 done\n",
      "transfer volume instruction  7 done\n",
      "transfer volume instruction  8 done\n",
      "transfer volume instruction  9 done\n",
      "generated all GWL files\n"
     ]
    },
    {
     "data": {
      "text/plain": [
       "([1], [2], [7, 8, 9, 10])"
      ]
     },
     "execution_count": 77,
     "metadata": {},
     "output_type": "execute_result"
    }
   ],
   "source": [
    "\n",
    "# Reset parameters\n",
    "dotblot_method.last_eppendorf_pos = 1\n",
    "dotblot_method.last_deep_well_pos = 1\n",
    "\n",
    "dotblot_method.n_pos_control_steps = len(pos_control_dilution_data[\"Assay buffer volume\"])\n",
    "dotblot_method.n_neg_control_steps = len(neg_control_dilution_data[\"Assay buffer volume\"])\n",
    "dotblot_method.sample_dilution_data = {col: sample_dilution_data[col].values.astype(float).tolist() for col in sample_dilution_data.columns}\n",
    "dotblot_method.pos_control_dilution_data = {col: pos_control_dilution_data[col].values.astype(float).tolist() for col in pos_control_dilution_data.columns}\n",
    "dotblot_method.neg_control_dilution_data = {col: neg_control_dilution_data[col].values.astype(float).tolist() for col in neg_control_dilution_data.columns}\n",
    "dotblot_method.pos_control_vial_posX = 1\n",
    "dotblot_method.pos_control_vial_posY = 1\n",
    "dotblot_method.main_sample_labware_type = \"Eppendorf\"\n",
    "dotblot_method.main_sample_dil_destination = \"DeepWell\"\n",
    "dotblot_method.n_samples_main_dilution = 4\n",
    "dotblot_method.n_sample_dilution_steps = len(sample_dilution_data[\"Assay buffer volume\"])\n",
    "\n",
    "# read JSON assay file and generate methods and products lists\n",
    "RAW_ASSAYS_DATA, METHODS_LIST, PRODUCTS_DICT = utils.generate_methods_and_products(\"assays.json\")\n",
    "indices = utils.get_assay_indices(RAW_ASSAYS_DATA, \"Dotblot\", \"CD79bxCD20xCD3\")\n",
    "dotblot_method.pump_steps_data = RAW_ASSAYS_DATA[indices[0]][\"step_types\"] # get pump steps from JSON file\n",
    "\n",
    "dotblot_method.dotblot()"
   ]
  },
  {
   "cell_type": "code",
   "execution_count": 72,
   "metadata": {},
   "outputs": [
    {
     "data": {
      "text/html": [
       "<div>\n",
       "<style scoped>\n",
       "    .dataframe tbody tr th:only-of-type {\n",
       "        vertical-align: middle;\n",
       "    }\n",
       "\n",
       "    .dataframe tbody tr th {\n",
       "        vertical-align: top;\n",
       "    }\n",
       "\n",
       "    .dataframe thead th {\n",
       "        text-align: right;\n",
       "    }\n",
       "</style>\n",
       "<table border=\"1\" class=\"dataframe\">\n",
       "  <thead>\n",
       "    <tr style=\"text-align: right;\">\n",
       "      <th></th>\n",
       "      <th>Dilution step</th>\n",
       "      <th>Initial concentration</th>\n",
       "      <th>Withdrawn volume</th>\n",
       "      <th>Final concentration</th>\n",
       "      <th>Assay buffer volume</th>\n",
       "      <th>Sample volume</th>\n",
       "      <th>Final Volume</th>\n",
       "    </tr>\n",
       "  </thead>\n",
       "  <tbody>\n",
       "    <tr>\n",
       "      <th>0</th>\n",
       "      <td>1</td>\n",
       "      <td>10.2</td>\n",
       "      <td>6</td>\n",
       "      <td>0.08</td>\n",
       "      <td>759.0</td>\n",
       "      <td>6</td>\n",
       "      <td>765.0</td>\n",
       "    </tr>\n",
       "    <tr>\n",
       "      <th>1</th>\n",
       "      <td>2</td>\n",
       "      <td>0.08</td>\n",
       "      <td>10</td>\n",
       "      <td>0.002</td>\n",
       "      <td>390</td>\n",
       "      <td>10</td>\n",
       "      <td>400</td>\n",
       "    </tr>\n",
       "    <tr>\n",
       "      <th>2</th>\n",
       "      <td>3</td>\n",
       "      <td>0.002</td>\n",
       "      <td>100</td>\n",
       "      <td>0.0002</td>\n",
       "      <td>900</td>\n",
       "      <td>100</td>\n",
       "      <td>1000</td>\n",
       "    </tr>\n",
       "  </tbody>\n",
       "</table>\n",
       "</div>"
      ],
      "text/plain": [
       "  Dilution step Initial concentration Withdrawn volume Final concentration  \\\n",
       "0             1                  10.2                6                0.08   \n",
       "1             2                  0.08               10               0.002   \n",
       "2             3                 0.002              100              0.0002   \n",
       "\n",
       "  Assay buffer volume Sample volume Final Volume  \n",
       "0               759.0             6        765.0  \n",
       "1                 390            10          400  \n",
       "2                 900           100         1000  "
      ]
     },
     "execution_count": 72,
     "metadata": {},
     "output_type": "execute_result"
    }
   ],
   "source": [
    "sample_dilution_data"
   ]
  },
  {
   "cell_type": "code",
   "execution_count": 20,
   "metadata": {},
   "outputs": [],
   "source": [
    "csv_path = r'L:\\Departements\\BTDS_AD\\002_AFFS\\Lab Automation\\09. Tecan\\01. Methods\\3. DotBlot\\2. Positive control.csv'\n",
    "\n",
    "mix_data = []\n",
    "labware_name = \"Custom holder[001]\"\n",
    "labware_pos = 1\n",
    "volume = 300\n",
    "\n",
    "for i in range(3):\n",
    "    mix_data.append([labware_name, labware_pos, labware_name, labware_pos, volume])\n",
    "\n",
    "mix_data\n",
    "mix_csv = pd.DataFrame(mix_data, columns=None)\n",
    "mix_csv\n",
    "\n",
    "original_csv = pd.read_csv(csv_path, header=None) # create dataframe from original CSV file\n",
    "final_csv = pd.concat([original_csv, mix_csv], ignore_index=True) # concatenate both dataframes into one\n",
    "final_csv.to_csv(csv_path, index=False, header=False)"
   ]
  },
  {
   "cell_type": "code",
   "execution_count": null,
   "metadata": {},
   "outputs": [],
   "source": [
    "pump_step_data_simple = [{'step_type': 'Transfer volume to wells', 'volume_amount': '100', 'liquid_type': 'DPBS', 'wells_type': 'All wells'}, {'step_type': 'Vacuum'}, {'step_type': 'Wait timer', 'wait_timer': 10.0}]\n",
    "pump_step_data = [{'step_type': 'Transfer volume to wells', 'volume_amount': '100', 'liquid_type': 'Samples', 'wells_type': 'All wells'}, {'step_type': 'Vacuum'}, {'step_type': 'Transfer volume to wells', 'volume_amount': '100', 'liquid_type': 'Coating protein', 'wells_type': 'All wells'}, {'step_type': 'Wait timer', 'wait_timer': 10.0}, {'step_type': 'Vacuum'}, {'step_type': 'Transfer volume to wells', 'volume_amount': '200', 'liquid_type': 'Blocking buffer', 'wells_type': 'All wells'}, {'step_type': 'Wait timer', 'wait_timer': 10.0}, {'step_type': 'Vacuum'}, {'step_type': 'Transfer volume to wells', 'volume_amount': '100', 'liquid_type': 'Pos/Neg control', 'wells_type': 'Only samples'}, {'step_type': 'Vacuum'}, {'step_type': 'Transfer volume to wells', 'volume_amount': '100', 'liquid_type': 'Conjugate', 'wells_type': 'All wells'}, {'step_type': 'Wait timer', 'wait_timer': 10.0}, {'step_type': 'Vacuum'}, {'step_type': 'Transfer volume to wells', 'volume_amount': '200', 'liquid_type': 'DPBS', 'wells_type': 'All wells'}, {'step_type': 'Wait timer', 'wait_timer': 5.0}, {'step_type': 'Transfer volume to wells', 'volume_amount': '200', 'liquid_type': 'DPBS', 'wells_type': 'All wells'}, {'step_type': 'Wait timer', 'wait_timer': 5.0}, {'step_type': 'Transfer volume to wells', 'volume_amount': '200', 'liquid_type': 'DPBS', 'wells_type': 'All wells'}, {'step_type': 'Wait timer', 'wait_timer': 5.0}, {'step_type': 'Vacuum'}]\n",
    "\n",
    "pump_step_data"
   ]
  },
  {
   "cell_type": "markdown",
   "metadata": {},
   "source": [
    "### For Dotblot first try for TV-TMD-35372"
   ]
  },
  {
   "cell_type": "code",
   "execution_count": null,
   "metadata": {},
   "outputs": [],
   "source": [
    "steps = [\n",
    "         {'step_type': 'Transfer volume to wells', 'volume_amount': '200', 'liquid_type': 'DPBS'}, \n",
    "         {'step_type': 'Wait timer', 'wait_timer': 60}, {'step_type': 'Vacuum'}, \n",
    "         {'step_type': 'Transfer volume to wells', 'volume_amount': '100', 'liquid_type': 'Coating protein'}, \n",
    "         {'step_type': 'Wait timer', 'wait_timer': 480}, \n",
    "         {'step_type': 'Vacuum'}, \n",
    "         {'step_type': 'Transfer volume to wells', 'volume_amount': '200', 'liquid_type': 'Blocking buffer'}, \n",
    "         {'step_type': 'Wait timer', 'wait_timer': 480}, \n",
    "         {'step_type': 'Vacuum'}, \n",
    "         {'step_type': 'Transfer volume to wells', 'volume_amount': '100', 'liquid_type': 'Pos/Neg control'}, \n",
    "         {'step_type': 'Transfer volume to wells', 'volume_amount': '100', 'liquid_type': 'Samples'}, \n",
    "         {'step_type': 'Wait timer', 'wait_timer': 600}, \n",
    "         {'step_type': 'Vacuum'}, \n",
    "         {'step_type': 'Transfer volume to wells', 'volume_amount': '100', 'liquid_type': 'Conjugate'}, \n",
    "         {'step_type': 'Wait timer', 'wait_timer': 480}, \n",
    "         {'step_type': 'Vacuum'}, \n",
    "         {'step_type': 'Transfer volume to wells', 'volume_amount': '200', 'liquid_type': 'DPBS'}, \n",
    "         {'step_type': 'Wait timer', 'wait_timer': 60}, \n",
    "         {'step_type': 'Vacuum'},  \n",
    "         {'step_type': 'Transfer volume to wells', 'volume_amount': '200', 'liquid_type': 'DPBS'}, \n",
    "         {'step_type': 'Wait timer', 'wait_timer': 60}, \n",
    "         {'step_type': 'Vacuum'},  \n",
    "         {'step_type': 'Transfer volume to wells', 'volume_amount': '200', 'liquid_type': 'DPBS'}, \n",
    "         {'step_type': 'Wait timer', 'wait_timer': 60}, \n",
    "         {'step_type': 'Vacuum'}\n",
    "]\n",
    "\n",
    "steps"
   ]
  },
  {
   "cell_type": "code",
   "execution_count": null,
   "metadata": {},
   "outputs": [],
   "source": [
    "dotblot_method.pump_steps_data = pump_step_data\n",
    "dotblot_method.sample_eppendorf_positions = [3,4,5,6]\n",
    "\n",
    "dotblot_method.generate_pump_step_instruction_files()"
   ]
  },
  {
   "cell_type": "code",
   "execution_count": 4,
   "metadata": {},
   "outputs": [],
   "source": [
    "dotblot_method.transfer_volume_to_wells(dotblot_method.dpbs_lw_name, \"96 Deep Well[001]\", 100)"
   ]
  },
  {
   "cell_type": "markdown",
   "metadata": {},
   "source": [
    "#### GENERAL DILUTION TESTS"
   ]
  },
  {
   "cell_type": "code",
   "execution_count": 182,
   "metadata": {},
   "outputs": [],
   "source": [
    "reload(utils)\n",
    "reload(GeneralDilution)\n",
    "\n",
    "gen_dil = GeneralDilution.GeneralDilution()"
   ]
  },
  {
   "cell_type": "code",
   "execution_count": 183,
   "metadata": {},
   "outputs": [],
   "source": [
    "sample_dilution_data = {'Dilution step': [1.0, 2.0, 3.0], 'Initial concentration': [150.0, 0.7, 0.003], 'Withdrawn volume': [4.0, 4.0, 30.0], 'Final concentration': [0.7, 0.003, 0.0001], 'Assay buffer volume': [853.1428571428572, 929.3333333333333, 869.9999999999999], 'Sample volume': [4.0, 4.0, 30.0], 'Final Volume': [857.1428571428572, 933.3333333333333, 899.9999999999999]}\n",
    "gen_dil.sample_dilution_data = sample_dilution_data\n",
    "gen_dil.n_sample_dilution_steps = len(gen_dil.sample_dilution_data[\"Assay buffer volume\"])\n",
    "gen_dil.n_samples = 7\n",
    "gen_dil.buffer_type = \"DPBS\"\n",
    "gen_dil.sample_lw_origin = \"Falcon15\"\n",
    "gen_dil.sample_lw_dest = \"2R Vial\"\n",
    "gen_dil.used_labware_pos = dict.fromkeys(gen_dil.last_labware_pos, 0)"
   ]
  },
  {
   "cell_type": "code",
   "execution_count": 184,
   "metadata": {},
   "outputs": [
    {
     "data": {
      "text/plain": [
       "[1, 2, 3, 4, 5, 6, 7]"
      ]
     },
     "execution_count": 184,
     "metadata": {},
     "output_type": "execute_result"
    }
   ],
   "source": [
    "gen_dil.general_dilution()"
   ]
  },
  {
   "cell_type": "code",
   "execution_count": 185,
   "metadata": {},
   "outputs": [
    {
     "data": {
      "text/plain": [
       "{'Falcon15': 7,\n",
       " 'Falcon50': 0,\n",
       " 'Eppendorf': 0,\n",
       " 'DeepWell': 21,\n",
       " '2R Vial': 7,\n",
       " '8R Vial': 0,\n",
       " 'CustomVialHolder': 0,\n",
       " 'AssayBuffer': 0,\n",
       " 'DPBS': 0}"
      ]
     },
     "execution_count": 185,
     "metadata": {},
     "output_type": "execute_result"
    }
   ],
   "source": [
    "gen_dil.used_labware_pos"
   ]
  },
  {
   "cell_type": "code",
   "execution_count": 125,
   "metadata": {},
   "outputs": [
    {
     "data": {
      "text/plain": [
       "2"
      ]
     },
     "execution_count": 125,
     "metadata": {},
     "output_type": "execute_result"
    }
   ],
   "source": [
    "gen_dil.next_labware_pos(utils.LabwareNames[\"Falcon50\"])"
   ]
  },
  {
   "cell_type": "markdown",
   "metadata": {},
   "source": [
    "### VOLUME TRANSFER"
   ]
  },
  {
   "cell_type": "code",
   "execution_count": 51,
   "metadata": {},
   "outputs": [],
   "source": [
    "import VolumeTransfer\n",
    "from importlib import reload\n",
    "from utils import *"
   ]
  },
  {
   "cell_type": "code",
   "execution_count": 49,
   "metadata": {},
   "outputs": [],
   "source": [
    "reload(VolumeTransfer)\n",
    "vol_tr = VolumeTransfer.VolumeTransfer()"
   ]
  },
  {
   "cell_type": "code",
   "execution_count": null,
   "metadata": {},
   "outputs": [],
   "source": [
    "VolumeTransfer.dilution_position_def()"
   ]
  },
  {
   "cell_type": "code",
   "execution_count": null,
   "metadata": {},
   "outputs": [],
   "source": [
    "vol_tr.sample_lw_origin = \"Eppendorf\"\n",
    "vol_tr.n_samples = 3\n",
    "vol_tr.sample_lw_dest = \"DeepWell\"\n",
    "vol_tr.n_sample_repetitions = 4\n",
    "vol_tr.volume_transfered = 50\n",
    "vol_tr.used_labware_pos = dict.fromkeys(vol_tr.used_labware_pos, 0) # reset dict\n",
    "\n",
    "vol_tr.volume_transfer()"
   ]
  },
  {
   "cell_type": "markdown",
   "metadata": {},
   "source": [
    "#### TESTS\n"
   ]
  },
  {
   "cell_type": "code",
   "execution_count": 34,
   "metadata": {},
   "outputs": [],
   "source": [
    "step_types = []\n",
    "\n",
    "step_types.append(\"timer\")\n",
    "\n",
    "\n",
    "step_types.append(\"end\")\n",
    "\n",
    "pd.DataFrame(step_types).to_csv(\"config - step_types.csv\", header=[\"step_type\"], index=False, lineterminator=\";\\n\") # generate CSV file\n"
   ]
  },
  {
   "cell_type": "code",
   "execution_count": 57,
   "metadata": {},
   "outputs": [
    {
     "data": {
      "text/plain": [
       "{'Falcon15': 1,\n",
       " 'Falcon50': 1,\n",
       " 'Eppendorf': 1,\n",
       " 'DeepWell': 1,\n",
       " '_2R_Holder': 1,\n",
       " '_8R_Holder': 1,\n",
       " 'CustomVialHolder': 1,\n",
       " 'AssayBuffer': 1,\n",
       " 'DPBS': 1}"
      ]
     },
     "execution_count": 57,
     "metadata": {},
     "output_type": "execute_result"
    }
   ],
   "source": [
    "val = {lw: 1 for lw in utils.LabwareNames}\n",
    "\n",
    "val\n"
   ]
  },
  {
   "cell_type": "markdown",
   "metadata": {},
   "source": [
    "## Calculate labware type for each reagent based on volumes used in the method"
   ]
  },
  {
   "cell_type": "code",
   "execution_count": 39,
   "metadata": {},
   "outputs": [
    {
     "data": {
      "text/plain": [
       "<module 'utils' from 'c:\\\\Users\\\\DPerez36\\\\OneDrive - JNJ\\\\Documents\\\\tecan_gui\\\\utils.py'>"
      ]
     },
     "execution_count": 39,
     "metadata": {},
     "output_type": "execute_result"
    }
   ],
   "source": [
    "reload(utils)"
   ]
  },
  {
   "cell_type": "code",
   "execution_count": 7,
   "metadata": {},
   "outputs": [],
   "source": [
    "step_types = [\n",
    "                {\"step_type\": \"Transfer volume to wells\", \"volume_amount\": \"200\", \"liquid_type\": \"DPBS\"}, \n",
    "                {\"step_type\": \"Wait timer\", \"wait_timer\": 60},\n",
    "                {\"step_type\": \"Vacuum\"}, \n",
    "                {\"step_type\": \"Transfer volume to wells\", \"volume_amount\": \"100\", \"liquid_type\": \"Coating protein\"}, \n",
    "                {\"step_type\": \"Wait timer\", \"wait_timer\": 480}, \n",
    "                {\"step_type\": \"Vacuum\"}, \n",
    "                {\"step_type\": \"Transfer volume to wells\", \"volume_amount\": \"200\", \"liquid_type\": \"Blocking buffer\"}, \n",
    "                {\"step_type\": \"Wait timer\", \"wait_timer\": 480}, \n",
    "                {\"step_type\": \"Vacuum\"}, \n",
    "                {\"step_type\": \"Transfer volume to wells\", \"volume_amount\": \"100\", \"liquid_type\": \"Pos/Neg control\"}, \n",
    "                {\"step_type\": \"Transfer volume to wells\", \"volume_amount\": \"100\", \"liquid_type\": \"Samples\"}, \n",
    "                {\"step_type\": \"Wait timer\", \"wait_timer\": 600}, \n",
    "                {\"step_type\": \"Vacuum\"}, \n",
    "                {\"step_type\": \"Transfer volume to wells\", \"volume_amount\": \"100\", \"liquid_type\": \"Conjugate\"}, \n",
    "                {\"step_type\": \"Wait timer\", \"wait_timer\": 480}, \n",
    "                {\"step_type\": \"Vacuum\"}, \n",
    "                {\"step_type\": \"Transfer volume to wells\", \"volume_amount\": \"200\", \"liquid_type\": \"DPBS\"}, \n",
    "                {\"step_type\": \"Wait timer\", \"wait_timer\": 60}, \n",
    "                {\"step_type\": \"Vacuum\"},  \n",
    "                {\"step_type\": \"Transfer volume to wells\", \"volume_amount\": \"200\", \"liquid_type\": \"DPBS\"}, \n",
    "                {\"step_type\": \"Wait timer\", \"wait_timer\": 60}, \n",
    "                {\"step_type\": \"Vacuum\"},  \n",
    "                {\"step_type\": \"Transfer volume to wells\", \"volume_amount\": \"200\", \"liquid_type\": \"DPBS\"}, \n",
    "                {\"step_type\": \"Wait timer\", \"wait_timer\": 60}, \n",
    "                {\"step_type\": \"Vacuum\"}]\n",
    "\n",
    "REAGENTS = [\"samples\", \"pos_ctr\", \"neg_ctr\", \"dpbs\", \"conjugate\", \"blocking_buffer\", \"coating_protein\"]\n",
    "n_samples = 4"
   ]
  },
  {
   "cell_type": "code",
   "execution_count": null,
   "metadata": {},
   "outputs": [],
   "source": [
    "def calculate_total_volumes(step_types):\n",
    "    total_volume = {}\n",
    "\n",
    "    for step in step_types:\n",
    "        if step[\"step_type\"] == \"Transfer volume to wells\":\n",
    "            if step[\"liquid_type\"] not in total_volume:\n",
    "                total_volume[step[\"liquid_type\"]] = 0 # create key\n",
    "            \n",
    "            total_volume[step[\"liquid_type\"]] = total_volume[step[\"liquid_type\"]] + float(step[\"volume_amount\"])/1000 # because volume amount is in uL and we want it in mL\n",
    "\n",
    "    # del(total_volume[\"Pos/Neg control\"]) # remove this key because it is not needed\n",
    "    total_volume[\"Pos_ctr\"] = total_volume.pop(\"Pos/Neg control\") # change name of key\n",
    "    total_volume[\"Neg_ctr\"] = total_volume[\"Pos_ctr\"] # copy the value into a new key\n",
    "\n",
    "    # multiply by number of samples\n",
    "    for key in total_volume:\n",
    "        total_volume[key] *= n_samples\n",
    "        total_volume[key] *= 3 # because each sample is triplicated (placed in 3 wells)\n",
    "        total_volume[key] = round(total_volume[key], 2)\n",
    "\n",
    "\n",
    "    pos_ctr_sample_vol = round(pos_control_dilution_data[\"Sample volume\"].sum(), 1)\n",
    "    neg_ctr_sample_vol = round(neg_control_dilution_data[\"Sample volume\"].sum(), 1)\n",
    "    buffer_vol = round(pos_control_dilution_data[\"Assay buffer volume\"].sum(), 2) + round(neg_control_dilution_data[\"Assay buffer volume\"].sum(), 2)\n",
    "    \n",
    "    total_volume[\"Pos_ctr\"] = total_volume[\"Pos_ctr\"] + pos_ctr_vol\n",
    "    total_volume[\"Neg_ctr\"] = total_volume[\"Neg_ctr\"] + neg_ctr_vol\n",
    "    # if buffer type is DPBS or Assay buffer, choose correct key name\n",
    "    buffer_type = \"DPBS\"\n",
    "    total_volume[buffer_type] = total_volume[buffer_type] + buffer_vol"
   ]
  },
  {
   "cell_type": "code",
   "execution_count": 15,
   "metadata": {},
   "outputs": [
    {
     "data": {
      "text/plain": [
       "{'DPBS': 0.8,\n",
       " 'Coating protein': 0.1,\n",
       " 'Blocking buffer': 0.2,\n",
       " 'Samples': 0.1,\n",
       " 'Conjugate': 0.1,\n",
       " 'Pos_ctr': 0.1,\n",
       " 'Neg_ctr': 0.1}"
      ]
     },
     "execution_count": 15,
     "metadata": {},
     "output_type": "execute_result"
    }
   ],
   "source": [
    "total_volume = {}\n",
    "\n",
    "for step in step_types:\n",
    "    if step[\"step_type\"] == \"Transfer volume to wells\":\n",
    "        if step[\"liquid_type\"] not in total_volume:\n",
    "            total_volume[step[\"liquid_type\"]] = 0 # create key\n",
    "        \n",
    "        total_volume[step[\"liquid_type\"]] = total_volume[step[\"liquid_type\"]] + float(step[\"volume_amount\"])/1000 # because volume amount is in uL and we want it in mL\n",
    "\n",
    "# del(total_volume[\"Pos/Neg control\"]) # remove this key because it is not needed\n",
    "total_volume[\"Pos_ctr\"] = total_volume.pop(\"Pos/Neg control\") # change name of key\n",
    "total_volume[\"Neg_ctr\"] = total_volume[\"Pos_ctr\"] # copy the value into a new key\n",
    "\n",
    "total_volume"
   ]
  },
  {
   "cell_type": "code",
   "execution_count": 16,
   "metadata": {},
   "outputs": [
    {
     "data": {
      "text/plain": [
       "{'DPBS': 9.6,\n",
       " 'Coating protein': 1.2,\n",
       " 'Blocking buffer': 2.4,\n",
       " 'Samples': 1.2,\n",
       " 'Conjugate': 1.2,\n",
       " 'Pos_ctr': 1.2,\n",
       " 'Neg_ctr': 1.2}"
      ]
     },
     "execution_count": 16,
     "metadata": {},
     "output_type": "execute_result"
    }
   ],
   "source": [
    "for key in total_volume:\n",
    "    total_volume[key] *= n_samples\n",
    "    total_volume[key] *= 3 # because each sample is triplicated (placed in 3 wells)\n",
    "    total_volume[key] = round(total_volume[key], 2)\n",
    "\n",
    "total_volume"
   ]
  },
  {
   "cell_type": "code",
   "execution_count": 20,
   "metadata": {},
   "outputs": [],
   "source": [
    "def calculate_pos_neg_ctr_volumes(pos_control_dilution_data: dict, neg_control_dilution_data: dict) -> tuple:\n",
    "    pos_ctr_sample_vol = round(pos_control_dilution_data[\"Sample volume\"].sum(), 1)\n",
    "    neg_ctr_sample_vol = round(neg_control_dilution_data[\"Sample volume\"].sum(), 1)\n",
    "    buffer_vol = round(pos_control_dilution_data[\"Assay buffer volume\"].sum(), 2) + round(neg_control_dilution_data[\"Assay buffer volume\"].sum(), 2)\n",
    "\n",
    "    return (pos_ctr_sample_vol, neg_ctr_sample_vol, buffer_vol)\n"
   ]
  },
  {
   "cell_type": "code",
   "execution_count": 21,
   "metadata": {},
   "outputs": [],
   "source": [
    "pos_ctr_vol, neg_ctr_vol, buffer_vol = calculate_pos_neg_ctr_volumes(pos_control_dilution_data, neg_control_dilution_data)"
   ]
  },
  {
   "cell_type": "code",
   "execution_count": 22,
   "metadata": {},
   "outputs": [
    {
     "data": {
      "text/plain": [
       "{'DPBS': 8771.74,\n",
       " 'Coating protein': 1.2,\n",
       " 'Blocking buffer': 2.4,\n",
       " 'Samples': 1.2,\n",
       " 'Conjugate': 1.2,\n",
       " 'Pos_ctr': 81.2,\n",
       " 'Neg_ctr': 81.2}"
      ]
     },
     "execution_count": 22,
     "metadata": {},
     "output_type": "execute_result"
    }
   ],
   "source": [
    "total_volume[\"Pos_ctr\"] = total_volume[\"Pos_ctr\"] + pos_ctr_vol\n",
    "total_volume[\"Neg_ctr\"] = total_volume[\"Neg_ctr\"] + neg_ctr_vol\n",
    "# if buffer type is DPBS or Assay buffer, choose correct key name\n",
    "buffer_type = \"DPBS\"\n",
    "total_volume[buffer_type] = total_volume[buffer_type] + buffer_vol\n",
    "\n",
    "total_volume"
   ]
  },
  {
   "cell_type": "code",
   "execution_count": 83,
   "metadata": {},
   "outputs": [],
   "source": [
    "def find_best_container(volumes_dict, containers_dict):\n",
    "    result = {}\n",
    "    \n",
    "    for item, volume_needed in volumes_dict.items():\n",
    "        best_container = None\n",
    "        best_sum = float('inf')\n",
    "        \n",
    "        for container, (vol, cap) in containers_dict.items():\n",
    "            if volume_needed <= cap - vol:\n",
    "                current_sum = vol + cap\n",
    "                if current_sum < best_sum:\n",
    "                    best_sum = current_sum\n",
    "                    best_container = container\n",
    "        \n",
    "        if best_container:\n",
    "            result[item] = best_container\n",
    "        else:\n",
    "            result[item] = \"No suitable container\"\n",
    "    \n",
    "    return result"
   ]
  },
  {
   "cell_type": "code",
   "execution_count": 87,
   "metadata": {},
   "outputs": [],
   "source": [
    "def find_best_container(reagents_vol_dict: dict, labware_dict: dict):\n",
    "    \"\"\"\n",
    "    Assigns the best labware type for each reagent considering the volume needed.\n",
    "    \"\"\"\n",
    "\n",
    "    result = {}\n",
    "    \n",
    "    for item, volume_needed in reagents_vol_dict.items():\n",
    "        best_container = None\n",
    "        best_sum = float('inf')\n",
    "        \n",
    "        for labware, (dead_vol, max_vol) in labware_dict.items():\n",
    "            if volume_needed <= max_vol - dead_vol:\n",
    "                current_sum = max_vol - dead_vol\n",
    "                if current_sum < best_sum:\n",
    "                    best_sum = current_sum\n",
    "                    best_container = labware\n",
    "        \n",
    "        if best_container:\n",
    "            result[item] = best_container\n",
    "        else:\n",
    "            result[item] = \"VOLUME TOO BIG\"\n",
    "    \n",
    "    return result"
   ]
  },
  {
   "cell_type": "code",
   "execution_count": 97,
   "metadata": {},
   "outputs": [
    {
     "data": {
      "text/plain": [
       "{'DPBS': 'Falcon15',\n",
       " 'Coating protein': 'Eppendorf',\n",
       " 'Blocking buffer': 'Falcon15',\n",
       " 'Pos/Neg control': 'Eppendorf',\n",
       " 'Samples': 'Eppendorf',\n",
       " 'Conjugate': 'VOLUME TOO BIG'}"
      ]
     },
     "execution_count": 97,
     "metadata": {},
     "output_type": "execute_result"
    }
   ],
   "source": [
    "total_volume[\"Conjugate\"] = 14201\n",
    "\n",
    "find_best_container(total_volume, LABWARE_INFO)"
   ]
  },
  {
   "cell_type": "code",
   "execution_count": 48,
   "metadata": {},
   "outputs": [
    {
     "data": {
      "text/plain": [
       "'Eppendorf'"
      ]
     },
     "execution_count": 48,
     "metadata": {},
     "output_type": "execute_result"
    }
   ],
   "source": [
    "utils.find_best_container(0.2, utils.LABWARE_INFO)"
   ]
  },
  {
   "cell_type": "code",
   "execution_count": 49,
   "metadata": {},
   "outputs": [
    {
     "data": {
      "text/plain": [
       "<module 'utils' from 'c:\\\\Users\\\\DPerez36\\\\OneDrive - JNJ\\\\Documents\\\\tecan_gui\\\\utils.py'>"
      ]
     },
     "execution_count": 49,
     "metadata": {},
     "output_type": "execute_result"
    }
   ],
   "source": [
    "reload(utils)"
   ]
  }
 ],
 "metadata": {
  "kernelspec": {
   "display_name": "Python 3",
   "language": "python",
   "name": "python3"
  },
  "language_info": {
   "codemirror_mode": {
    "name": "ipython",
    "version": 3
   },
   "file_extension": ".py",
   "mimetype": "text/x-python",
   "name": "python",
   "nbconvert_exporter": "python",
   "pygments_lexer": "ipython3",
   "version": "3.10.4"
  }
 },
 "nbformat": 4,
 "nbformat_minor": 2
}
