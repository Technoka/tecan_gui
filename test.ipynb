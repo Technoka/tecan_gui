{
 "cells": [
  {
   "cell_type": "code",
   "execution_count": 2,
   "metadata": {},
   "outputs": [],
   "source": [
    "import pandas as pd\n",
    "import numpy as np\n",
    "import utils\n",
    "import Dotblot\n",
    "import GeneralDilution\n",
    "\n",
    "from importlib import reload\n",
    "import os\n",
    "import re\n",
    "import json"
   ]
  },
  {
   "cell_type": "code",
   "execution_count": 14,
   "metadata": {},
   "outputs": [
    {
     "name": "stdout",
     "output_type": "stream",
     "text": [
      "yesssssss\n"
     ]
    }
   ],
   "source": [
    "a = \"test\"\n",
    "b = 2\n",
    "\n",
    "if a == \"test\" and (b == 2 or b == 3):\n",
    "    print(\"yesssssss\")"
   ]
  },
  {
   "cell_type": "code",
   "execution_count": 7,
   "metadata": {},
   "outputs": [
    {
     "data": {
      "text/plain": [
       "(array(['Pos_Ctr_Vial[003]', 'Pos_Ctr_Vial[004]'], dtype='<U32'),\n",
       " array([1, 1]))"
      ]
     },
     "execution_count": 7,
     "metadata": {},
     "output_type": "execute_result"
    }
   ],
   "source": [
    "utils.dilution_position_def(\"Pos_Ctr_Vial\", 3, 2)"
   ]
  },
  {
   "cell_type": "markdown",
   "metadata": {},
   "source": [
    "### dotblot"
   ]
  },
  {
   "cell_type": "code",
   "execution_count": 1,
   "metadata": {},
   "outputs": [
    {
     "ename": "NameError",
     "evalue": "name 'reload' is not defined",
     "output_type": "error",
     "traceback": [
      "\u001b[1;31m---------------------------------------------------------------------------\u001b[0m",
      "\u001b[1;31mNameError\u001b[0m                                 Traceback (most recent call last)",
      "Cell \u001b[1;32mIn[1], line 1\u001b[0m\n\u001b[1;32m----> 1\u001b[0m \u001b[43mreload\u001b[49m(utils)\n\u001b[0;32m      2\u001b[0m reload(Dotblot)\n\u001b[0;32m      3\u001b[0m dotblot_method \u001b[38;5;241m=\u001b[39m Dotblot\u001b[38;5;241m.\u001b[39mDotblotMethod()\n",
      "\u001b[1;31mNameError\u001b[0m: name 'reload' is not defined"
     ]
    }
   ],
   "source": [
    "reload(utils)\n",
    "reload(Dotblot)\n",
    "dotblot_method = Dotblot.DotblotMethod()\n",
    "\n",
    "normal_dotblot_file = r\"L:/Departements/BTDS_AD/002_AFFS/Lab Automation/09. Tecan/06. DotBlot_automation_DPP/DotBlot automation dilution data.xlsx\"\n",
    "_2_coating_dotblot_file = r\"L:/Departements/BTDS_AD/002_AFFS/Lab Automation/09. Tecan/06. DotBlot_automation_DPP/DotBlot automation dilution data - 2 coating.xlsx\"\n",
    "\n",
    "# data = utils.import_excel_dotblot(normal_dotblot_file)\n",
    "data = utils.import_excel_dotblot_2_coating(_2_coating_dotblot_file)\n",
    "sample_dilution_data = data[0]\n",
    "coating_protein_dilution_data = data[1]\n",
    "pos_control_dilution_data = data[2]\n",
    "neg_control_dilution_data = data[3]"
   ]
  },
  {
   "cell_type": "code",
   "execution_count": 26,
   "metadata": {},
   "outputs": [
    {
     "data": {
      "text/html": [
       "<div>\n",
       "<style scoped>\n",
       "    .dataframe tbody tr th:only-of-type {\n",
       "        vertical-align: middle;\n",
       "    }\n",
       "\n",
       "    .dataframe tbody tr th {\n",
       "        vertical-align: top;\n",
       "    }\n",
       "\n",
       "    .dataframe thead th {\n",
       "        text-align: right;\n",
       "    }\n",
       "</style>\n",
       "<table border=\"1\" class=\"dataframe\">\n",
       "  <thead>\n",
       "    <tr style=\"text-align: right;\">\n",
       "      <th></th>\n",
       "      <th>Dilution step</th>\n",
       "      <th>Initial concentration</th>\n",
       "      <th>Withdrawn volume</th>\n",
       "      <th>Final concentration</th>\n",
       "      <th>Assay buffer volume</th>\n",
       "      <th>Sample volume</th>\n",
       "      <th>Final Volume</th>\n",
       "    </tr>\n",
       "  </thead>\n",
       "  <tbody>\n",
       "    <tr>\n",
       "      <th>20</th>\n",
       "      <td>1</td>\n",
       "      <td>10.2</td>\n",
       "      <td>6</td>\n",
       "      <td>0.08</td>\n",
       "      <td>759.0</td>\n",
       "      <td>6</td>\n",
       "      <td>765.0</td>\n",
       "    </tr>\n",
       "    <tr>\n",
       "      <th>21</th>\n",
       "      <td>2</td>\n",
       "      <td>0.08</td>\n",
       "      <td>10</td>\n",
       "      <td>0.002</td>\n",
       "      <td>390</td>\n",
       "      <td>10</td>\n",
       "      <td>400</td>\n",
       "    </tr>\n",
       "  </tbody>\n",
       "</table>\n",
       "</div>"
      ],
      "text/plain": [
       "   Dilution step Initial concentration Withdrawn volume Final concentration  \\\n",
       "20             1                  10.2                6                0.08   \n",
       "21             2                  0.08               10               0.002   \n",
       "\n",
       "   Assay buffer volume Sample volume Final Volume  \n",
       "20               759.0             6        765.0  \n",
       "21                 390            10          400  "
      ]
     },
     "execution_count": 26,
     "metadata": {},
     "output_type": "execute_result"
    }
   ],
   "source": [
    "pos_control_dilution_data[0]"
   ]
  },
  {
   "cell_type": "code",
   "execution_count": 27,
   "metadata": {},
   "outputs": [
    {
     "data": {
      "text/html": [
       "<div>\n",
       "<style scoped>\n",
       "    .dataframe tbody tr th:only-of-type {\n",
       "        vertical-align: middle;\n",
       "    }\n",
       "\n",
       "    .dataframe tbody tr th {\n",
       "        vertical-align: top;\n",
       "    }\n",
       "\n",
       "    .dataframe thead th {\n",
       "        text-align: right;\n",
       "    }\n",
       "</style>\n",
       "<table border=\"1\" class=\"dataframe\">\n",
       "  <thead>\n",
       "    <tr style=\"text-align: right;\">\n",
       "      <th></th>\n",
       "      <th>Dilution step</th>\n",
       "      <th>Initial concentration</th>\n",
       "      <th>Withdrawn volume</th>\n",
       "      <th>Final concentration</th>\n",
       "      <th>Assay buffer volume</th>\n",
       "      <th>Sample volume</th>\n",
       "      <th>Final Volume</th>\n",
       "    </tr>\n",
       "  </thead>\n",
       "  <tbody>\n",
       "    <tr>\n",
       "      <th>27</th>\n",
       "      <td>1</td>\n",
       "      <td>10.2</td>\n",
       "      <td>6</td>\n",
       "      <td>0.08</td>\n",
       "      <td>759.0</td>\n",
       "      <td>6</td>\n",
       "      <td>765.0</td>\n",
       "    </tr>\n",
       "    <tr>\n",
       "      <th>28</th>\n",
       "      <td>2</td>\n",
       "      <td>0.08</td>\n",
       "      <td>10</td>\n",
       "      <td>0.002</td>\n",
       "      <td>390</td>\n",
       "      <td>10</td>\n",
       "      <td>400</td>\n",
       "    </tr>\n",
       "    <tr>\n",
       "      <th>29</th>\n",
       "      <td>3</td>\n",
       "      <td>0.002</td>\n",
       "      <td>100</td>\n",
       "      <td>0.0002</td>\n",
       "      <td>900</td>\n",
       "      <td>100</td>\n",
       "      <td>1000</td>\n",
       "    </tr>\n",
       "  </tbody>\n",
       "</table>\n",
       "</div>"
      ],
      "text/plain": [
       "   Dilution step Initial concentration Withdrawn volume Final concentration  \\\n",
       "27             1                  10.2                6                0.08   \n",
       "28             2                  0.08               10               0.002   \n",
       "29             3                 0.002              100              0.0002   \n",
       "\n",
       "   Assay buffer volume Sample volume Final Volume  \n",
       "27               759.0             6        765.0  \n",
       "28                 390            10          400  \n",
       "29                 900           100         1000  "
      ]
     },
     "execution_count": 27,
     "metadata": {},
     "output_type": "execute_result"
    }
   ],
   "source": [
    "pos_control_dilution_data[1]"
   ]
  },
  {
   "cell_type": "code",
   "execution_count": 52,
   "metadata": {},
   "outputs": [
    {
     "name": "stdout",
     "output_type": "stream",
     "text": [
      "pos dilutions done: [[1], [2]]\n",
      "negative ctr eppendorf pos: [[3], [4]]\n",
      "sample eppendorf pos: [[6], [7]]\n",
      "calculated pump labware positions\n",
      "transfer volume instruction  1 done\n",
      "transfer volume instruction  2 done\n",
      "transfer volume instruction  3 done\n",
      "Dye and wash files generated.\n",
      "generated all GWL files\n"
     ]
    },
    {
     "data": {
      "text/plain": [
       "([[1], [2]], [[3], [4]], [[6], [7]])"
      ]
     },
     "execution_count": 52,
     "metadata": {},
     "output_type": "execute_result"
    }
   ],
   "source": [
    "reload(Dotblot)\n",
    "dotblot_method = Dotblot.DotblotMethod(debug=False)\n",
    "\n",
    "# Reset parameters\n",
    "\n",
    "dotblot_method.last_eppendorf_pos = 1\n",
    "dotblot_method.last_deep_well_pos = 1\n",
    "\n",
    "dotblot_method.n_pos_control_steps = len(pos_control_dilution_data[0][\"Assay buffer volume\"])\n",
    "dotblot_method.n_neg_control_steps = len(neg_control_dilution_data[0][\"Assay buffer volume\"])\n",
    "dotblot_method.sample_dilution_data = [sample_dilution_data[i].to_dict(orient=\"list\") for i in range(len(sample_dilution_data))]\n",
    "dotblot_method.pos_control_dilution_data = [pos_control_dilution_data[i].to_dict(orient=\"list\") for i in range(len(pos_control_dilution_data))]\n",
    "dotblot_method.neg_control_dilution_data = [neg_control_dilution_data[i].to_dict(orient=\"list\") for i in range(len(neg_control_dilution_data))]\n",
    "dotblot_method.pos_control_vial_posX = 1\n",
    "dotblot_method.pos_control_vial_posY = 1\n",
    "dotblot_method.main_sample_labware_type = \"FakeFalcon15\"\n",
    "dotblot_method.main_sample_dil_destination = \"DeepWell\"\n",
    "dotblot_method.n_samples_main_dilution = 1\n",
    "dotblot_method.n_sample_dilution_steps = len(sample_dilution_data[0][\"Assay buffer volume\"])\n",
    "dotblot_method.pump_steps_data = [\n",
    "                        {\"step_type\": \"Transfer volume to wells\", \"volume_amount\": \"100\", \"liquid_type\": \"Coating protein\"}, \n",
    "                        {\"step_type\": \"Transfer volume to wells\", \"volume_amount\": \"100\", \"liquid_type\": \"Pos/Neg control\"}, \n",
    "                        {\"step_type\": \"Transfer volume to wells\", \"volume_amount\": \"100\", \"liquid_type\": \"Samples\"}\n",
    "                    ]\n",
    "\n",
    "dotblot_method.dotblot()"
   ]
  },
  {
   "cell_type": "code",
   "execution_count": null,
   "metadata": {},
   "outputs": [],
   "source": [
    "csv_path = r'L:\\Departements\\BTDS_AD\\002_AFFS\\Lab Automation\\09. Tecan\\01. Methods\\3. DotBlot\\2. Positive control.csv'\n",
    "\n",
    "mix_data = []\n",
    "labware_name = \"Custom holder[001]\"\n",
    "labware_pos = 1\n",
    "volume = 300\n",
    "\n",
    "for i in range(3):\n",
    "    mix_data.append([labware_name, labware_pos, labware_name, labware_pos, volume])\n",
    "\n",
    "mix_data\n",
    "mix_csv = pd.DataFrame(mix_data, columns=None)\n",
    "mix_csv\n",
    "\n",
    "original_csv = pd.read_csv(csv_path, header=None) # create dataframe from original CSV file\n",
    "final_csv = pd.concat([original_csv, mix_csv], ignore_index=True) # concatenate both dataframes into one\n",
    "final_csv.to_csv(csv_path, index=False, header=False)"
   ]
  },
  {
   "cell_type": "code",
   "execution_count": null,
   "metadata": {},
   "outputs": [],
   "source": [
    "pump_step_data_simple = [{'step_type': 'Transfer volume to wells', 'volume_amount': '100', 'liquid_type': 'DPBS', 'wells_type': 'All wells'}, {'step_type': 'Vacuum'}, {'step_type': 'Wait timer', 'wait_timer': 10.0}]\n",
    "pump_step_data = [{'step_type': 'Transfer volume to wells', 'volume_amount': '100', 'liquid_type': 'Samples', 'wells_type': 'All wells'}, {'step_type': 'Vacuum'}, {'step_type': 'Transfer volume to wells', 'volume_amount': '100', 'liquid_type': 'Coating protein', 'wells_type': 'All wells'}, {'step_type': 'Wait timer', 'wait_timer': 10.0}, {'step_type': 'Vacuum'}, {'step_type': 'Transfer volume to wells', 'volume_amount': '200', 'liquid_type': 'Blocking buffer', 'wells_type': 'All wells'}, {'step_type': 'Wait timer', 'wait_timer': 10.0}, {'step_type': 'Vacuum'}, {'step_type': 'Transfer volume to wells', 'volume_amount': '100', 'liquid_type': 'Pos/Neg control', 'wells_type': 'Only samples'}, {'step_type': 'Vacuum'}, {'step_type': 'Transfer volume to wells', 'volume_amount': '100', 'liquid_type': 'Conjugate', 'wells_type': 'All wells'}, {'step_type': 'Wait timer', 'wait_timer': 10.0}, {'step_type': 'Vacuum'}, {'step_type': 'Transfer volume to wells', 'volume_amount': '200', 'liquid_type': 'DPBS', 'wells_type': 'All wells'}, {'step_type': 'Wait timer', 'wait_timer': 5.0}, {'step_type': 'Transfer volume to wells', 'volume_amount': '200', 'liquid_type': 'DPBS', 'wells_type': 'All wells'}, {'step_type': 'Wait timer', 'wait_timer': 5.0}, {'step_type': 'Transfer volume to wells', 'volume_amount': '200', 'liquid_type': 'DPBS', 'wells_type': 'All wells'}, {'step_type': 'Wait timer', 'wait_timer': 5.0}, {'step_type': 'Vacuum'}]\n",
    "\n",
    "pump_step_data"
   ]
  },
  {
   "cell_type": "markdown",
   "metadata": {},
   "source": [
    "### For Dotblot first try for TV-TMD-35372"
   ]
  },
  {
   "cell_type": "code",
   "execution_count": null,
   "metadata": {},
   "outputs": [],
   "source": [
    "steps = [\n",
    "         {'step_type': 'Transfer volume to wells', 'volume_amount': '200', 'liquid_type': 'DPBS'}, \n",
    "         {'step_type': 'Wait timer', 'wait_timer': 60}, {'step_type': 'Vacuum'}, \n",
    "         {'step_type': 'Transfer volume to wells', 'volume_amount': '100', 'liquid_type': 'Coating protein'}, \n",
    "         {'step_type': 'Wait timer', 'wait_timer': 480}, \n",
    "         {'step_type': 'Vacuum'}, \n",
    "         {'step_type': 'Transfer volume to wells', 'volume_amount': '200', 'liquid_type': 'Blocking buffer'}, \n",
    "         {'step_type': 'Wait timer', 'wait_timer': 480}, \n",
    "         {'step_type': 'Vacuum'}, \n",
    "         {'step_type': 'Transfer volume to wells', 'volume_amount': '100', 'liquid_type': 'Pos/Neg control'}, \n",
    "         {'step_type': 'Transfer volume to wells', 'volume_amount': '100', 'liquid_type': 'Samples'}, \n",
    "         {'step_type': 'Wait timer', 'wait_timer': 600}, \n",
    "         {'step_type': 'Vacuum'}, \n",
    "         {'step_type': 'Transfer volume to wells', 'volume_amount': '100', 'liquid_type': 'Conjugate'}, \n",
    "         {'step_type': 'Wait timer', 'wait_timer': 480}, \n",
    "         {'step_type': 'Vacuum'}, \n",
    "         {'step_type': 'Transfer volume to wells', 'volume_amount': '200', 'liquid_type': 'DPBS'}, \n",
    "         {'step_type': 'Wait timer', 'wait_timer': 60}, \n",
    "         {'step_type': 'Vacuum'},  \n",
    "         {'step_type': 'Transfer volume to wells', 'volume_amount': '200', 'liquid_type': 'DPBS'}, \n",
    "         {'step_type': 'Wait timer', 'wait_timer': 60}, \n",
    "         {'step_type': 'Vacuum'},  \n",
    "         {'step_type': 'Transfer volume to wells', 'volume_amount': '200', 'liquid_type': 'DPBS'}, \n",
    "         {'step_type': 'Wait timer', 'wait_timer': 60}, \n",
    "         {'step_type': 'Vacuum'}\n",
    "]\n",
    "\n",
    "steps"
   ]
  },
  {
   "cell_type": "code",
   "execution_count": null,
   "metadata": {},
   "outputs": [],
   "source": [
    "dotblot_method.pump_steps_data = pump_step_data\n",
    "dotblot_method.sample_eppendorf_positions = [3,4,5,6]\n",
    "\n",
    "dotblot_method.generate_pump_step_instruction_files()"
   ]
  },
  {
   "cell_type": "code",
   "execution_count": null,
   "metadata": {},
   "outputs": [],
   "source": [
    "dotblot_method.transfer_volume_to_wells(dotblot_method.dpbs_lw_name, \"96 Deep Well[001]\", 100)"
   ]
  },
  {
   "cell_type": "markdown",
   "metadata": {},
   "source": [
    "#### GENERAL DILUTION TESTS"
   ]
  },
  {
   "cell_type": "code",
   "execution_count": null,
   "metadata": {},
   "outputs": [],
   "source": [
    "reload(utils)\n",
    "reload(GeneralDilution)\n",
    "\n",
    "gen_dil = GeneralDilution.GeneralDilution()"
   ]
  },
  {
   "cell_type": "code",
   "execution_count": null,
   "metadata": {},
   "outputs": [],
   "source": [
    "sample_dilution_data = {'Dilution step': [1.0, 2.0, 3.0], 'Initial concentration': [150.0, 0.7, 0.003], 'Withdrawn volume': [4.0, 4.0, 30.0], 'Final concentration': [0.7, 0.003, 0.0001], 'Assay buffer volume': [853.1428571428572, 929.3333333333333, 869.9999999999999], 'Sample volume': [4.0, 4.0, 30.0], 'Final Volume': [857.1428571428572, 933.3333333333333, 899.9999999999999]}\n",
    "gen_dil.sample_dilution_data = sample_dilution_data\n",
    "gen_dil.n_sample_dilution_steps = len(gen_dil.sample_dilution_data[\"Assay buffer volume\"])\n",
    "gen_dil.n_samples = 7\n",
    "gen_dil.buffer_type = \"DPBS\"\n",
    "gen_dil.sample_lw_origin = \"Falcon15\"\n",
    "gen_dil.sample_lw_dest = \"2R Vial\"\n",
    "gen_dil.used_labware_pos = dict.fromkeys(gen_dil.last_labware_pos, 0)"
   ]
  },
  {
   "cell_type": "code",
   "execution_count": null,
   "metadata": {},
   "outputs": [],
   "source": [
    "gen_dil.general_dilution()"
   ]
  },
  {
   "cell_type": "code",
   "execution_count": null,
   "metadata": {},
   "outputs": [],
   "source": [
    "gen_dil.used_labware_pos"
   ]
  },
  {
   "cell_type": "code",
   "execution_count": null,
   "metadata": {},
   "outputs": [],
   "source": [
    "gen_dil.next_labware_pos(utils.LabwareNames[\"Falcon50\"])"
   ]
  },
  {
   "cell_type": "markdown",
   "metadata": {},
   "source": [
    "### VOLUME TRANSFER"
   ]
  },
  {
   "cell_type": "code",
   "execution_count": null,
   "metadata": {},
   "outputs": [],
   "source": [
    "import VolumeTransfer\n",
    "from importlib import reload\n",
    "from utils import *"
   ]
  },
  {
   "cell_type": "code",
   "execution_count": null,
   "metadata": {},
   "outputs": [],
   "source": [
    "reload(VolumeTransfer)\n",
    "reload(utils)\n",
    "vol_tr = VolumeTransfer.VolumeTransfer()"
   ]
  },
  {
   "cell_type": "code",
   "execution_count": null,
   "metadata": {},
   "outputs": [],
   "source": [
    "VolumeTransfer.dilution_position_def()"
   ]
  },
  {
   "cell_type": "code",
   "execution_count": null,
   "metadata": {},
   "outputs": [],
   "source": [
    "vol_tr.sample_lw_origin = \"Eppendorf\"\n",
    "vol_tr.n_samples = 3\n",
    "vol_tr.sample_lw_dest = \"384_Well\"\n",
    "vol_tr.n_sample_repetitions = 4\n",
    "vol_tr.volume_transfered = 20\n",
    "vol_tr.used_labware_pos = dict.fromkeys(vol_tr.used_labware_pos, 0) # reset dict\n",
    "\n",
    "vol_tr.volume_transfer()"
   ]
  },
  {
   "cell_type": "code",
   "execution_count": null,
   "metadata": {},
   "outputs": [],
   "source": [
    "vol_tr.used_labware_pos"
   ]
  },
  {
   "cell_type": "markdown",
   "metadata": {},
   "source": [
    "### Calculate labware type for each reagent based on volumes used in the method"
   ]
  },
  {
   "cell_type": "code",
   "execution_count": null,
   "metadata": {},
   "outputs": [],
   "source": [
    "reload(utils)"
   ]
  },
  {
   "cell_type": "code",
   "execution_count": null,
   "metadata": {},
   "outputs": [],
   "source": [
    "step_types = [\n",
    "                {\"step_type\": \"Transfer volume to wells\", \"volume_amount\": \"200\", \"liquid_type\": \"DPBS\"}, \n",
    "                {\"step_type\": \"Wait timer\", \"wait_timer\": 60},\n",
    "                {\"step_type\": \"Vacuum\"}, \n",
    "                {\"step_type\": \"Transfer volume to wells\", \"volume_amount\": \"100\", \"liquid_type\": \"Coating protein\"}, \n",
    "                {\"step_type\": \"Wait timer\", \"wait_timer\": 480}, \n",
    "                {\"step_type\": \"Vacuum\"}, \n",
    "                {\"step_type\": \"Transfer volume to wells\", \"volume_amount\": \"200\", \"liquid_type\": \"Blocking buffer\"}, \n",
    "                {\"step_type\": \"Wait timer\", \"wait_timer\": 480}, \n",
    "                {\"step_type\": \"Vacuum\"}, \n",
    "                {\"step_type\": \"Transfer volume to wells\", \"volume_amount\": \"100\", \"liquid_type\": \"Pos/Neg control\"}, \n",
    "                {\"step_type\": \"Transfer volume to wells\", \"volume_amount\": \"100\", \"liquid_type\": \"Samples\"}, \n",
    "                {\"step_type\": \"Wait timer\", \"wait_timer\": 600}, \n",
    "                {\"step_type\": \"Vacuum\"}, \n",
    "                {\"step_type\": \"Transfer volume to wells\", \"volume_amount\": \"100\", \"liquid_type\": \"Conjugate\"}, \n",
    "                {\"step_type\": \"Wait timer\", \"wait_timer\": 480}, \n",
    "                {\"step_type\": \"Vacuum\"}, \n",
    "                {\"step_type\": \"Transfer volume to wells\", \"volume_amount\": \"200\", \"liquid_type\": \"DPBS\"}, \n",
    "                {\"step_type\": \"Wait timer\", \"wait_timer\": 60}, \n",
    "                {\"step_type\": \"Vacuum\"},  \n",
    "                {\"step_type\": \"Transfer volume to wells\", \"volume_amount\": \"200\", \"liquid_type\": \"DPBS\"}, \n",
    "                {\"step_type\": \"Wait timer\", \"wait_timer\": 60}, \n",
    "                {\"step_type\": \"Vacuum\"},  \n",
    "                {\"step_type\": \"Transfer volume to wells\", \"volume_amount\": \"200\", \"liquid_type\": \"DPBS\"}, \n",
    "                {\"step_type\": \"Wait timer\", \"wait_timer\": 60}, \n",
    "                {\"step_type\": \"Vacuum\"}]\n",
    "\n",
    "REAGENTS = [\"samples\", \"pos_ctr\", \"neg_ctr\", \"dpbs\", \"conjugate\", \"blocking_buffer\", \"coating_protein\"]\n",
    "n_samples = 4"
   ]
  },
  {
   "cell_type": "code",
   "execution_count": null,
   "metadata": {},
   "outputs": [],
   "source": [
    "def calculate_total_volumes(step_types):\n",
    "    total_volume = {}\n",
    "\n",
    "    for step in step_types:\n",
    "        if step[\"step_type\"] == \"Transfer volume to wells\":\n",
    "            if step[\"liquid_type\"] not in total_volume:\n",
    "                total_volume[step[\"liquid_type\"]] = 0 # create key\n",
    "            \n",
    "            total_volume[step[\"liquid_type\"]] = total_volume[step[\"liquid_type\"]] + float(step[\"volume_amount\"])/1000 # because volume amount is in uL and we want it in mL\n",
    "\n",
    "    # del(total_volume[\"Pos/Neg control\"]) # remove this key because it is not needed\n",
    "    total_volume[\"Pos_ctr\"] = total_volume.pop(\"Pos/Neg control\") # change name of key\n",
    "    total_volume[\"Neg_ctr\"] = total_volume[\"Pos_ctr\"] # copy the value into a new key\n",
    "\n",
    "    # multiply by number of samples\n",
    "    for key in total_volume:\n",
    "        total_volume[key] *= n_samples\n",
    "        total_volume[key] *= 3 # because each sample is triplicated (placed in 3 wells)\n",
    "        total_volume[key] = round(total_volume[key], 2)\n",
    "\n",
    "\n",
    "    pos_ctr_sample_vol = round(pos_control_dilution_data[\"Sample volume\"].sum(), 1)\n",
    "    neg_ctr_sample_vol = round(neg_control_dilution_data[\"Sample volume\"].sum(), 1)\n",
    "    buffer_vol = round(pos_control_dilution_data[\"Assay buffer volume\"].sum(), 2) + round(neg_control_dilution_data[\"Assay buffer volume\"].sum(), 2)\n",
    "    \n",
    "    total_volume[\"Pos_ctr\"] = total_volume[\"Pos_ctr\"] + pos_ctr_vol\n",
    "    total_volume[\"Neg_ctr\"] = total_volume[\"Neg_ctr\"] + neg_ctr_vol\n",
    "    # if buffer type is DPBS or Assay buffer, choose correct key name\n",
    "    buffer_type = \"DPBS\"\n",
    "    total_volume[buffer_type] = total_volume[buffer_type] + buffer_vol"
   ]
  },
  {
   "cell_type": "code",
   "execution_count": null,
   "metadata": {},
   "outputs": [],
   "source": [
    "total_volume = {}\n",
    "\n",
    "for step in step_types:\n",
    "    if step[\"step_type\"] == \"Transfer volume to wells\":\n",
    "        if step[\"liquid_type\"] not in total_volume:\n",
    "            total_volume[step[\"liquid_type\"]] = 0 # create key\n",
    "        \n",
    "        total_volume[step[\"liquid_type\"]] = total_volume[step[\"liquid_type\"]] + float(step[\"volume_amount\"])/1000 # because volume amount is in uL and we want it in mL\n",
    "\n",
    "# del(total_volume[\"Pos/Neg control\"]) # remove this key because it is not needed\n",
    "total_volume[\"Pos_ctr\"] = total_volume.pop(\"Pos/Neg control\") # change name of key\n",
    "total_volume[\"Neg_ctr\"] = total_volume[\"Pos_ctr\"] # copy the value into a new key\n",
    "\n",
    "total_volume"
   ]
  },
  {
   "cell_type": "code",
   "execution_count": null,
   "metadata": {},
   "outputs": [],
   "source": [
    "for key in total_volume:\n",
    "    total_volume[key] *= n_samples\n",
    "    total_volume[key] *= 3 # because each sample is triplicated (placed in 3 wells)\n",
    "    total_volume[key] = round(total_volume[key], 2)\n",
    "\n",
    "total_volume"
   ]
  },
  {
   "cell_type": "code",
   "execution_count": null,
   "metadata": {},
   "outputs": [],
   "source": [
    "def calculate_pos_neg_ctr_volumes(pos_control_dilution_data: dict, neg_control_dilution_data: dict) -> tuple:\n",
    "    pos_ctr_sample_vol = round(pos_control_dilution_data[\"Sample volume\"].sum(), 1)\n",
    "    neg_ctr_sample_vol = round(neg_control_dilution_data[\"Sample volume\"].sum(), 1)\n",
    "    buffer_vol = round(pos_control_dilution_data[\"Assay buffer volume\"].sum(), 2) + round(neg_control_dilution_data[\"Assay buffer volume\"].sum(), 2)\n",
    "\n",
    "    return (pos_ctr_sample_vol, neg_ctr_sample_vol, buffer_vol)\n"
   ]
  },
  {
   "cell_type": "code",
   "execution_count": null,
   "metadata": {},
   "outputs": [],
   "source": [
    "pos_ctr_vol, neg_ctr_vol, buffer_vol = calculate_pos_neg_ctr_volumes(pos_control_dilution_data, neg_control_dilution_data)"
   ]
  },
  {
   "cell_type": "code",
   "execution_count": null,
   "metadata": {},
   "outputs": [],
   "source": [
    "total_volume[\"Pos_ctr\"] = total_volume[\"Pos_ctr\"] + pos_ctr_vol\n",
    "total_volume[\"Neg_ctr\"] = total_volume[\"Neg_ctr\"] + neg_ctr_vol\n",
    "# if buffer type is DPBS or Assay buffer, choose correct key name\n",
    "buffer_type = \"DPBS\"\n",
    "total_volume[buffer_type] = total_volume[buffer_type] + buffer_vol\n",
    "\n",
    "total_volume"
   ]
  },
  {
   "cell_type": "code",
   "execution_count": null,
   "metadata": {},
   "outputs": [],
   "source": [
    "def find_best_container(volumes_dict, containers_dict):\n",
    "    result = {}\n",
    "    \n",
    "    for item, volume_needed in volumes_dict.items():\n",
    "        best_container = None\n",
    "        best_sum = float('inf')\n",
    "        \n",
    "        for container, (vol, cap) in containers_dict.items():\n",
    "            if volume_needed <= cap - vol:\n",
    "                current_sum = vol + cap\n",
    "                if current_sum < best_sum:\n",
    "                    best_sum = current_sum\n",
    "                    best_container = container\n",
    "        \n",
    "        if best_container:\n",
    "            result[item] = best_container\n",
    "        else:\n",
    "            result[item] = \"No suitable container\"\n",
    "    \n",
    "    return result"
   ]
  },
  {
   "cell_type": "code",
   "execution_count": null,
   "metadata": {},
   "outputs": [],
   "source": [
    "def find_best_container(reagents_vol_dict: dict, labware_dict: dict):\n",
    "    \"\"\"\n",
    "    Assigns the best labware type for each reagent considering the volume needed.\n",
    "    \"\"\"\n",
    "\n",
    "    result = {}\n",
    "    \n",
    "    for item, volume_needed in reagents_vol_dict.items():\n",
    "        best_container = None\n",
    "        best_sum = float('inf')\n",
    "        \n",
    "        for labware, (dead_vol, max_vol) in labware_dict.items():\n",
    "            if volume_needed <= max_vol - dead_vol:\n",
    "                current_sum = max_vol - dead_vol\n",
    "                if current_sum < best_sum:\n",
    "                    best_sum = current_sum\n",
    "                    best_container = labware\n",
    "        \n",
    "        if best_container:\n",
    "            result[item] = best_container\n",
    "        else:\n",
    "            result[item] = \"VOLUME TOO BIG\"\n",
    "    \n",
    "    return result"
   ]
  },
  {
   "cell_type": "code",
   "execution_count": null,
   "metadata": {},
   "outputs": [],
   "source": [
    "total_volume[\"Conjugate\"] = 14201\n",
    "\n",
    "find_best_container(total_volume, LABWARE_INFO)"
   ]
  },
  {
   "cell_type": "code",
   "execution_count": null,
   "metadata": {},
   "outputs": [],
   "source": [
    "utils.find_best_container(0.2, utils.LABWARE_INFO)"
   ]
  },
  {
   "cell_type": "code",
   "execution_count": null,
   "metadata": {},
   "outputs": [],
   "source": [
    "reload(utils)"
   ]
  },
  {
   "cell_type": "markdown",
   "metadata": {},
   "source": [
    "### nanoDSF"
   ]
  },
  {
   "cell_type": "code",
   "execution_count": null,
   "metadata": {},
   "outputs": [],
   "source": [
    "import nanoDSF"
   ]
  },
  {
   "cell_type": "code",
   "execution_count": null,
   "metadata": {},
   "outputs": [],
   "source": [
    "reload(nanoDSF)\n",
    "reload(utils)\n",
    "\n",
    "nanomethod = nanoDSF.nanoDSFMethod()"
   ]
  },
  {
   "cell_type": "code",
   "execution_count": null,
   "metadata": {},
   "outputs": [],
   "source": [
    "nanomethod.n_samples = 4 # amount of samples for the sample transfer\n",
    "nanomethod.sample_volume_per_well = 26 # volume (uL) to transfer to each well\n",
    "nanomethod.sample_lw_origin = \"Eppendorf\" # origin labware of samples\n",
    "nanomethod.sample_triplicates = True\n",
    "\n",
    "nanomethod.nanoDSF()"
   ]
  },
  {
   "cell_type": "markdown",
   "metadata": {},
   "source": [
    "### A280"
   ]
  },
  {
   "cell_type": "code",
   "execution_count": null,
   "metadata": {},
   "outputs": [],
   "source": [
    "import A280"
   ]
  },
  {
   "cell_type": "code",
   "execution_count": null,
   "metadata": {},
   "outputs": [],
   "source": [
    "reload(utils)\n",
    "reload(A280)"
   ]
  },
  {
   "cell_type": "code",
   "execution_count": null,
   "metadata": {},
   "outputs": [],
   "source": [
    "utils.find_best_container(10)"
   ]
  },
  {
   "cell_type": "code",
   "execution_count": null,
   "metadata": {},
   "outputs": [],
   "source": [
    "a280_method = A280.A280Method()\n",
    "\n",
    "a280_method.n_samples = 4\n",
    "a280_method.sample_concentration = 150\n",
    "a280_method.sample_lw_origin = \"Falcon15\"\n",
    "\n",
    "a280_method.a280()"
   ]
  },
  {
   "cell_type": "code",
   "execution_count": null,
   "metadata": {},
   "outputs": [],
   "source": [
    "LABWARE_DEAD_VOLUMES"
   ]
  },
  {
   "cell_type": "code",
   "execution_count": null,
   "metadata": {},
   "outputs": [],
   "source": [
    "LABWARE_DEAD_VOLUMES.Eppendorf"
   ]
  },
  {
   "cell_type": "code",
   "execution_count": null,
   "metadata": {},
   "outputs": [],
   "source": [
    "def find_best_container(reagents: dict | float | int):\n",
    "    \"\"\"\n",
    "    Assigns the best labware type for each reagent considering the volume needed.\n",
    "\n",
    "    \"\"\"\n",
    "\n",
    "\n",
    "    if isinstance(reagents, (float | int)):\n",
    "        volume_needed = reagents\n",
    "        best_container = None\n",
    "        best_sum = float('inf')\n",
    "\n",
    "        for labware, (dead_vol, max_vol) in utils.LABWARE_DEAD_VOLUMES.to_dict().items():\n",
    "            if volume_needed <= max_vol - dead_vol:\n",
    "                current_sum = max_vol - dead_vol\n",
    "                if current_sum < best_sum:\n",
    "                    best_sum = current_sum\n",
    "                    best_container = labware\n",
    "\n",
    "        if best_container:\n",
    "            return best_container\n",
    "        else:\n",
    "            return \"VOLUME TOO BIG\"\n",
    "\n",
    "    if isinstance(reagents, dict):\n",
    "        result = {}\n",
    "        \n",
    "        for item, volume_needed in reagents.items():\n",
    "            best_container = None\n",
    "            best_sum = float('inf')\n",
    "            \n",
    "            for labware, (dead_vol, max_vol) in utils.LABWARE_DEAD_VOLUMES.to_dict().items():\n",
    "                if volume_needed <= max_vol - dead_vol:\n",
    "                    current_sum = max_vol - dead_vol\n",
    "                    if current_sum < best_sum:\n",
    "                        best_sum = current_sum\n",
    "                        best_container = labware\n",
    "            \n",
    "            if best_container:\n",
    "                result[item] = best_container\n",
    "            else:\n",
    "                result[item] = \"VOLUME TOO BIG\"\n",
    "        \n",
    "        return result"
   ]
  },
  {
   "cell_type": "code",
   "execution_count": null,
   "metadata": {},
   "outputs": [],
   "source": [
    "find_best_container(10)"
   ]
  },
  {
   "cell_type": "markdown",
   "metadata": {},
   "source": [
    "### testssssstststststs"
   ]
  },
  {
   "cell_type": "code",
   "execution_count": null,
   "metadata": {},
   "outputs": [],
   "source": [
    "pos = [i for i in range(1, 10)]"
   ]
  },
  {
   "cell_type": "code",
   "execution_count": null,
   "metadata": {},
   "outputs": [],
   "source": [
    "reload(utils)"
   ]
  },
  {
   "cell_type": "code",
   "execution_count": null,
   "metadata": {},
   "outputs": [],
   "source": [
    "utils.get_deep_well_pos(9, 384, \"horizontal\")"
   ]
  }
 ],
 "metadata": {
  "kernelspec": {
   "display_name": "Python 3",
   "language": "python",
   "name": "python3"
  },
  "language_info": {
   "codemirror_mode": {
    "name": "ipython",
    "version": 3
   },
   "file_extension": ".py",
   "mimetype": "text/x-python",
   "name": "python",
   "nbconvert_exporter": "python",
   "pygments_lexer": "ipython3",
   "version": "3.10.4"
  }
 },
 "nbformat": 4,
 "nbformat_minor": 2
}
